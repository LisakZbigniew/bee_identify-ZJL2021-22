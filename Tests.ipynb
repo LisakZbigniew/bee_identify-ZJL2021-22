{
 "cells": [
  {
   "cell_type": "code",
   "execution_count": 196,
   "id": "38a3af42",
   "metadata": {},
   "outputs": [],
   "source": [
    "import numpy as np\n",
    "import math\n",
    "import matplotlib.pyplot as plt\n",
    "import plotly.express as px\n",
    "import pandas as pd\n",
    "from shapely.ops import MultiPoint, Polygon, Point, voronoi_diagram\n",
    "from pprint import pprint\n",
    "from scipy.spatial import Voronoi,ConvexHull,voronoi_plot_2d"
   ]
  },
  {
   "cell_type": "code",
   "execution_count": 197,
   "metadata": {},
   "outputs": [],
   "source": [
    "SUMATIVE_COLOR_BRIGHTNESS = 300\n",
    "SELECTION_COUNT = 20\n",
    "\n",
    "\n",
    "BUFFER_CODE = \"buffer\"\n",
    "TRIANGLE_CODE = \"triangle\""
   ]
  },
  {
   "cell_type": "code",
   "execution_count": 198,
   "id": "45fa3ffc",
   "metadata": {},
   "outputs": [],
   "source": [
    "#Reshapes data from the form provided by Lee filters for easier manipulation\n",
    "def reshapeData(data):\n",
    "    for name, values in data.items():\n",
    "        temp = np.array(values[1:])\n",
    "        data[name] = np.hsplit(temp,2)\n",
    "        data[name][1]=data[name][1]/100.0\n",
    "    return data"
   ]
  },
  {
   "cell_type": "code",
   "execution_count": 199,
   "id": "c0e33caa",
   "metadata": {},
   "outputs": [],
   "source": [
    "#Calculates the amount of light absorbed \n",
    "#each wavelingth when pasing through filter twice\n",
    "def getDoubleFilterAbsorb(data):\n",
    "    data[1]=data[1]**2\n",
    "    return data"
   ]
  },
  {
   "cell_type": "code",
   "execution_count": 200,
   "id": "f4feeb69",
   "metadata": {},
   "outputs": [],
   "source": [
    "#Get spectra sensitivity from files\n",
    "#Spectra for IMX 256 extracted form \n",
    "#https://s1-dl.theimagingsource.com/api/2.5/packages/publications/whitepapers-cameras/wpspectsens/a5cb0f39-fea8-56ae-8e04-ec20ab4e72c9/wpspectsens_1.30.en_US.pdf\n",
    "#using https://automeris.io/WebPlotDigitizer/\n",
    "def initSpectraSensitivity():\n",
    "    camera = {}\n",
    "    \n",
    "    camera['red'] = np.genfromtxt('Red.csv', delimiter=';')\n",
    "    camera['red'] = np.hsplit(camera['red'],2)\n",
    "    camera['green'] = np.genfromtxt('Green.csv', delimiter=';')\n",
    "    camera['green'] = np.hsplit(camera['green'],2)\n",
    "    camera['blue'] = np.genfromtxt('Blue.csv', delimiter=';')\n",
    "    camera['blue'] = np.hsplit(camera['blue'],2)\n",
    "    return camera"
   ]
  },
  {
   "cell_type": "code",
   "execution_count": 201,
   "id": "8e08371f",
   "metadata": {},
   "outputs": [],
   "source": [
    "def theoreticalRGBValues(filter,camera):\n",
    "    result = {}\n",
    "    double_filter = getDoubleFilterAbsorb(filter)\n",
    "    for key,values in camera.items():\n",
    "        camera_reaction = double_filter[1] * camera[key][1]\n",
    "        result[key] = np.sum(camera_reaction)/np.sum(camera[key][1])\n",
    "        result[key] *= 255\n",
    "    return result"
   ]
  },
  {
   "cell_type": "code",
   "execution_count": 202,
   "id": "c312763f",
   "metadata": {},
   "outputs": [
    {
     "data": {
      "text/plain": [
       "{'red': 0.05518738229027276,\n",
       " 'green': 0.9330367253473104,\n",
       " 'blue': 0.5460805102576916}"
      ]
     },
     "execution_count": 202,
     "metadata": {},
     "output_type": "execute_result"
    }
   ],
   "source": [
    "filter_data = {}\n",
    "with open(\"chart-pdf-data.txt\") as data:\n",
    "    filter_data = eval(data.read())\n",
    "filter_data = reshapeData(filter_data)\n",
    "theory_rgb = {}\n",
    "camera_spectra = initSpectraSensitivity()\n",
    "for key,values in filter_data.items():\n",
    "    theory_rgb[key] = theoreticalRGBValues(values,camera_spectra)\n",
    "theory_rgb['327']"
   ]
  },
  {
   "cell_type": "code",
   "execution_count": 203,
   "metadata": {},
   "outputs": [
    {
     "name": "stdout",
     "output_type": "stream",
     "text": [
      "all colour count:  334\n",
      "filtered colour count: 106\n"
     ]
    }
   ],
   "source": [
    "\n",
    "bright_theory = dict(filter((lambda item : (item[1]['red'] + item[1]['green'] + item[1]['blue']>SUMATIVE_COLOR_BRIGHTNESS)),theory_rgb.items()))\n",
    "print(\"all colour count: \",len(theory_rgb))\n",
    "print(\"filtered colour count:\", len(bright_theory))"
   ]
  },
  {
   "cell_type": "code",
   "execution_count": 204,
   "id": "ee72761c",
   "metadata": {
    "scrolled": true
   },
   "outputs": [],
   "source": [
    "#Print data in a ternary scatter plot\n",
    "def showTriplot(data):\n",
    "    df = pd.DataFrame.from_dict(data,orient=\"index\")\n",
    "    #print(df)\n",
    "    color_list = {key: f\"rgb({value['red']},{value['green']},{value['blue']})\" for (key,value) in data.items()}\n",
    "    fig = px.scatter_ternary(df,a=\"red\",b=\"green\",c=\"blue\",color=df.index,color_discrete_map=color_list)\n",
    "    fig.show()"
   ]
  },
  {
   "cell_type": "code",
   "execution_count": 205,
   "metadata": {},
   "outputs": [
    {
     "name": "stdout",
     "output_type": "stream",
     "text": [
      "Theoretical colors of filters \n",
      "\n",
      "\n",
      "Full filter set\n"
     ]
    },
    {
     "data": {
      "application/vnd.plotly.v1+json": {
       "config": {
        "plotlyServerURL": "https://plot.ly"
       },
       "data": [
        {
         "a": [
          161.27175195802275
         ],
         "b": [
          59.268496452965174
         ],
         "c": [
          96.98691912104822
         ],
         "hovertemplate": "index=002<br>red=%{a}<br>green=%{b}<br>blue=%{c}<extra></extra>",
         "legendgroup": "002",
         "marker": {
          "color": "rgb(161.27175195802275,59.268496452965174,96.98691912104822)",
          "symbol": "circle"
         },
         "mode": "markers",
         "name": "002",
         "showlegend": true,
         "subplot": "ternary",
         "type": "scatterternary"
        },
        {
         "a": [
          170.99341092961868
         ],
         "b": [
          152.26324493682236
         ],
         "c": [
          170.9440680542198
         ],
         "hovertemplate": "index=003<br>red=%{a}<br>green=%{b}<br>blue=%{c}<extra></extra>",
         "legendgroup": "003",
         "marker": {
          "color": "rgb(170.99341092961868,152.26324493682236,170.9440680542198)",
          "symbol": "circle"
         },
         "mode": "markers",
         "name": "003",
         "showlegend": true,
         "subplot": "ternary",
         "type": "scatterternary"
        },
        {
         "a": [
          189.35683448013052
         ],
         "b": [
          103.93804145886098
         ],
         "c": [
          67.92304439213963
         ],
         "hovertemplate": "index=004<br>red=%{a}<br>green=%{b}<br>blue=%{c}<extra></extra>",
         "legendgroup": "004",
         "marker": {
          "color": "rgb(189.35683448013052,103.93804145886098,67.92304439213963)",
          "symbol": "circle"
         },
         "mode": "markers",
         "name": "004",
         "showlegend": true,
         "subplot": "ternary",
         "type": "scatterternary"
        },
        {
         "a": [
          199.58520808545936
         ],
         "b": [
          182.7164755865565
         ],
         "c": [
          113.78259465961591
         ],
         "hovertemplate": "index=007<br>red=%{a}<br>green=%{b}<br>blue=%{c}<extra></extra>",
         "legendgroup": "007",
         "marker": {
          "color": "rgb(199.58520808545936,182.7164755865565,113.78259465961591)",
          "symbol": "circle"
         },
         "mode": "markers",
         "name": "007",
         "showlegend": true,
         "subplot": "ternary",
         "type": "scatterternary"
        },
        {
         "a": [
          162.89327382410988
         ],
         "b": [
          53.56825318811268
         ],
         "c": [
          20.032885686569358
         ],
         "hovertemplate": "index=008<br>red=%{a}<br>green=%{b}<br>blue=%{c}<extra></extra>",
         "legendgroup": "008",
         "marker": {
          "color": "rgb(162.89327382410988,53.56825318811268,20.032885686569358)",
          "symbol": "circle"
         },
         "mode": "markers",
         "name": "008",
         "showlegend": true,
         "subplot": "ternary",
         "type": "scatterternary"
        },
        {
         "a": [
          189.26068149081442
         ],
         "b": [
          125.7996689847513
         ],
         "c": [
          64.87544921960624
         ],
         "hovertemplate": "index=009<br>red=%{a}<br>green=%{b}<br>blue=%{c}<extra></extra>",
         "legendgroup": "009",
         "marker": {
          "color": "rgb(189.26068149081442,125.7996689847513,64.87544921960624)",
          "symbol": "circle"
         },
         "mode": "markers",
         "name": "009",
         "showlegend": true,
         "subplot": "ternary",
         "type": "scatterternary"
        },
        {
         "a": [
          200.91041878139703
         ],
         "b": [
          168.26799625226943
         ],
         "c": [
          51.144065128629514
         ],
         "hovertemplate": "index=010<br>red=%{a}<br>green=%{b}<br>blue=%{c}<extra></extra>",
         "legendgroup": "010",
         "marker": {
          "color": "rgb(200.91041878139703,168.26799625226943,51.144065128629514)",
          "symbol": "circle"
         },
         "mode": "markers",
         "name": "010",
         "showlegend": true,
         "subplot": "ternary",
         "type": "scatterternary"
        },
        {
         "a": [
          188.83928454512298
         ],
         "b": [
          123.97812924321639
         ],
         "c": [
          50.924068242534126
         ],
         "hovertemplate": "index=013<br>red=%{a}<br>green=%{b}<br>blue=%{c}<extra></extra>",
         "legendgroup": "013",
         "marker": {
          "color": "rgb(188.83928454512298,123.97812924321639,50.924068242534126)",
          "symbol": "circle"
         },
         "mode": "markers",
         "name": "013",
         "showlegend": true,
         "subplot": "ternary",
         "type": "scatterternary"
        },
        {
         "a": [
          187.8537005601826
         ],
         "b": [
          98.42872363159212
         ],
         "c": [
          22.678428596228308
         ],
         "hovertemplate": "index=015<br>red=%{a}<br>green=%{b}<br>blue=%{c}<extra></extra>",
         "legendgroup": "015",
         "marker": {
          "color": "rgb(187.8537005601826,98.42872363159212,22.678428596228308)",
          "symbol": "circle"
         },
         "mode": "markers",
         "name": "015",
         "showlegend": true,
         "subplot": "ternary",
         "type": "scatterternary"
        },
        {
         "a": [
          28.70212022539981
         ],
         "b": [
          11.43528996682591
         ],
         "c": [
          4.88038658752872
         ],
         "hovertemplate": "index=017<br>red=%{a}<br>green=%{b}<br>blue=%{c}<extra></extra>",
         "legendgroup": "017",
         "marker": {
          "color": "rgb(28.70212022539981,11.43528996682591,4.88038658752872)",
          "symbol": "circle"
         },
         "mode": "markers",
         "name": "017",
         "showlegend": true,
         "subplot": "ternary",
         "type": "scatterternary"
        },
        {
         "a": [
          138.87671644428013
         ],
         "b": [
          36.98865860504117
         ],
         "c": [
          14.280165292339044
         ],
         "hovertemplate": "index=019<br>red=%{a}<br>green=%{b}<br>blue=%{c}<extra></extra>",
         "legendgroup": "019",
         "marker": {
          "color": "rgb(138.87671644428013,36.98865860504117,14.280165292339044)",
          "symbol": "circle"
         },
         "mode": "markers",
         "name": "019",
         "showlegend": true,
         "subplot": "ternary",
         "type": "scatterternary"
        },
        {
         "a": [
          167.1934682486359
         ],
         "b": [
          73.41461536535037
         ],
         "c": [
          20.463244897277498
         ],
         "hovertemplate": "index=020<br>red=%{a}<br>green=%{b}<br>blue=%{c}<extra></extra>",
         "legendgroup": "020",
         "marker": {
          "color": "rgb(167.1934682486359,73.41461536535037,20.463244897277498)",
          "symbol": "circle"
         },
         "mode": "markers",
         "name": "020",
         "showlegend": true,
         "subplot": "ternary",
         "type": "scatterternary"
        },
        {
         "a": [
          157.67488024935457
         ],
         "b": [
          50.8147643880389
         ],
         "c": [
          16.257155109321538
         ],
         "hovertemplate": "index=021<br>red=%{a}<br>green=%{b}<br>blue=%{c}<extra></extra>",
         "legendgroup": "021",
         "marker": {
          "color": "rgb(157.67488024935457,50.8147643880389,16.257155109321538)",
          "symbol": "circle"
         },
         "mode": "markers",
         "name": "021",
         "showlegend": true,
         "subplot": "ternary",
         "type": "scatterternary"
        },
        {
         "a": [
          145.77419074086185
         ],
         "b": [
          42.01041150702535
         ],
         "c": [
          14.637398181628035
         ],
         "hovertemplate": "index=022<br>red=%{a}<br>green=%{b}<br>blue=%{c}<extra></extra>",
         "legendgroup": "022",
         "marker": {
          "color": "rgb(145.77419074086185,42.01041150702535,14.637398181628035)",
          "symbol": "circle"
         },
         "mode": "markers",
         "name": "022",
         "showlegend": true,
         "subplot": "ternary",
         "type": "scatterternary"
        },
        {
         "a": [
          122.32184302051219
         ],
         "b": [
          34.27122064085275
         ],
         "c": [
          14.450860762040312
         ],
         "hovertemplate": "index=024<br>red=%{a}<br>green=%{b}<br>blue=%{c}<extra></extra>",
         "legendgroup": "024",
         "marker": {
          "color": "rgb(122.32184302051219,34.27122064085275,14.450860762040312)",
          "symbol": "circle"
         },
         "mode": "markers",
         "name": "024",
         "showlegend": true,
         "subplot": "ternary",
         "type": "scatterternary"
        },
        {
         "a": [
          161.12195285687469
         ],
         "b": [
          46.95757976932703
         ],
         "c": [
          16.67073577286777
         ],
         "hovertemplate": "index=025<br>red=%{a}<br>green=%{b}<br>blue=%{c}<extra></extra>",
         "legendgroup": "025",
         "marker": {
          "color": "rgb(161.12195285687469,46.95757976932703,16.67073577286777)",
          "symbol": "circle"
         },
         "mode": "markers",
         "name": "025",
         "showlegend": true,
         "subplot": "ternary",
         "type": "scatterternary"
        },
        {
         "a": [
          71.66101654301718
         ],
         "b": [
          17.761771540779765
         ],
         "c": [
          8.924871547363598
         ],
         "hovertemplate": "index=026<br>red=%{a}<br>green=%{b}<br>blue=%{c}<extra></extra>",
         "legendgroup": "026",
         "marker": {
          "color": "rgb(71.66101654301718,17.761771540779765,8.924871547363598)",
          "symbol": "circle"
         },
         "mode": "markers",
         "name": "026",
         "showlegend": true,
         "subplot": "ternary",
         "type": "scatterternary"
        },
        {
         "a": [
          50.333345980925124
         ],
         "b": [
          13.786771381947768
         ],
         "c": [
          7.494756600821508
         ],
         "hovertemplate": "index=027<br>red=%{a}<br>green=%{b}<br>blue=%{c}<extra></extra>",
         "legendgroup": "027",
         "marker": {
          "color": "rgb(50.333345980925124,13.786771381947768,7.494756600821508)",
          "symbol": "circle"
         },
         "mode": "markers",
         "name": "027",
         "showlegend": true,
         "subplot": "ternary",
         "type": "scatterternary"
        },
        {
         "a": [
          64.88408529710257
         ],
         "b": [
          16.368146126074713
         ],
         "c": [
          8.24462432947435
         ],
         "hovertemplate": "index=029<br>red=%{a}<br>green=%{b}<br>blue=%{c}<extra></extra>",
         "legendgroup": "029",
         "marker": {
          "color": "rgb(64.88408529710257,16.368146126074713,8.24462432947435)",
          "symbol": "circle"
         },
         "mode": "markers",
         "name": "029",
         "showlegend": true,
         "subplot": "ternary",
         "type": "scatterternary"
        },
        {
         "a": [
          183.17068499424687
         ],
         "b": [
          106.67798762755997
         ],
         "c": [
          113.65756639084158
         ],
         "hovertemplate": "index=035<br>red=%{a}<br>green=%{b}<br>blue=%{c}<extra></extra>",
         "legendgroup": "035",
         "marker": {
          "color": "rgb(183.17068499424687,106.67798762755997,113.65756639084158)",
          "symbol": "circle"
         },
         "mode": "markers",
         "name": "035",
         "showlegend": true,
         "subplot": "ternary",
         "type": "scatterternary"
        },
        {
         "a": [
          165.71596996226162
         ],
         "b": [
          68.53914673438474
         ],
         "c": [
          71.58101780776697
         ],
         "hovertemplate": "index=036<br>red=%{a}<br>green=%{b}<br>blue=%{c}<extra></extra>",
         "legendgroup": "036",
         "marker": {
          "color": "rgb(165.71596996226162,68.53914673438474,71.58101780776697)",
          "symbol": "circle"
         },
         "mode": "markers",
         "name": "036",
         "showlegend": true,
         "subplot": "ternary",
         "type": "scatterternary"
        },
        {
         "a": [
          66.89881938501354
         ],
         "b": [
          18.200321186637083
         ],
         "c": [
          10.09678954735334
         ],
         "hovertemplate": "index=046<br>red=%{a}<br>green=%{b}<br>blue=%{c}<extra></extra>",
         "legendgroup": "046",
         "marker": {
          "color": "rgb(66.89881938501354,18.200321186637083,10.09678954735334)",
          "symbol": "circle"
         },
         "mode": "markers",
         "name": "046",
         "showlegend": true,
         "subplot": "ternary",
         "type": "scatterternary"
        },
        {
         "a": [
          63.54700524670476
         ],
         "b": [
          24.090809630296196
         ],
         "c": [
          40.25625196825023
         ],
         "hovertemplate": "index=048<br>red=%{a}<br>green=%{b}<br>blue=%{c}<extra></extra>",
         "legendgroup": "048",
         "marker": {
          "color": "rgb(63.54700524670476,24.090809630296196,40.25625196825023)",
          "symbol": "circle"
         },
         "mode": "markers",
         "name": "048",
         "showlegend": true,
         "subplot": "ternary",
         "type": "scatterternary"
        },
        {
         "a": [
          58.19982659187112
         ],
         "b": [
          17.365139955127493
         ],
         "c": [
          20.88182042870223
         ],
         "hovertemplate": "index=049<br>red=%{a}<br>green=%{b}<br>blue=%{c}<extra></extra>",
         "legendgroup": "049",
         "marker": {
          "color": "rgb(58.19982659187112,17.365139955127493,20.88182042870223)",
          "symbol": "circle"
         },
         "mode": "markers",
         "name": "049",
         "showlegend": true,
         "subplot": "ternary",
         "type": "scatterternary"
        },
        {
         "a": [
          78.24211143663946
         ],
         "b": [
          50.27220996550389
         ],
         "c": [
          94.23582951904558
         ],
         "hovertemplate": "index=052<br>red=%{a}<br>green=%{b}<br>blue=%{c}<extra></extra>",
         "legendgroup": "052",
         "marker": {
          "color": "rgb(78.24211143663946,50.27220996550389,94.23582951904558)",
          "symbol": "circle"
         },
         "mode": "markers",
         "name": "052",
         "showlegend": true,
         "subplot": "ternary",
         "type": "scatterternary"
        },
        {
         "a": [
          122.63510878508293
         ],
         "b": [
          115.63601547921365
         ],
         "c": [
          150.59388772601974
         ],
         "hovertemplate": "index=053<br>red=%{a}<br>green=%{b}<br>blue=%{c}<extra></extra>",
         "legendgroup": "053",
         "marker": {
          "color": "rgb(122.63510878508293,115.63601547921365,150.59388772601974)",
          "symbol": "circle"
         },
         "mode": "markers",
         "name": "053",
         "showlegend": true,
         "subplot": "ternary",
         "type": "scatterternary"
        },
        {
         "a": [
          49.70481031996682
         ],
         "b": [
          22.98843440436895
         ],
         "c": [
          56.09949446057133
         ],
         "hovertemplate": "index=058<br>red=%{a}<br>green=%{b}<br>blue=%{c}<extra></extra>",
         "legendgroup": "058",
         "marker": {
          "color": "rgb(49.70481031996682,22.98843440436895,56.09949446057133)",
          "symbol": "circle"
         },
         "mode": "markers",
         "name": "058",
         "showlegend": true,
         "subplot": "ternary",
         "type": "scatterternary"
        },
        {
         "a": [
          67.8229636059306
         ],
         "b": [
          114.16179183412464
         ],
         "c": [
          162.28720506045067
         ],
         "hovertemplate": "index=061<br>red=%{a}<br>green=%{b}<br>blue=%{c}<extra></extra>",
         "legendgroup": "061",
         "marker": {
          "color": "rgb(67.8229636059306,114.16179183412464,162.28720506045067)",
          "symbol": "circle"
         },
         "mode": "markers",
         "name": "061",
         "showlegend": true,
         "subplot": "ternary",
         "type": "scatterternary"
        },
        {
         "a": [
          47.24404289008337
         ],
         "b": [
          91.12071910572536
         ],
         "c": [
          148.2182236957337
         ],
         "hovertemplate": "index=063<br>red=%{a}<br>green=%{b}<br>blue=%{c}<extra></extra>",
         "legendgroup": "063",
         "marker": {
          "color": "rgb(47.24404289008337,91.12071910572536,148.2182236957337)",
          "symbol": "circle"
         },
         "mode": "markers",
         "name": "063",
         "showlegend": true,
         "subplot": "ternary",
         "type": "scatterternary"
        },
        {
         "a": [
          6.933455046080457
         ],
         "b": [
          22.32804616597396
         ],
         "c": [
          80.5737533846455
         ],
         "hovertemplate": "index=068<br>red=%{a}<br>green=%{b}<br>blue=%{c}<extra></extra>",
         "legendgroup": "068",
         "marker": {
          "color": "rgb(6.933455046080457,22.32804616597396,80.5737533846455)",
          "symbol": "circle"
         },
         "mode": "markers",
         "name": "068",
         "showlegend": true,
         "subplot": "ternary",
         "type": "scatterternary"
        },
        {
         "a": [
          0.18830885160670485
         ],
         "b": [
          0.5438250979792879
         ],
         "c": [
          6.9083991827023326
         ],
         "hovertemplate": "index=071<br>red=%{a}<br>green=%{b}<br>blue=%{c}<extra></extra>",
         "legendgroup": "071",
         "marker": {
          "color": "rgb(0.18830885160670485,0.5438250979792879,6.9083991827023326)",
          "symbol": "circle"
         },
         "mode": "markers",
         "name": "071",
         "showlegend": true,
         "subplot": "ternary",
         "type": "scatterternary"
        },
        {
         "a": [
          16.03126522956275
         ],
         "b": [
          22.968696211129142
         ],
         "c": [
          81.45808329994044
         ],
         "hovertemplate": "index=075<br>red=%{a}<br>green=%{b}<br>blue=%{c}<extra></extra>",
         "legendgroup": "075",
         "marker": {
          "color": "rgb(16.03126522956275,22.968696211129142,81.45808329994044)",
          "symbol": "circle"
         },
         "mode": "markers",
         "name": "075",
         "showlegend": true,
         "subplot": "ternary",
         "type": "scatterternary"
        },
        {
         "a": [
          5.100431436987984
         ],
         "b": [
          11.52789137140258
         ],
         "c": [
          48.1890816466425
         ],
         "hovertemplate": "index=079<br>red=%{a}<br>green=%{b}<br>blue=%{c}<extra></extra>",
         "legendgroup": "079",
         "marker": {
          "color": "rgb(5.100431436987984,11.52789137140258,48.1890816466425)",
          "symbol": "circle"
         },
         "mode": "markers",
         "name": "079",
         "showlegend": true,
         "subplot": "ternary",
         "type": "scatterternary"
        },
        {
         "a": [
          1.5482976249215543
         ],
         "b": [
          2.8153950533200116
         ],
         "c": [
          13.08491789817492
         ],
         "hovertemplate": "index=085<br>red=%{a}<br>green=%{b}<br>blue=%{c}<extra></extra>",
         "legendgroup": "085",
         "marker": {
          "color": "rgb(1.5482976249215543,2.8153950533200116,13.08491789817492)",
          "symbol": "circle"
         },
         "mode": "markers",
         "name": "085",
         "showlegend": true,
         "subplot": "ternary",
         "type": "scatterternary"
        },
        {
         "a": [
          67.52198111639595
         ],
         "b": [
          130.01055606254192
         ],
         "c": [
          51.3973312722527
         ],
         "hovertemplate": "index=088<br>red=%{a}<br>green=%{b}<br>blue=%{c}<extra></extra>",
         "legendgroup": "088",
         "marker": {
          "color": "rgb(67.52198111639595,130.01055606254192,51.3973312722527)",
          "symbol": "circle"
         },
         "mode": "markers",
         "name": "088",
         "showlegend": true,
         "subplot": "ternary",
         "type": "scatterternary"
        },
        {
         "a": [
          3.647989747843092
         ],
         "b": [
          31.295442558484233
         ],
         "c": [
          13.408895548986536
         ],
         "hovertemplate": "index=089<br>red=%{a}<br>green=%{b}<br>blue=%{c}<extra></extra>",
         "legendgroup": "089",
         "marker": {
          "color": "rgb(3.647989747843092,31.295442558484233,13.408895548986536)",
          "symbol": "circle"
         },
         "mode": "markers",
         "name": "089",
         "showlegend": true,
         "subplot": "ternary",
         "type": "scatterternary"
        },
        {
         "a": [
          0.3584085141716098
         ],
         "b": [
          5.87734181848005
         ],
         "c": [
          2.4373019995453054
         ],
         "hovertemplate": "index=090<br>red=%{a}<br>green=%{b}<br>blue=%{c}<extra></extra>",
         "legendgroup": "090",
         "marker": {
          "color": "rgb(0.3584085141716098,5.87734181848005,2.4373019995453054)",
          "symbol": "circle"
         },
         "mode": "markers",
         "name": "090",
         "showlegend": true,
         "subplot": "ternary",
         "type": "scatterternary"
        },
        {
         "a": [
          171.2645932546321
         ],
         "b": [
          170.7994272149432
         ],
         "c": [
          57.37175950879734
         ],
         "hovertemplate": "index=100<br>red=%{a}<br>green=%{b}<br>blue=%{c}<extra></extra>",
         "legendgroup": "100",
         "marker": {
          "color": "rgb(171.2645932546321,170.7994272149432,57.37175950879734)",
          "symbol": "circle"
         },
         "mode": "markers",
         "name": "100",
         "showlegend": true,
         "subplot": "ternary",
         "type": "scatterternary"
        },
        {
         "a": [
          192.28390567835183
         ],
         "b": [
          138.56199280297332
         ],
         "c": [
          35.999204275801624
         ],
         "hovertemplate": "index=101<br>red=%{a}<br>green=%{b}<br>blue=%{c}<extra></extra>",
         "legendgroup": "101",
         "marker": {
          "color": "rgb(192.28390567835183,138.56199280297332,35.999204275801624)",
          "symbol": "circle"
         },
         "mode": "markers",
         "name": "101",
         "showlegend": true,
         "subplot": "ternary",
         "type": "scatterternary"
        },
        {
         "a": [
          204.4507388901424
         ],
         "b": [
          134.2191048807188
         ],
         "c": [
          38.04046260890584
         ],
         "hovertemplate": "index=102<br>red=%{a}<br>green=%{b}<br>blue=%{c}<extra></extra>",
         "legendgroup": "102",
         "marker": {
          "color": "rgb(204.4507388901424,134.2191048807188,38.04046260890584)",
          "symbol": "circle"
         },
         "mode": "markers",
         "name": "102",
         "showlegend": true,
         "subplot": "ternary",
         "type": "scatterternary"
        },
        {
         "a": [
          204.39338703400662
         ],
         "b": [
          162.62407595655833
         ],
         "c": [
          101.82243561933645
         ],
         "hovertemplate": "index=103<br>red=%{a}<br>green=%{b}<br>blue=%{c}<extra></extra>",
         "legendgroup": "103",
         "marker": {
          "color": "rgb(204.39338703400662,162.62407595655833,101.82243561933645)",
          "symbol": "circle"
         },
         "mode": "markers",
         "name": "103",
         "showlegend": true,
         "subplot": "ternary",
         "type": "scatterternary"
        },
        {
         "a": [
          170.43427832065922
         ],
         "b": [
          98.63787976413758
         ],
         "c": [
          23.69623452974387
         ],
         "hovertemplate": "index=104<br>red=%{a}<br>green=%{b}<br>blue=%{c}<extra></extra>",
         "legendgroup": "104",
         "marker": {
          "color": "rgb(170.43427832065922,98.63787976413758,23.69623452974387)",
          "symbol": "circle"
         },
         "mode": "markers",
         "name": "104",
         "showlegend": true,
         "subplot": "ternary",
         "type": "scatterternary"
        },
        {
         "a": [
          168.56843597856385
         ],
         "b": [
          67.41813162777676
         ],
         "c": [
          17.01494890741443
         ],
         "hovertemplate": "index=105<br>red=%{a}<br>green=%{b}<br>blue=%{c}<extra></extra>",
         "legendgroup": "105",
         "marker": {
          "color": "rgb(168.56843597856385,67.41813162777676,17.01494890741443)",
          "symbol": "circle"
         },
         "mode": "markers",
         "name": "105",
         "showlegend": true,
         "subplot": "ternary",
         "type": "scatterternary"
        },
        {
         "a": [
          89.73119608839505
         ],
         "b": [
          22.383997169896386
         ],
         "c": [
          10.730913085564072
         ],
         "hovertemplate": "index=106<br>red=%{a}<br>green=%{b}<br>blue=%{c}<extra></extra>",
         "legendgroup": "106",
         "marker": {
          "color": "rgb(89.73119608839505,22.383997169896386,10.730913085564072)",
          "symbol": "circle"
         },
         "mode": "markers",
         "name": "106",
         "showlegend": true,
         "subplot": "ternary",
         "type": "scatterternary"
        },
        {
         "a": [
          180.29977484554496
         ],
         "b": [
          75.10755808476728
         ],
         "c": [
          59.04043194079546
         ],
         "hovertemplate": "index=107<br>red=%{a}<br>green=%{b}<br>blue=%{c}<extra></extra>",
         "legendgroup": "107",
         "marker": {
          "color": "rgb(180.29977484554496,75.10755808476728,59.04043194079546)",
          "symbol": "circle"
         },
         "mode": "markers",
         "name": "107",
         "showlegend": true,
         "subplot": "ternary",
         "type": "scatterternary"
        },
        {
         "a": [
          190.02933256864145
         ],
         "b": [
          88.72028457950613
         ],
         "c": [
          41.400233297398586
         ],
         "hovertemplate": "index=108<br>red=%{a}<br>green=%{b}<br>blue=%{c}<extra></extra>",
         "legendgroup": "108",
         "marker": {
          "color": "rgb(190.02933256864145,88.72028457950613,41.400233297398586)",
          "symbol": "circle"
         },
         "mode": "markers",
         "name": "108",
         "showlegend": true,
         "subplot": "ternary",
         "type": "scatterternary"
        },
        {
         "a": [
          183.50646561720367
         ],
         "b": [
          84.61732105759906
         ],
         "c": [
          68.28573354532192
         ],
         "hovertemplate": "index=109<br>red=%{a}<br>green=%{b}<br>blue=%{c}<extra></extra>",
         "legendgroup": "109",
         "marker": {
          "color": "rgb(183.50646561720367,84.61732105759906,68.28573354532192)",
          "symbol": "circle"
         },
         "mode": "markers",
         "name": "109",
         "showlegend": true,
         "subplot": "ternary",
         "type": "scatterternary"
        },
        {
         "a": [
          179.05612849291296
         ],
         "b": [
          84.21806109763165
         ],
         "c": [
          92.31023781459369
         ],
         "hovertemplate": "index=110<br>red=%{a}<br>green=%{b}<br>blue=%{c}<extra></extra>",
         "legendgroup": "110",
         "marker": {
          "color": "rgb(179.05612849291296,84.21806109763165,92.31023781459369)",
          "symbol": "circle"
         },
         "mode": "markers",
         "name": "110",
         "showlegend": true,
         "subplot": "ternary",
         "type": "scatterternary"
        },
        {
         "a": [
          164.42987441912484
         ],
         "b": [
          56.15362815434483
         ],
         "c": [
          59.202321003745546
         ],
         "hovertemplate": "index=111<br>red=%{a}<br>green=%{b}<br>blue=%{c}<extra></extra>",
         "legendgroup": "111",
         "marker": {
          "color": "rgb(164.42987441912484,56.15362815434483,59.202321003745546)",
          "symbol": "circle"
         },
         "mode": "markers",
         "name": "111",
         "showlegend": true,
         "subplot": "ternary",
         "type": "scatterternary"
        },
        {
         "a": [
          112.01278446787013
         ],
         "b": [
          27.70959856343556
         ],
         "c": [
          13.912834025989975
         ],
         "hovertemplate": "index=113<br>red=%{a}<br>green=%{b}<br>blue=%{c}<extra></extra>",
         "legendgroup": "113",
         "marker": {
          "color": "rgb(112.01278446787013,27.70959856343556,13.912834025989975)",
          "symbol": "circle"
         },
         "mode": "markers",
         "name": "113",
         "showlegend": true,
         "subplot": "ternary",
         "type": "scatterternary"
        },
        {
         "a": [
          4.895443786282703
         ],
         "b": [
          65.71063569501996
         ],
         "c": [
          87.59200670276294
         ],
         "hovertemplate": "index=115<br>red=%{a}<br>green=%{b}<br>blue=%{c}<extra></extra>",
         "legendgroup": "115",
         "marker": {
          "color": "rgb(4.895443786282703,65.71063569501996,87.59200670276294)",
          "symbol": "circle"
         },
         "mode": "markers",
         "name": "115",
         "showlegend": true,
         "subplot": "ternary",
         "type": "scatterternary"
        },
        {
         "a": [
          1.3278501654684134
         ],
         "b": [
          23.38729097334466
         ],
         "c": [
          26.896035045916236
         ],
         "hovertemplate": "index=116<br>red=%{a}<br>green=%{b}<br>blue=%{c}<extra></extra>",
         "legendgroup": "116",
         "marker": {
          "color": "rgb(1.3278501654684134,23.38729097334466,26.896035045916236)",
          "symbol": "circle"
         },
         "mode": "markers",
         "name": "116",
         "showlegend": true,
         "subplot": "ternary",
         "type": "scatterternary"
        },
        {
         "a": [
          37.864805227223535
         ],
         "b": [
          109.2832114704161
         ],
         "c": [
          167.80102735354353
         ],
         "hovertemplate": "index=117<br>red=%{a}<br>green=%{b}<br>blue=%{c}<extra></extra>",
         "legendgroup": "117",
         "marker": {
          "color": "rgb(37.864805227223535,109.2832114704161,167.80102735354353)",
          "symbol": "circle"
         },
         "mode": "markers",
         "name": "117",
         "showlegend": true,
         "subplot": "ternary",
         "type": "scatterternary"
        },
        {
         "a": [
          4.2428494851098595
         ],
         "b": [
          44.038680226756505
         ],
         "c": [
          107.30502483463522
         ],
         "hovertemplate": "index=118<br>red=%{a}<br>green=%{b}<br>blue=%{c}<extra></extra>",
         "legendgroup": "118",
         "marker": {
          "color": "rgb(4.2428494851098595,44.038680226756505,107.30502483463522)",
          "symbol": "circle"
         },
         "mode": "markers",
         "name": "118",
         "showlegend": true,
         "subplot": "ternary",
         "type": "scatterternary"
        },
        {
         "a": [
          0.8260460268257309
         ],
         "b": [
          5.4086181683564805
         ],
         "c": [
          26.5818037945106
         ],
         "hovertemplate": "index=119<br>red=%{a}<br>green=%{b}<br>blue=%{c}<extra></extra>",
         "legendgroup": "119",
         "marker": {
          "color": "rgb(0.8260460268257309,5.4086181683564805,26.5818037945106)",
          "symbol": "circle"
         },
         "mode": "markers",
         "name": "119",
         "showlegend": true,
         "subplot": "ternary",
         "type": "scatterternary"
        },
        {
         "a": [
          0.7932808677657172
         ],
         "b": [
          2.2743909645292337
         ],
         "c": [
          14.661703684552478
         ],
         "hovertemplate": "index=120<br>red=%{a}<br>green=%{b}<br>blue=%{c}<extra></extra>",
         "legendgroup": "120",
         "marker": {
          "color": "rgb(0.7932808677657172,2.2743909645292337,14.661703684552478)",
          "symbol": "circle"
         },
         "mode": "markers",
         "name": "120",
         "showlegend": true,
         "subplot": "ternary",
         "type": "scatterternary"
        },
        {
         "a": [
          26.236666616288257
         ],
         "b": [
          97.69649311928046
         ],
         "c": [
          40.185788114221104
         ],
         "hovertemplate": "index=121<br>red=%{a}<br>green=%{b}<br>blue=%{c}<extra></extra>",
         "legendgroup": "121",
         "marker": {
          "color": "rgb(26.236666616288257,97.69649311928046,40.185788114221104)",
          "symbol": "circle"
         },
         "mode": "markers",
         "name": "121",
         "showlegend": true,
         "subplot": "ternary",
         "type": "scatterternary"
        },
        {
         "a": [
          12.316084734065441
         ],
         "b": [
          81.08020558558515
         ],
         "c": [
          38.90687085390613
         ],
         "hovertemplate": "index=122<br>red=%{a}<br>green=%{b}<br>blue=%{c}<extra></extra>",
         "legendgroup": "122",
         "marker": {
          "color": "rgb(12.316084734065441,81.08020558558515,38.90687085390613)",
          "symbol": "circle"
         },
         "mode": "markers",
         "name": "122",
         "showlegend": true,
         "subplot": "ternary",
         "type": "scatterternary"
        },
        {
         "a": [
          2.553878747611124
         ],
         "b": [
          42.982332811147316
         ],
         "c": [
          23.367584168392174
         ],
         "hovertemplate": "index=124<br>red=%{a}<br>green=%{b}<br>blue=%{c}<extra></extra>",
         "legendgroup": "124",
         "marker": {
          "color": "rgb(2.553878747611124,42.982332811147316,23.367584168392174)",
          "symbol": "circle"
         },
         "mode": "markers",
         "name": "124",
         "showlegend": true,
         "subplot": "ternary",
         "type": "scatterternary"
        },
        {
         "a": [
          55.88236915457022
         ],
         "b": [
          16.653028587316353
         ],
         "c": [
          20.78731618054784
         ],
         "hovertemplate": "index=126<br>red=%{a}<br>green=%{b}<br>blue=%{c}<extra></extra>",
         "legendgroup": "126",
         "marker": {
          "color": "rgb(55.88236915457022,16.653028587316353,20.78731618054784)",
          "symbol": "circle"
         },
         "mode": "markers",
         "name": "126",
         "showlegend": true,
         "subplot": "ternary",
         "type": "scatterternary"
        },
        {
         "a": [
          43.97445463391065
         ],
         "b": [
          13.614882266820324
         ],
         "c": [
          8.941542305162535
         ],
         "hovertemplate": "index=127<br>red=%{a}<br>green=%{b}<br>blue=%{c}<extra></extra>",
         "legendgroup": "127",
         "marker": {
          "color": "rgb(43.97445463391065,13.614882266820324,8.941542305162535)",
          "symbol": "circle"
         },
         "mode": "markers",
         "name": "127",
         "showlegend": true,
         "subplot": "ternary",
         "type": "scatterternary"
        },
        {
         "a": [
          130.29065417589834
         ],
         "b": [
          34.680194201386115
         ],
         "c": [
          35.95952339404778
         ],
         "hovertemplate": "index=128<br>red=%{a}<br>green=%{b}<br>blue=%{c}<extra></extra>",
         "legendgroup": "128",
         "marker": {
          "color": "rgb(130.29065417589834,34.680194201386115,35.95952339404778)",
          "symbol": "circle"
         },
         "mode": "markers",
         "name": "128",
         "showlegend": true,
         "subplot": "ternary",
         "type": "scatterternary"
        },
        {
         "a": [
          197.47199999999998
         ],
         "b": [
          197.47199999999998
         ],
         "c": [
          197.47199999999998
         ],
         "hovertemplate": "index=130<br>red=%{a}<br>green=%{b}<br>blue=%{c}<extra></extra>",
         "legendgroup": "130",
         "marker": {
          "color": "rgb(197.47199999999998,197.47199999999998,197.47199999999998)",
          "symbol": "circle"
         },
         "mode": "markers",
         "name": "130",
         "showlegend": true,
         "subplot": "ternary",
         "type": "scatterternary"
        },
        {
         "a": [
          9.911700615348744
         ],
         "b": [
          71.29864324676818
         ],
         "c": [
          85.46229035628126
         ],
         "hovertemplate": "index=131<br>red=%{a}<br>green=%{b}<br>blue=%{c}<extra></extra>",
         "legendgroup": "131",
         "marker": {
          "color": "rgb(9.911700615348744,71.29864324676818,85.46229035628126)",
          "symbol": "circle"
         },
         "mode": "markers",
         "name": "131",
         "showlegend": true,
         "subplot": "ternary",
         "type": "scatterternary"
        },
        {
         "a": [
          1.998074026574872
         ],
         "b": [
          13.66249300904862
         ],
         "c": [
          49.34809540559696
         ],
         "hovertemplate": "index=132<br>red=%{a}<br>green=%{b}<br>blue=%{c}<extra></extra>",
         "legendgroup": "132",
         "marker": {
          "color": "rgb(1.998074026574872,13.66249300904862,49.34809540559696)",
          "symbol": "circle"
         },
         "mode": "markers",
         "name": "132",
         "showlegend": true,
         "subplot": "ternary",
         "type": "scatterternary"
        },
        {
         "a": [
          140.9649301724846
         ],
         "b": [
          50.99851283568954
         ],
         "c": [
          18.1518670130385
         ],
         "hovertemplate": "index=134<br>red=%{a}<br>green=%{b}<br>blue=%{c}<extra></extra>",
         "legendgroup": "134",
         "marker": {
          "color": "rgb(140.9649301724846,50.99851283568954,18.1518670130385)",
          "symbol": "circle"
         },
         "mode": "markers",
         "name": "134",
         "showlegend": true,
         "subplot": "ternary",
         "type": "scatterternary"
        },
        {
         "a": [
          111.56042409037794
         ],
         "b": [
          32.8528799646751
         ],
         "c": [
          11.409469801751541
         ],
         "hovertemplate": "index=135<br>red=%{a}<br>green=%{b}<br>blue=%{c}<extra></extra>",
         "legendgroup": "135",
         "marker": {
          "color": "rgb(111.56042409037794,32.8528799646751,11.409469801751541)",
          "symbol": "circle"
         },
         "mode": "markers",
         "name": "135",
         "showlegend": true,
         "subplot": "ternary",
         "type": "scatterternary"
        },
        {
         "a": [
          106.9111681102713
         ],
         "b": [
          71.07149850944744
         ],
         "c": [
          110.20205642190703
         ],
         "hovertemplate": "index=136<br>red=%{a}<br>green=%{b}<br>blue=%{c}<extra></extra>",
         "legendgroup": "136",
         "marker": {
          "color": "rgb(106.9111681102713,71.07149850944744,110.20205642190703)",
          "symbol": "circle"
         },
         "mode": "markers",
         "name": "136",
         "showlegend": true,
         "subplot": "ternary",
         "type": "scatterternary"
        },
        {
         "a": [
          75.46867916179805
         ],
         "b": [
          57.76939732282043
         ],
         "c": [
          129.29409551678623
         ],
         "hovertemplate": "index=137<br>red=%{a}<br>green=%{b}<br>blue=%{c}<extra></extra>",
         "legendgroup": "137",
         "marker": {
          "color": "rgb(75.46867916179805,57.76939732282043,129.29409551678623)",
          "symbol": "circle"
         },
         "mode": "markers",
         "name": "137",
         "showlegend": true,
         "subplot": "ternary",
         "type": "scatterternary"
        },
        {
         "a": [
          85.73638099210865
         ],
         "b": [
          142.95969570339238
         ],
         "c": [
          72.20361792112034
         ],
         "hovertemplate": "index=138<br>red=%{a}<br>green=%{b}<br>blue=%{c}<extra></extra>",
         "legendgroup": "138",
         "marker": {
          "color": "rgb(85.73638099210865,142.95969570339238,72.20361792112034)",
          "symbol": "circle"
         },
         "mode": "markers",
         "name": "138",
         "showlegend": true,
         "subplot": "ternary",
         "type": "scatterternary"
        },
        {
         "a": [
          0.478453650563626
         ],
         "b": [
          7.594813704876393
         ],
         "c": [
          2.5547651033272616
         ],
         "hovertemplate": "index=139<br>red=%{a}<br>green=%{b}<br>blue=%{c}<extra></extra>",
         "legendgroup": "139",
         "marker": {
          "color": "rgb(0.478453650563626,7.594813704876393,2.5547651033272616)",
          "symbol": "circle"
         },
         "mode": "markers",
         "name": "139",
         "showlegend": true,
         "subplot": "ternary",
         "type": "scatterternary"
        },
        {
         "a": [
          15.02065376538407
         ],
         "b": [
          66.38957327656573
         ],
         "c": [
          125.70268104472353
         ],
         "hovertemplate": "index=140<br>red=%{a}<br>green=%{b}<br>blue=%{c}<extra></extra>",
         "legendgroup": "140",
         "marker": {
          "color": "rgb(15.02065376538407,66.38957327656573,125.70268104472353)",
          "symbol": "circle"
         },
         "mode": "markers",
         "name": "140",
         "showlegend": true,
         "subplot": "ternary",
         "type": "scatterternary"
        },
        {
         "a": [
          3.1085251593511654
         ],
         "b": [
          35.202646161671375
         ],
         "c": [
          92.87998184864928
         ],
         "hovertemplate": "index=141<br>red=%{a}<br>green=%{b}<br>blue=%{c}<extra></extra>",
         "legendgroup": "141",
         "marker": {
          "color": "rgb(3.1085251593511654,35.202646161671375,92.87998184864928)",
          "symbol": "circle"
         },
         "mode": "markers",
         "name": "141",
         "showlegend": true,
         "subplot": "ternary",
         "type": "scatterternary"
        },
        {
         "a": [
          65.42927624566289
         ],
         "b": [
          45.02859397918892
         ],
         "c": [
          113.12500827897335
         ],
         "hovertemplate": "index=142<br>red=%{a}<br>green=%{b}<br>blue=%{c}<extra></extra>",
         "legendgroup": "142",
         "marker": {
          "color": "rgb(65.42927624566289,45.02859397918892,113.12500827897335)",
          "symbol": "circle"
         },
         "mode": "markers",
         "name": "142",
         "showlegend": true,
         "subplot": "ternary",
         "type": "scatterternary"
        },
        {
         "a": [
          5.099371840867617
         ],
         "b": [
          16.147151447139453
         ],
         "c": [
          33.745282937138995
         ],
         "hovertemplate": "index=143<br>red=%{a}<br>green=%{b}<br>blue=%{c}<extra></extra>",
         "legendgroup": "143",
         "marker": {
          "color": "rgb(5.099371840867617,16.147151447139453,33.745282937138995)",
          "symbol": "circle"
         },
         "mode": "markers",
         "name": "143",
         "showlegend": true,
         "subplot": "ternary",
         "type": "scatterternary"
        },
        {
         "a": [
          8.390546116777344
         ],
         "b": [
          56.16808496439647
         ],
         "c": [
          117.63654572134216
         ],
         "hovertemplate": "index=144<br>red=%{a}<br>green=%{b}<br>blue=%{c}<extra></extra>",
         "legendgroup": "144",
         "marker": {
          "color": "rgb(8.390546116777344,56.16808496439647,117.63654572134216)",
          "symbol": "circle"
         },
         "mode": "markers",
         "name": "144",
         "showlegend": true,
         "subplot": "ternary",
         "type": "scatterternary"
        },
        {
         "a": [
          184.094604845446
         ],
         "b": [
          79.99904888316335
         ],
         "c": [
          28.737304597801664
         ],
         "hovertemplate": "index=147<br>red=%{a}<br>green=%{b}<br>blue=%{c}<extra></extra>",
         "legendgroup": "147",
         "marker": {
          "color": "rgb(184.094604845446,79.99904888316335,28.737304597801664)",
          "symbol": "circle"
         },
         "mode": "markers",
         "name": "147",
         "showlegend": true,
         "subplot": "ternary",
         "type": "scatterternary"
        },
        {
         "a": [
          119.79255125598377
         ],
         "b": [
          31.8216601452169
         ],
         "c": [
          19.03631719010385
         ],
         "hovertemplate": "index=148<br>red=%{a}<br>green=%{b}<br>blue=%{c}<extra></extra>",
         "legendgroup": "148",
         "marker": {
          "color": "rgb(119.79255125598377,31.8216601452169,19.03631719010385)",
          "symbol": "circle"
         },
         "mode": "markers",
         "name": "148",
         "showlegend": true,
         "subplot": "ternary",
         "type": "scatterternary"
        },
        {
         "a": [
          192.26121834798252
         ],
         "b": [
          110.40475472847503
         ],
         "c": [
          80.14499120714137
         ],
         "hovertemplate": "index=151<br>red=%{a}<br>green=%{b}<br>blue=%{c}<extra></extra>",
         "legendgroup": "151",
         "marker": {
          "color": "rgb(192.26121834798252,110.40475472847503,80.14499120714137)",
          "symbol": "circle"
         },
         "mode": "markers",
         "name": "151",
         "showlegend": true,
         "subplot": "ternary",
         "type": "scatterternary"
        },
        {
         "a": [
          198.15013665709202
         ],
         "b": [
          125.69355201833733
         ],
         "c": [
          86.76694644310354
         ],
         "hovertemplate": "index=152<br>red=%{a}<br>green=%{b}<br>blue=%{c}<extra></extra>",
         "legendgroup": "152",
         "marker": {
          "color": "rgb(198.15013665709202,125.69355201833733,86.76694644310354)",
          "symbol": "circle"
         },
         "mode": "markers",
         "name": "152",
         "showlegend": true,
         "subplot": "ternary",
         "type": "scatterternary"
        },
        {
         "a": [
          189.215294153617
         ],
         "b": [
          104.08783826687232
         ],
         "c": [
          94.31270178607771
         ],
         "hovertemplate": "index=153<br>red=%{a}<br>green=%{b}<br>blue=%{c}<extra></extra>",
         "legendgroup": "153",
         "marker": {
          "color": "rgb(189.215294153617,104.08783826687232,94.31270178607771)",
          "symbol": "circle"
         },
         "mode": "markers",
         "name": "153",
         "showlegend": true,
         "subplot": "ternary",
         "type": "scatterternary"
        },
        {
         "a": [
          199.252815485063
         ],
         "b": [
          129.69769367283882
         ],
         "c": [
          106.32864051900258
         ],
         "hovertemplate": "index=154<br>red=%{a}<br>green=%{b}<br>blue=%{c}<extra></extra>",
         "legendgroup": "154",
         "marker": {
          "color": "rgb(199.252815485063,129.69769367283882,106.32864051900258)",
          "symbol": "circle"
         },
         "mode": "markers",
         "name": "154",
         "showlegend": true,
         "subplot": "ternary",
         "type": "scatterternary"
        },
        {
         "a": [
          31.658429450021462
         ],
         "b": [
          16.2740385223889
         ],
         "c": [
          10.146259868286784
         ],
         "hovertemplate": "index=156<br>red=%{a}<br>green=%{b}<br>blue=%{c}<extra></extra>",
         "legendgroup": "156",
         "marker": {
          "color": "rgb(31.658429450021462,16.2740385223889,10.146259868286784)",
          "symbol": "circle"
         },
         "mode": "markers",
         "name": "156",
         "showlegend": true,
         "subplot": "ternary",
         "type": "scatterternary"
        },
        {
         "a": [
          164.5647862559814
         ],
         "b": [
          53.61283024250322
         ],
         "c": [
          31.945916304952213
         ],
         "hovertemplate": "index=157<br>red=%{a}<br>green=%{b}<br>blue=%{c}<extra></extra>",
         "legendgroup": "157",
         "marker": {
          "color": "rgb(164.5647862559814,53.61283024250322,31.945916304952213)",
          "symbol": "circle"
         },
         "mode": "markers",
         "name": "157",
         "showlegend": true,
         "subplot": "ternary",
         "type": "scatterternary"
        },
        {
         "a": [
          152.45934818514033
         ],
         "b": [
          51.79819787012165
         ],
         "c": [
          15.41658206516681
         ],
         "hovertemplate": "index=158<br>red=%{a}<br>green=%{b}<br>blue=%{c}<extra></extra>",
         "legendgroup": "158",
         "marker": {
          "color": "rgb(152.45934818514033,51.79819787012165,15.41658206516681)",
          "symbol": "circle"
         },
         "mode": "markers",
         "name": "158",
         "showlegend": true,
         "subplot": "ternary",
         "type": "scatterternary"
        },
        {
         "a": [
          208.95501023423716
         ],
         "b": [
          195.3745790786211
         ],
         "c": [
          157.79130166699645
         ],
         "hovertemplate": "index=159<br>red=%{a}<br>green=%{b}<br>blue=%{c}<extra></extra>",
         "legendgroup": "159",
         "marker": {
          "color": "rgb(208.95501023423716,195.3745790786211,157.79130166699645)",
          "symbol": "circle"
         },
         "mode": "markers",
         "name": "159",
         "showlegend": true,
         "subplot": "ternary",
         "type": "scatterternary"
        },
        {
         "a": [
          24.91249335703225
         ],
         "b": [
          46.047599932355425
         ],
         "c": [
          122.31938417485647
         ],
         "hovertemplate": "index=161<br>red=%{a}<br>green=%{b}<br>blue=%{c}<extra></extra>",
         "legendgroup": "161",
         "marker": {
          "color": "rgb(24.91249335703225,46.047599932355425,122.31938417485647)",
          "symbol": "circle"
         },
         "mode": "markers",
         "name": "161",
         "showlegend": true,
         "subplot": "ternary",
         "type": "scatterternary"
        },
        {
         "a": [
          178.91367981867663
         ],
         "b": [
          131.91674932517293
         ],
         "c": [
          98.23006928896258
         ],
         "hovertemplate": "index=162<br>red=%{a}<br>green=%{b}<br>blue=%{c}<extra></extra>",
         "legendgroup": "162",
         "marker": {
          "color": "rgb(178.91367981867663,131.91674932517293,98.23006928896258)",
          "symbol": "circle"
         },
         "mode": "markers",
         "name": "162",
         "showlegend": true,
         "subplot": "ternary",
         "type": "scatterternary"
        },
        {
         "a": [
          139.0382774842555
         ],
         "b": [
          36.66944868650083
         ],
         "c": [
          14.823892918199792
         ],
         "hovertemplate": "index=164<br>red=%{a}<br>green=%{b}<br>blue=%{c}<extra></extra>",
         "legendgroup": "164",
         "marker": {
          "color": "rgb(139.0382774842555,36.66944868650083,14.823892918199792)",
          "symbol": "circle"
         },
         "mode": "markers",
         "name": "164",
         "showlegend": true,
         "subplot": "ternary",
         "type": "scatterternary"
        },
        {
         "a": [
          10.560634412399763
         ],
         "b": [
          38.77602251816802
         ],
         "c": [
          115.60760377836796
         ],
         "hovertemplate": "index=165<br>red=%{a}<br>green=%{b}<br>blue=%{c}<extra></extra>",
         "legendgroup": "165",
         "marker": {
          "color": "rgb(10.560634412399763,38.77602251816802,115.60760377836796)",
          "symbol": "circle"
         },
         "mode": "markers",
         "name": "165",
         "showlegend": true,
         "subplot": "ternary",
         "type": "scatterternary"
        },
        {
         "a": [
          136.39502479493035
         ],
         "b": [
          107.10122767135348
         ],
         "c": [
          137.9165874779318
         ],
         "hovertemplate": "index=169<br>red=%{a}<br>green=%{b}<br>blue=%{c}<extra></extra>",
         "legendgroup": "169",
         "marker": {
          "color": "rgb(136.39502479493035,107.10122767135348,137.9165874779318)",
          "symbol": "circle"
         },
         "mode": "markers",
         "name": "169",
         "showlegend": true,
         "subplot": "ternary",
         "type": "scatterternary"
        },
        {
         "a": [
          74.5267320833448
         ],
         "b": [
          37.13237254576772
         ],
         "c": [
          62.54546271161773
         ],
         "hovertemplate": "index=170<br>red=%{a}<br>green=%{b}<br>blue=%{c}<extra></extra>",
         "legendgroup": "170",
         "marker": {
          "color": "rgb(74.5267320833448,37.13237254576772,62.54546271161773)",
          "symbol": "circle"
         },
         "mode": "markers",
         "name": "170",
         "showlegend": true,
         "subplot": "ternary",
         "type": "scatterternary"
        },
        {
         "a": [
          2.7536493595958325
         ],
         "b": [
          38.781870943203664
         ],
         "c": [
          70.60262236617555
         ],
         "hovertemplate": "index=172<br>red=%{a}<br>green=%{b}<br>blue=%{c}<extra></extra>",
         "legendgroup": "172",
         "marker": {
          "color": "rgb(2.7536493595958325,38.781870943203664,70.60262236617555)",
          "symbol": "circle"
         },
         "mode": "markers",
         "name": "172",
         "showlegend": true,
         "subplot": "ternary",
         "type": "scatterternary"
        },
        {
         "a": [
          44.84954715777361
         ],
         "b": [
          60.099451801124744
         ],
         "c": [
          128.18274605041285
         ],
         "hovertemplate": "index=174<br>red=%{a}<br>green=%{b}<br>blue=%{c}<extra></extra>",
         "legendgroup": "174",
         "marker": {
          "color": "rgb(44.84954715777361,60.099451801124744,128.18274605041285)",
          "symbol": "circle"
         },
         "mode": "markers",
         "name": "174",
         "showlegend": true,
         "subplot": "ternary",
         "type": "scatterternary"
        },
        {
         "a": [
          183.12404700603884
         ],
         "b": [
          76.83762765683063
         ],
         "c": [
          45.442671251578105
         ],
         "hovertemplate": "index=176<br>red=%{a}<br>green=%{b}<br>blue=%{c}<extra></extra>",
         "legendgroup": "176",
         "marker": {
          "color": "rgb(183.12404700603884,76.83762765683063,45.442671251578105)",
          "symbol": "circle"
         },
         "mode": "markers",
         "name": "176",
         "showlegend": true,
         "subplot": "ternary",
         "type": "scatterternary"
        },
        {
         "a": [
          185.69597211308687
         ],
         "b": [
          85.30033053126529
         ],
         "c": [
          21.0005337581455
         ],
         "hovertemplate": "index=179<br>red=%{a}<br>green=%{b}<br>blue=%{c}<extra></extra>",
         "legendgroup": "179",
         "marker": {
          "color": "rgb(185.69597211308687,85.30033053126529,21.0005337581455)",
          "symbol": "circle"
         },
         "mode": "markers",
         "name": "179",
         "showlegend": true,
         "subplot": "ternary",
         "type": "scatterternary"
        },
        {
         "a": [
          47.56347035535586
         ],
         "b": [
          22.186554098092415
         ],
         "c": [
          62.62925542986015
         ],
         "hovertemplate": "index=180<br>red=%{a}<br>green=%{b}<br>blue=%{c}<extra></extra>",
         "legendgroup": "180",
         "marker": {
          "color": "rgb(47.56347035535586,22.186554098092415,62.62925542986015)",
          "symbol": "circle"
         },
         "mode": "markers",
         "name": "180",
         "showlegend": true,
         "subplot": "ternary",
         "type": "scatterternary"
        },
        {
         "a": [
          1.3319145720234982
         ],
         "b": [
          0.9406443224626689
         ],
         "c": [
          5.555718743221325
         ],
         "hovertemplate": "index=181<br>red=%{a}<br>green=%{b}<br>blue=%{c}<extra></extra>",
         "legendgroup": "181",
         "marker": {
          "color": "rgb(1.3319145720234982,0.9406443224626689,5.555718743221325)",
          "symbol": "circle"
         },
         "mode": "markers",
         "name": "181",
         "showlegend": true,
         "subplot": "ternary",
         "type": "scatterternary"
        },
        {
         "a": [
          87.60339397638394
         ],
         "b": [
          21.904625879777697
         ],
         "c": [
          10.199542034296057
         ],
         "hovertemplate": "index=182<br>red=%{a}<br>green=%{b}<br>blue=%{c}<extra></extra>",
         "legendgroup": "182",
         "marker": {
          "color": "rgb(87.60339397638394,21.904625879777697,10.199542034296057)",
          "symbol": "circle"
         },
         "mode": "markers",
         "name": "182",
         "showlegend": true,
         "subplot": "ternary",
         "type": "scatterternary"
        },
        {
         "a": [
          2.9404110979742204
         ],
         "b": [
          34.499291388519794
         ],
         "c": [
          83.15474825395842
         ],
         "hovertemplate": "index=183<br>red=%{a}<br>green=%{b}<br>blue=%{c}<extra></extra>",
         "legendgroup": "183",
         "marker": {
          "color": "rgb(2.9404110979742204,34.499291388519794,83.15474825395842)",
          "symbol": "circle"
         },
         "mode": "markers",
         "name": "183",
         "showlegend": true,
         "subplot": "ternary",
         "type": "scatterternary"
        },
        {
         "a": [
          166.82083846475425
         ],
         "b": [
          56.58362888179004
         ],
         "c": [
          54.23692768502803
         ],
         "hovertemplate": "index=192<br>red=%{a}<br>green=%{b}<br>blue=%{c}<extra></extra>",
         "legendgroup": "192",
         "marker": {
          "color": "rgb(166.82083846475425,56.58362888179004,54.23692768502803)",
          "symbol": "circle"
         },
         "mode": "markers",
         "name": "192",
         "showlegend": true,
         "subplot": "ternary",
         "type": "scatterternary"
        },
        {
         "a": [
          63.50180134010031
         ],
         "b": [
          38.702993769418825
         ],
         "c": [
          75.1497170989563
         ],
         "hovertemplate": "index=194<br>red=%{a}<br>green=%{b}<br>blue=%{c}<extra></extra>",
         "legendgroup": "194",
         "marker": {
          "color": "rgb(63.50180134010031,38.702993769418825,75.1497170989563)",
          "symbol": "circle"
         },
         "mode": "markers",
         "name": "194",
         "showlegend": true,
         "subplot": "ternary",
         "type": "scatterternary"
        },
        {
         "a": [
          3.552773942728167
         ],
         "b": [
          5.8470941060453745
         ],
         "c": [
          28.055778593273004
         ],
         "hovertemplate": "index=195<br>red=%{a}<br>green=%{b}<br>blue=%{c}<extra></extra>",
         "legendgroup": "195",
         "marker": {
          "color": "rgb(3.552773942728167,5.8470941060453745,28.055778593273004)",
          "symbol": "circle"
         },
         "mode": "markers",
         "name": "195",
         "showlegend": true,
         "subplot": "ternary",
         "type": "scatterternary"
        },
        {
         "a": [
          17.683879446783735
         ],
         "b": [
          46.67910098334942
         ],
         "c": [
          108.40720358556104
         ],
         "hovertemplate": "index=196<br>red=%{a}<br>green=%{b}<br>blue=%{c}<extra></extra>",
         "legendgroup": "196",
         "marker": {
          "color": "rgb(17.683879446783735,46.67910098334942,108.40720358556104)",
          "symbol": "circle"
         },
         "mode": "markers",
         "name": "196",
         "showlegend": true,
         "subplot": "ternary",
         "type": "scatterternary"
        },
        {
         "a": [
          3.026640725018365
         ],
         "b": [
          11.707181084278067
         ],
         "c": [
          45.42615262122035
         ],
         "hovertemplate": "index=197<br>red=%{a}<br>green=%{b}<br>blue=%{c}<extra></extra>",
         "legendgroup": "197",
         "marker": {
          "color": "rgb(3.026640725018365,11.707181084278067,45.42615262122035)",
          "symbol": "circle"
         },
         "mode": "markers",
         "name": "197",
         "showlegend": true,
         "subplot": "ternary",
         "type": "scatterternary"
        },
        {
         "a": [
          0.3645640350788805
         ],
         "b": [
          0.5671365678701108
         ],
         "c": [
          4.9304099149653196
         ],
         "hovertemplate": "index=198<br>red=%{a}<br>green=%{b}<br>blue=%{c}<extra></extra>",
         "legendgroup": "198",
         "marker": {
          "color": "rgb(0.3645640350788805,0.5671365678701108,4.9304099149653196)",
          "symbol": "circle"
         },
         "mode": "markers",
         "name": "198",
         "showlegend": true,
         "subplot": "ternary",
         "type": "scatterternary"
        },
        {
         "a": [
          6.164895722120167
         ],
         "b": [
          9.250816446109184
         ],
         "c": [
          48.14636243594326
         ],
         "hovertemplate": "index=199<br>red=%{a}<br>green=%{b}<br>blue=%{c}<extra></extra>",
         "legendgroup": "199",
         "marker": {
          "color": "rgb(6.164895722120167,9.250816446109184,48.14636243594326)",
          "symbol": "circle"
         },
         "mode": "markers",
         "name": "199",
         "showlegend": true,
         "subplot": "ternary",
         "type": "scatterternary"
        },
        {
         "a": [
          4.577317470366244
         ],
         "b": [
          20.623775827038028
         ],
         "c": [
          70.30271415420867
         ],
         "hovertemplate": "index=200<br>red=%{a}<br>green=%{b}<br>blue=%{c}<extra></extra>",
         "legendgroup": "200",
         "marker": {
          "color": "rgb(4.577317470366244,20.623775827038028,70.30271415420867)",
          "symbol": "circle"
         },
         "mode": "markers",
         "name": "200",
         "showlegend": true,
         "subplot": "ternary",
         "type": "scatterternary"
        },
        {
         "a": [
          21.13264774126044
         ],
         "b": [
          51.98017720355901
         ],
         "c": [
          113.41947428898621
         ],
         "hovertemplate": "index=201<br>red=%{a}<br>green=%{b}<br>blue=%{c}<extra></extra>",
         "legendgroup": "201",
         "marker": {
          "color": "rgb(21.13264774126044,51.98017720355901,113.41947428898621)",
          "symbol": "circle"
         },
         "mode": "markers",
         "name": "201",
         "showlegend": true,
         "subplot": "ternary",
         "type": "scatterternary"
        },
        {
         "a": [
          57.715619813970534
         ],
         "b": [
          97.46802671491011
         ],
         "c": [
          151.11792001845936
         ],
         "hovertemplate": "index=202<br>red=%{a}<br>green=%{b}<br>blue=%{c}<extra></extra>",
         "legendgroup": "202",
         "marker": {
          "color": "rgb(57.715619813970534,97.46802671491011,151.11792001845936)",
          "symbol": "circle"
         },
         "mode": "markers",
         "name": "202",
         "showlegend": true,
         "subplot": "ternary",
         "type": "scatterternary"
        },
        {
         "a": [
          104.00291945257156
         ],
         "b": [
          137.67197696460963
         ],
         "c": [
          173.74753192699987
         ],
         "hovertemplate": "index=203<br>red=%{a}<br>green=%{b}<br>blue=%{c}<extra></extra>",
         "legendgroup": "203",
         "marker": {
          "color": "rgb(104.00291945257156,137.67197696460963,173.74753192699987)",
          "symbol": "circle"
         },
         "mode": "markers",
         "name": "203",
         "showlegend": true,
         "subplot": "ternary",
         "type": "scatterternary"
        },
        {
         "a": [
          175.33933172099643
         ],
         "b": [
          88.935077442672
         ],
         "c": [
          33.435063836401326
         ],
         "hovertemplate": "index=204<br>red=%{a}<br>green=%{b}<br>blue=%{c}<extra></extra>",
         "legendgroup": "204",
         "marker": {
          "color": "rgb(175.33933172099643,88.935077442672,33.435063836401326)",
          "symbol": "circle"
         },
         "mode": "markers",
         "name": "204",
         "showlegend": true,
         "subplot": "ternary",
         "type": "scatterternary"
        },
        {
         "a": [
          194.85168617157714
         ],
         "b": [
          132.80516106856555
         ],
         "c": [
          71.16193190224931
         ],
         "hovertemplate": "index=205<br>red=%{a}<br>green=%{b}<br>blue=%{c}<extra></extra>",
         "legendgroup": "205",
         "marker": {
          "color": "rgb(194.85168617157714,132.80516106856555,71.16193190224931)",
          "symbol": "circle"
         },
         "mode": "markers",
         "name": "205",
         "showlegend": true,
         "subplot": "ternary",
         "type": "scatterternary"
        },
        {
         "a": [
          202.97278857969178
         ],
         "b": [
          162.5227487420684
         ],
         "c": [
          112.32433090907973
         ],
         "hovertemplate": "index=206<br>red=%{a}<br>green=%{b}<br>blue=%{c}<extra></extra>",
         "legendgroup": "206",
         "marker": {
          "color": "rgb(202.97278857969178,162.5227487420684,112.32433090907973)",
          "symbol": "circle"
         },
         "mode": "markers",
         "name": "206",
         "showlegend": true,
         "subplot": "ternary",
         "type": "scatterternary"
        },
        {
         "a": [
          50.703818592336866
         ],
         "b": [
          25.990135511213193
         ],
         "c": [
          9.298948390162655
         ],
         "hovertemplate": "index=207<br>red=%{a}<br>green=%{b}<br>blue=%{c}<extra></extra>",
         "legendgroup": "207",
         "marker": {
          "color": "rgb(50.703818592336866,25.990135511213193,9.298948390162655)",
          "symbol": "circle"
         },
         "mode": "markers",
         "name": "207",
         "showlegend": true,
         "subplot": "ternary",
         "type": "scatterternary"
        },
        {
         "a": [
          19.15187173690061
         ],
         "b": [
          8.64242117755643
         ],
         "c": [
          3.5008890230225918
         ],
         "hovertemplate": "index=208<br>red=%{a}<br>green=%{b}<br>blue=%{c}<extra></extra>",
         "legendgroup": "208",
         "marker": {
          "color": "rgb(19.15187173690061,8.64242117755643,3.5008890230225918)",
          "symbol": "circle"
         },
         "mode": "markers",
         "name": "208",
         "showlegend": true,
         "subplot": "ternary",
         "type": "scatterternary"
        },
        {
         "a": [
          202.5926845158304
         ],
         "b": [
          188.3917847660719
         ],
         "c": [
          123.52057784304036
         ],
         "hovertemplate": "index=212<br>red=%{a}<br>green=%{b}<br>blue=%{c}<extra></extra>",
         "legendgroup": "212",
         "marker": {
          "color": "rgb(202.5926845158304,188.3917847660719,123.52057784304036)",
          "symbol": "circle"
         },
         "mode": "markers",
         "name": "212",
         "showlegend": true,
         "subplot": "ternary",
         "type": "scatterternary"
        },
        {
         "a": [
          109.03233923792595
         ],
         "b": [
          163.93353274491375
         ],
         "c": [
          122.38800368648899
         ],
         "hovertemplate": "index=213<br>red=%{a}<br>green=%{b}<br>blue=%{c}<extra></extra>",
         "legendgroup": "213",
         "marker": {
          "color": "rgb(109.03233923792595,163.93353274491375,122.38800368648899)",
          "symbol": "circle"
         },
         "mode": "markers",
         "name": "213",
         "showlegend": true,
         "subplot": "ternary",
         "type": "scatterternary"
        },
        {
         "a": [
          148.3911010843374
         ],
         "b": [
          170.6935470637428
         ],
         "c": [
          190.41195544324987
         ],
         "hovertemplate": "index=218<br>red=%{a}<br>green=%{b}<br>blue=%{c}<extra></extra>",
         "legendgroup": "218",
         "marker": {
          "color": "rgb(148.3911010843374,170.6935470637428,190.41195544324987)",
          "symbol": "circle"
         },
         "mode": "markers",
         "name": "218",
         "showlegend": true,
         "subplot": "ternary",
         "type": "scatterternary"
        },
        {
         "a": [
          27.995302930965195
         ],
         "b": [
          44.53391245604363
         ],
         "c": [
          41.13204353093431
         ],
         "hovertemplate": "index=219<br>red=%{a}<br>green=%{b}<br>blue=%{c}<extra></extra>",
         "legendgroup": "219",
         "marker": {
          "color": "rgb(27.995302930965195,44.53391245604363,41.13204353093431)",
          "symbol": "circle"
         },
         "mode": "markers",
         "name": "219",
         "showlegend": true,
         "subplot": "ternary",
         "type": "scatterternary"
        },
        {
         "a": [
          199.9777107065369
         ],
         "b": [
          178.20681357162508
         ],
         "c": [
          145.1545298417261
         ],
         "hovertemplate": "index=223<br>red=%{a}<br>green=%{b}<br>blue=%{c}<extra></extra>",
         "legendgroup": "223",
         "marker": {
          "color": "rgb(199.9777107065369,178.20681357162508,145.1545298417261)",
          "symbol": "circle"
         },
         "mode": "markers",
         "name": "223",
         "showlegend": true,
         "subplot": "ternary",
         "type": "scatterternary"
        },
        {
         "a": [
          70.65654779499238
         ],
         "b": [
          47.65755247655334
         ],
         "c": [
          26.30120596448961
         ],
         "hovertemplate": "index=230<br>red=%{a}<br>green=%{b}<br>blue=%{c}<extra></extra>",
         "legendgroup": "230",
         "marker": {
          "color": "rgb(70.65654779499238,47.65755247655334,26.30120596448961)",
          "symbol": "circle"
         },
         "mode": "markers",
         "name": "230",
         "showlegend": true,
         "subplot": "ternary",
         "type": "scatterternary"
        },
        {
         "a": [
          73.38617979018176
         ],
         "b": [
          40.9620944210737
         ],
         "c": [
          16.649112462277873
         ],
         "hovertemplate": "index=232<br>red=%{a}<br>green=%{b}<br>blue=%{c}<extra></extra>",
         "legendgroup": "232",
         "marker": {
          "color": "rgb(73.38617979018176,40.9620944210737,16.649112462277873)",
          "symbol": "circle"
         },
         "mode": "markers",
         "name": "232",
         "showlegend": true,
         "subplot": "ternary",
         "type": "scatterternary"
        },
        {
         "a": [
          175.8909197423063
         ],
         "b": [
          89.36189168601412
         ],
         "c": [
          36.94272627244547
         ],
         "hovertemplate": "index=236<br>red=%{a}<br>green=%{b}<br>blue=%{c}<extra></extra>",
         "legendgroup": "236",
         "marker": {
          "color": "rgb(175.8909197423063,89.36189168601412,36.94272627244547)",
          "symbol": "circle"
         },
         "mode": "markers",
         "name": "236",
         "showlegend": true,
         "subplot": "ternary",
         "type": "scatterternary"
        },
        {
         "a": [
          155.95642596834603
         ],
         "b": [
          63.38142510847495
         ],
         "c": [
          28.695330375983417
         ],
         "hovertemplate": "index=237<br>red=%{a}<br>green=%{b}<br>blue=%{c}<extra></extra>",
         "legendgroup": "237",
         "marker": {
          "color": "rgb(155.95642596834603,63.38142510847495,28.695330375983417)",
          "symbol": "circle"
         },
         "mode": "markers",
         "name": "237",
         "showlegend": true,
         "subplot": "ternary",
         "type": "scatterternary"
        },
        {
         "a": [
          106.23095009368122
         ],
         "b": [
          50.18678686756568
         ],
         "c": [
          32.54024658559432
         ],
         "hovertemplate": "index=238<br>red=%{a}<br>green=%{b}<br>blue=%{c}<extra></extra>",
         "legendgroup": "238",
         "marker": {
          "color": "rgb(106.23095009368122,50.18678686756568,32.54024658559432)",
          "symbol": "circle"
         },
         "mode": "markers",
         "name": "238",
         "showlegend": true,
         "subplot": "ternary",
         "type": "scatterternary"
        },
        {
         "a": [
          12.190146177742246
         ],
         "b": [
          38.979166272700674
         ],
         "c": [
          50.74072338577526
         ],
         "hovertemplate": "index=241<br>red=%{a}<br>green=%{b}<br>blue=%{c}<extra></extra>",
         "legendgroup": "241",
         "marker": {
          "color": "rgb(12.190146177742246,38.979166272700674,50.74072338577526)",
          "symbol": "circle"
         },
         "mode": "markers",
         "name": "241",
         "showlegend": true,
         "subplot": "ternary",
         "type": "scatterternary"
        },
        {
         "a": [
          18.50562205003044
         ],
         "b": [
          52.23294421957732
         ],
         "c": [
          45.945768242698854
         ],
         "hovertemplate": "index=242<br>red=%{a}<br>green=%{b}<br>blue=%{c}<extra></extra>",
         "legendgroup": "242",
         "marker": {
          "color": "rgb(18.50562205003044,52.23294421957732,45.945768242698854)",
          "symbol": "circle"
         },
         "mode": "markers",
         "name": "242",
         "showlegend": true,
         "subplot": "ternary",
         "type": "scatterternary"
        },
        {
         "a": [
          37.68578535832558
         ],
         "b": [
          81.95507953273194
         ],
         "c": [
          59.337263612471475
         ],
         "hovertemplate": "index=243<br>red=%{a}<br>green=%{b}<br>blue=%{c}<extra></extra>",
         "legendgroup": "243",
         "marker": {
          "color": "rgb(37.68578535832558,81.95507953273194,59.337263612471475)",
          "symbol": "circle"
         },
         "mode": "markers",
         "name": "243",
         "showlegend": true,
         "subplot": "ternary",
         "type": "scatterternary"
        },
        {
         "a": [
          91.99430191567507
         ],
         "b": [
          133.00227237460604
         ],
         "c": [
          74.80678624442717
         ],
         "hovertemplate": "index=244<br>red=%{a}<br>green=%{b}<br>blue=%{c}<extra></extra>",
         "legendgroup": "244",
         "marker": {
          "color": "rgb(91.99430191567507,133.00227237460604,74.80678624442717)",
          "symbol": "circle"
         },
         "mode": "markers",
         "name": "244",
         "showlegend": true,
         "subplot": "ternary",
         "type": "scatterternary"
        },
        {
         "a": [
          133.88617754018338
         ],
         "b": [
          165.21169859696172
         ],
         "c": [
          118.36764686526223
         ],
         "hovertemplate": "index=245<br>red=%{a}<br>green=%{b}<br>blue=%{c}<extra></extra>",
         "legendgroup": "245",
         "marker": {
          "color": "rgb(133.88617754018338,165.21169859696172,118.36764686526223)",
          "symbol": "circle"
         },
         "mode": "markers",
         "name": "245",
         "showlegend": true,
         "subplot": "ternary",
         "type": "scatterternary"
        },
        {
         "a": [
          160.49430773555008
         ],
         "b": [
          178.5613188833484
         ],
         "c": [
          147.20353141502866
         ],
         "hovertemplate": "index=246<br>red=%{a}<br>green=%{b}<br>blue=%{c}<extra></extra>",
         "legendgroup": "246",
         "marker": {
          "color": "rgb(160.49430773555008,178.5613188833484,147.20353141502866)",
          "symbol": "circle"
         },
         "mode": "markers",
         "name": "246",
         "showlegend": true,
         "subplot": "ternary",
         "type": "scatterternary"
        },
        {
         "a": [
          179.22920090029345
         ],
         "b": [
          102.65846211938317
         ],
         "c": [
          118.40226782286527
         ],
         "hovertemplate": "index=247<br>red=%{a}<br>green=%{b}<br>blue=%{c}<extra></extra>",
         "legendgroup": "247",
         "marker": {
          "color": "rgb(179.22920090029345,102.65846211938317,118.40226782286527)",
          "symbol": "circle"
         },
         "mode": "markers",
         "name": "247",
         "showlegend": true,
         "subplot": "ternary",
         "type": "scatterternary"
        },
        {
         "a": [
          190.26412102657812
         ],
         "b": [
          138.01871382145762
         ],
         "c": [
          144.3676993736499
         ],
         "hovertemplate": "index=248<br>red=%{a}<br>green=%{b}<br>blue=%{c}<extra></extra>",
         "legendgroup": "248",
         "marker": {
          "color": "rgb(190.26412102657812,138.01871382145762,144.3676993736499)",
          "symbol": "circle"
         },
         "mode": "markers",
         "name": "248",
         "showlegend": true,
         "subplot": "ternary",
         "type": "scatterternary"
        },
        {
         "a": [
          201.2667263666601
         ],
         "b": [
          169.65656950909917
         ],
         "c": [
          175.3186241703917
         ],
         "hovertemplate": "index=249<br>red=%{a}<br>green=%{b}<br>blue=%{c}<extra></extra>",
         "legendgroup": "249",
         "marker": {
          "color": "rgb(201.2667263666601,169.65656950909917,175.3186241703917)",
          "symbol": "circle"
         },
         "mode": "markers",
         "name": "249",
         "showlegend": true,
         "subplot": "ternary",
         "type": "scatterternary"
        },
        {
         "a": [
          182.3185449346718
         ],
         "b": [
          192.14956616347646
         ],
         "c": [
          173.4867837835584
         ],
         "hovertemplate": "index=278<br>red=%{a}<br>green=%{b}<br>blue=%{c}<extra></extra>",
         "legendgroup": "278",
         "marker": {
          "color": "rgb(182.3185449346718,192.14956616347646,173.4867837835584)",
          "symbol": "circle"
         },
         "mode": "markers",
         "name": "278",
         "showlegend": true,
         "subplot": "ternary",
         "type": "scatterternary"
        },
        {
         "a": [
          211.46932921299444
         ],
         "b": [
          190.17742163684818
         ],
         "c": [
          190.2314413874534
         ],
         "hovertemplate": "index=279<br>red=%{a}<br>green=%{b}<br>blue=%{c}<extra></extra>",
         "legendgroup": "279",
         "marker": {
          "color": "rgb(211.46932921299444,190.17742163684818,190.2314413874534)",
          "symbol": "circle"
         },
         "mode": "markers",
         "name": "279",
         "showlegend": true,
         "subplot": "ternary",
         "type": "scatterternary"
        },
        {
         "a": [
          35.76090832948509
         ],
         "b": [
          67.55414265097978
         ],
         "c": [
          133.58925400361144
         ],
         "hovertemplate": "index=281<br>red=%{a}<br>green=%{b}<br>blue=%{c}<extra></extra>",
         "legendgroup": "281",
         "marker": {
          "color": "rgb(35.76090832948509,67.55414265097978,133.58925400361144)",
          "symbol": "circle"
         },
         "mode": "markers",
         "name": "281",
         "showlegend": true,
         "subplot": "ternary",
         "type": "scatterternary"
        },
        {
         "a": [
          10.449762744780669
         ],
         "b": [
          30.86326773954107
         ],
         "c": [
          91.8654878662329
         ],
         "hovertemplate": "index=283<br>red=%{a}<br>green=%{b}<br>blue=%{c}<extra></extra>",
         "legendgroup": "283",
         "marker": {
          "color": "rgb(10.449762744780669,30.86326773954107,91.8654878662329)",
          "symbol": "circle"
         },
         "mode": "markers",
         "name": "283",
         "showlegend": true,
         "subplot": "ternary",
         "type": "scatterternary"
        },
        {
         "a": [
          179.80271130936856
         ],
         "b": [
          101.77122687255748
         ],
         "c": [
          42.70209947430395
         ],
         "hovertemplate": "index=285<br>red=%{a}<br>green=%{b}<br>blue=%{c}<extra></extra>",
         "legendgroup": "285",
         "marker": {
          "color": "rgb(179.80271130936856,101.77122687255748,42.70209947430395)",
          "symbol": "circle"
         },
         "mode": "markers",
         "name": "285",
         "showlegend": true,
         "subplot": "ternary",
         "type": "scatterternary"
        },
        {
         "a": [
          170.61581872308173
         ],
         "b": [
          71.91401696795235
         ],
         "c": [
          22.68242534560637
         ],
         "hovertemplate": "index=286<br>red=%{a}<br>green=%{b}<br>blue=%{c}<extra></extra>",
         "legendgroup": "286",
         "marker": {
          "color": "rgb(170.61581872308173,71.91401696795235,22.68242534560637)",
          "symbol": "circle"
         },
         "mode": "markers",
         "name": "286",
         "showlegend": true,
         "subplot": "ternary",
         "type": "scatterternary"
        },
        {
         "a": [
          162.0724449766577
         ],
         "b": [
          60.39252640829984
         ],
         "c": [
          18.92907652384878
         ],
         "hovertemplate": "index=287<br>red=%{a}<br>green=%{b}<br>blue=%{c}<extra></extra>",
         "legendgroup": "287",
         "marker": {
          "color": "rgb(162.0724449766577,60.39252640829984,18.92907652384878)",
          "symbol": "circle"
         },
         "mode": "markers",
         "name": "287",
         "showlegend": true,
         "subplot": "ternary",
         "type": "scatterternary"
        },
        {
         "a": [
          5.193015592398878
         ],
         "b": [
          56.23319586724091
         ],
         "c": [
          49.61210071295932
         ],
         "hovertemplate": "index=322<br>red=%{a}<br>green=%{b}<br>blue=%{c}<extra></extra>",
         "legendgroup": "322",
         "marker": {
          "color": "rgb(5.193015592398878,56.23319586724091,49.61210071295932)",
          "symbol": "circle"
         },
         "mode": "markers",
         "name": "322",
         "showlegend": true,
         "subplot": "ternary",
         "type": "scatterternary"
        },
        {
         "a": [
          3.1343355666819814
         ],
         "b": [
          51.7100799683158
         ],
         "c": [
          45.23530569828863
         ],
         "hovertemplate": "index=323<br>red=%{a}<br>green=%{b}<br>blue=%{c}<extra></extra>",
         "legendgroup": "323",
         "marker": {
          "color": "rgb(3.1343355666819814,51.7100799683158,45.23530569828863)",
          "symbol": "circle"
         },
         "mode": "markers",
         "name": "323",
         "showlegend": true,
         "subplot": "ternary",
         "type": "scatterternary"
        },
        {
         "a": [
          0.05518738229027276
         ],
         "b": [
          0.9330367253473104
         ],
         "c": [
          0.5460805102576916
         ],
         "hovertemplate": "index=327<br>red=%{a}<br>green=%{b}<br>blue=%{c}<extra></extra>",
         "legendgroup": "327",
         "marker": {
          "color": "rgb(0.05518738229027276,0.9330367253473104,0.5460805102576916)",
          "symbol": "circle"
         },
         "mode": "markers",
         "name": "327",
         "showlegend": true,
         "subplot": "ternary",
         "type": "scatterternary"
        },
        {
         "a": [
          137.28457608572515
         ],
         "b": [
          41.072027061843954
         ],
         "c": [
          55.78822957223394
         ],
         "hovertemplate": "index=328<br>red=%{a}<br>green=%{b}<br>blue=%{c}<extra></extra>",
         "legendgroup": "328",
         "marker": {
          "color": "rgb(137.28457608572515,41.072027061843954,55.78822957223394)",
          "symbol": "circle"
         },
         "mode": "markers",
         "name": "328",
         "showlegend": true,
         "subplot": "ternary",
         "type": "scatterternary"
        },
        {
         "a": [
          109.87109041397807
         ],
         "b": [
          27.54919897833843
         ],
         "c": [
          17.96261036949474
         ],
         "hovertemplate": "index=332<br>red=%{a}<br>green=%{b}<br>blue=%{c}<extra></extra>",
         "legendgroup": "332",
         "marker": {
          "color": "rgb(109.87109041397807,27.54919897833843,17.96261036949474)",
          "symbol": "circle"
         },
         "mode": "markers",
         "name": "332",
         "showlegend": true,
         "subplot": "ternary",
         "type": "scatterternary"
        },
        {
         "a": [
          39.55051389685068
         ],
         "b": [
          16.741424687240897
         ],
         "c": [
          40.82385318345638
         ],
         "hovertemplate": "index=343<br>red=%{a}<br>green=%{b}<br>blue=%{c}<extra></extra>",
         "legendgroup": "343",
         "marker": {
          "color": "rgb(39.55051389685068,16.741424687240897,40.82385318345638)",
          "symbol": "circle"
         },
         "mode": "markers",
         "name": "343",
         "showlegend": true,
         "subplot": "ternary",
         "type": "scatterternary"
        },
        {
         "a": [
          15.871881646673906
         ],
         "b": [
          12.267420000799172
         ],
         "c": [
          45.94563789377101
         ],
         "hovertemplate": "index=345<br>red=%{a}<br>green=%{b}<br>blue=%{c}<extra></extra>",
         "legendgroup": "345",
         "marker": {
          "color": "rgb(15.871881646673906,12.267420000799172,45.94563789377101)",
          "symbol": "circle"
         },
         "mode": "markers",
         "name": "345",
         "showlegend": true,
         "subplot": "ternary",
         "type": "scatterternary"
        },
        {
         "a": [
          7.3828048681873835
         ],
         "b": [
          35.51168728097068
         ],
         "c": [
          89.48267079208509
         ],
         "hovertemplate": "index=352<br>red=%{a}<br>green=%{b}<br>blue=%{c}<extra></extra>",
         "legendgroup": "352",
         "marker": {
          "color": "rgb(7.3828048681873835,35.51168728097068,89.48267079208509)",
          "symbol": "circle"
         },
         "mode": "markers",
         "name": "352",
         "showlegend": true,
         "subplot": "ternary",
         "type": "scatterternary"
        },
        {
         "a": [
          9.706370459188921
         ],
         "b": [
          68.71336560393432
         ],
         "c": [
          128.572620265508
         ],
         "hovertemplate": "index=353<br>red=%{a}<br>green=%{b}<br>blue=%{c}<extra></extra>",
         "legendgroup": "353",
         "marker": {
          "color": "rgb(9.706370459188921,68.71336560393432,128.572620265508)",
          "symbol": "circle"
         },
         "mode": "markers",
         "name": "353",
         "showlegend": true,
         "subplot": "ternary",
         "type": "scatterternary"
        },
        {
         "a": [
          5.611303105185694
         ],
         "b": [
          67.51976922786729
         ],
         "c": [
          103.00433346336663
         ],
         "hovertemplate": "index=354<br>red=%{a}<br>green=%{b}<br>blue=%{c}<extra></extra>",
         "legendgroup": "354",
         "marker": {
          "color": "rgb(5.611303105185694,67.51976922786729,103.00433346336663)",
          "symbol": "circle"
         },
         "mode": "markers",
         "name": "354",
         "showlegend": true,
         "subplot": "ternary",
         "type": "scatterternary"
        },
        {
         "a": [
          0.7310644419168976
         ],
         "b": [
          4.242194514904786
         ],
         "c": [
          26.957045912407903
         ],
         "hovertemplate": "index=363<br>red=%{a}<br>green=%{b}<br>blue=%{c}<extra></extra>",
         "legendgroup": "363",
         "marker": {
          "color": "rgb(0.7310644419168976,4.242194514904786,26.957045912407903)",
          "symbol": "circle"
         },
         "mode": "markers",
         "name": "363",
         "showlegend": true,
         "subplot": "ternary",
         "type": "scatterternary"
        },
        {
         "a": [
          12.916014831905724
         ],
         "b": [
          20.301974672981
         ],
         "c": [
          46.791227766563786
         ],
         "hovertemplate": "index=366<br>red=%{a}<br>green=%{b}<br>blue=%{c}<extra></extra>",
         "legendgroup": "366",
         "marker": {
          "color": "rgb(12.916014831905724,20.301974672981,46.791227766563786)",
          "symbol": "circle"
         },
         "mode": "markers",
         "name": "366",
         "showlegend": true,
         "subplot": "ternary",
         "type": "scatterternary"
        },
        {
         "a": [
          174.05882424393187
         ],
         "b": [
          89.99728108764418
         ],
         "c": [
          35.318982065654346
         ],
         "hovertemplate": "index=441<br>red=%{a}<br>green=%{b}<br>blue=%{c}<extra></extra>",
         "legendgroup": "441",
         "marker": {
          "color": "rgb(174.05882424393187,89.99728108764418,35.318982065654346)",
          "symbol": "circle"
         },
         "mode": "markers",
         "name": "441",
         "showlegend": true,
         "subplot": "ternary",
         "type": "scatterternary"
        },
        {
         "a": [
          178.08262650711526
         ],
         "b": [
          123.641386243167
         ],
         "c": [
          64.71421097257678
         ],
         "hovertemplate": "index=442<br>red=%{a}<br>green=%{b}<br>blue=%{c}<extra></extra>",
         "legendgroup": "442",
         "marker": {
          "color": "rgb(178.08262650711526,123.641386243167,64.71421097257678)",
          "symbol": "circle"
         },
         "mode": "markers",
         "name": "442",
         "showlegend": true,
         "subplot": "ternary",
         "type": "scatterternary"
        },
        {
         "a": [
          190.1950604384474
         ],
         "b": [
          158.698036584534
         ],
         "c": [
          110.1136268968684
         ],
         "hovertemplate": "index=443<br>red=%{a}<br>green=%{b}<br>blue=%{c}<extra></extra>",
         "legendgroup": "443",
         "marker": {
          "color": "rgb(190.1950604384474,158.698036584534,110.1136268968684)",
          "symbol": "circle"
         },
         "mode": "markers",
         "name": "443",
         "showlegend": true,
         "subplot": "ternary",
         "type": "scatterternary"
        },
        {
         "a": [
          192.84904477532524
         ],
         "b": [
          173.97617479655167
         ],
         "c": [
          145.69539769265094
         ],
         "hovertemplate": "index=444<br>red=%{a}<br>green=%{b}<br>blue=%{c}<extra></extra>",
         "legendgroup": "444",
         "marker": {
          "color": "rgb(192.84904477532524,173.97617479655167,145.69539769265094)",
          "symbol": "circle"
         },
         "mode": "markers",
         "name": "444",
         "showlegend": true,
         "subplot": "ternary",
         "type": "scatterternary"
        },
        {
         "a": [
          18.141640098567994
         ],
         "b": [
          31.528079753536854
         ],
         "c": [
          83.22098139970382
         ],
         "hovertemplate": "index=500<br>red=%{a}<br>green=%{b}<br>blue=%{c}<extra></extra>",
         "legendgroup": "500",
         "marker": {
          "color": "rgb(18.141640098567994,31.528079753536854,83.22098139970382)",
          "symbol": "circle"
         },
         "mode": "markers",
         "name": "500",
         "showlegend": true,
         "subplot": "ternary",
         "type": "scatterternary"
        },
        {
         "a": [
          48.872034543072374
         ],
         "b": [
          68.35446712793129
         ],
         "c": [
          123.89835221786107
         ],
         "hovertemplate": "index=501<br>red=%{a}<br>green=%{b}<br>blue=%{c}<extra></extra>",
         "legendgroup": "501",
         "marker": {
          "color": "rgb(48.872034543072374,68.35446712793129,123.89835221786107)",
          "symbol": "circle"
         },
         "mode": "markers",
         "name": "501",
         "showlegend": true,
         "subplot": "ternary",
         "type": "scatterternary"
        },
        {
         "a": [
          96.09906126208456
         ],
         "b": [
          110.69301240456134
         ],
         "c": [
          154.88471005582323
         ],
         "hovertemplate": "index=502<br>red=%{a}<br>green=%{b}<br>blue=%{c}<extra></extra>",
         "legendgroup": "502",
         "marker": {
          "color": "rgb(96.09906126208456,110.69301240456134,154.88471005582323)",
          "symbol": "circle"
         },
         "mode": "markers",
         "name": "502",
         "showlegend": true,
         "subplot": "ternary",
         "type": "scatterternary"
        },
        {
         "a": [
          139.88134592614406
         ],
         "b": [
          151.49226369855347
         ],
         "c": [
          179.99798997061157
         ],
         "hovertemplate": "index=503<br>red=%{a}<br>green=%{b}<br>blue=%{c}<extra></extra>",
         "legendgroup": "503",
         "marker": {
          "color": "rgb(139.88134592614406,151.49226369855347,179.99798997061157)",
          "symbol": "circle"
         },
         "mode": "markers",
         "name": "503",
         "showlegend": true,
         "subplot": "ternary",
         "type": "scatterternary"
        },
        {
         "a": [
          51.73010890589018
         ],
         "b": [
          96.2880662385246
         ],
         "c": [
          104.49816068477485
         ],
         "hovertemplate": "index=504<br>red=%{a}<br>green=%{b}<br>blue=%{c}<extra></extra>",
         "legendgroup": "504",
         "marker": {
          "color": "rgb(51.73010890589018,96.2880662385246,104.49816068477485)",
          "symbol": "circle"
         },
         "mode": "markers",
         "name": "504",
         "showlegend": true,
         "subplot": "ternary",
         "type": "scatterternary"
        },
        {
         "a": [
          75.14854696758549
         ],
         "b": [
          131.89263871953204
         ],
         "c": [
          49.83904990981838
         ],
         "hovertemplate": "index=505<br>red=%{a}<br>green=%{b}<br>blue=%{c}<extra></extra>",
         "legendgroup": "505",
         "marker": {
          "color": "rgb(75.14854696758549,131.89263871953204,49.83904990981838)",
          "symbol": "circle"
         },
         "mode": "markers",
         "name": "505",
         "showlegend": true,
         "subplot": "ternary",
         "type": "scatterternary"
        },
        {
         "a": [
          181.80498632013
         ],
         "b": [
          117.98742443686925
         ],
         "c": [
          78.35566014592733
         ],
         "hovertemplate": "index=506<br>red=%{a}<br>green=%{b}<br>blue=%{c}<extra></extra>",
         "legendgroup": "506",
         "marker": {
          "color": "rgb(181.80498632013,117.98742443686925,78.35566014592733)",
          "symbol": "circle"
         },
         "mode": "markers",
         "name": "506",
         "showlegend": true,
         "subplot": "ternary",
         "type": "scatterternary"
        },
        {
         "a": [
          93.97914523402173
         ],
         "b": [
          25.709037117850933
         ],
         "c": [
          10.115674058496312
         ],
         "hovertemplate": "index=507<br>red=%{a}<br>green=%{b}<br>blue=%{c}<extra></extra>",
         "legendgroup": "507",
         "marker": {
          "color": "rgb(93.97914523402173,25.709037117850933,10.115674058496312)",
          "symbol": "circle"
         },
         "mode": "markers",
         "name": "507",
         "showlegend": true,
         "subplot": "ternary",
         "type": "scatterternary"
        },
        {
         "a": [
          5.56853954114386
         ],
         "b": [
          4.231985545335618
         ],
         "c": [
          19.84002306829341
         ],
         "hovertemplate": "index=508<br>red=%{a}<br>green=%{b}<br>blue=%{c}<extra></extra>",
         "legendgroup": "508",
         "marker": {
          "color": "rgb(5.56853954114386,4.231985545335618,19.84002306829341)",
          "symbol": "circle"
         },
         "mode": "markers",
         "name": "508",
         "showlegend": true,
         "subplot": "ternary",
         "type": "scatterternary"
        },
        {
         "a": [
          0.793711621427138
         ],
         "b": [
          0.284694163181581
         ],
         "c": [
          0.11224256139134188
         ],
         "hovertemplate": "index=511<br>red=%{a}<br>green=%{b}<br>blue=%{c}<extra></extra>",
         "legendgroup": "511",
         "marker": {
          "color": "rgb(0.793711621427138,0.284694163181581,0.11224256139134188)",
          "symbol": "circle"
         },
         "mode": "markers",
         "name": "511",
         "showlegend": true,
         "subplot": "ternary",
         "type": "scatterternary"
        },
        {
         "a": [
          25.674655942130872
         ],
         "b": [
          8.671531957848726
         ],
         "c": [
          2.6197526563063134
         ],
         "hovertemplate": "index=512<br>red=%{a}<br>green=%{b}<br>blue=%{c}<extra></extra>",
         "legendgroup": "512",
         "marker": {
          "color": "rgb(25.674655942130872,8.671531957848726,2.6197526563063134)",
          "symbol": "circle"
         },
         "mode": "markers",
         "name": "512",
         "showlegend": true,
         "subplot": "ternary",
         "type": "scatterternary"
        },
        {
         "a": [
          202.25435337164248
         ],
         "b": [
          194.26748737553115
         ],
         "c": [
          83.73094904533153
         ],
         "hovertemplate": "index=513<br>red=%{a}<br>green=%{b}<br>blue=%{c}<extra></extra>",
         "legendgroup": "513",
         "marker": {
          "color": "rgb(202.25435337164248,194.26748737553115,83.73094904533153)",
          "symbol": "circle"
         },
         "mode": "markers",
         "name": "513",
         "showlegend": true,
         "subplot": "ternary",
         "type": "scatterternary"
        },
        {
         "a": [
          195.73894138289052
         ],
         "b": [
          187.4027134241866
         ],
         "c": [
          70.14671915412958
         ],
         "hovertemplate": "index=514<br>red=%{a}<br>green=%{b}<br>blue=%{c}<extra></extra>",
         "legendgroup": "514",
         "marker": {
          "color": "rgb(195.73894138289052,187.4027134241866,70.14671915412958)",
          "symbol": "circle"
         },
         "mode": "markers",
         "name": "514",
         "showlegend": true,
         "subplot": "ternary",
         "type": "scatterternary"
        },
        {
         "a": [
          49.07481910682526
         ],
         "b": [
          39.98910405352244
         ],
         "c": [
          102.24874092890366
         ],
         "hovertemplate": "index=525<br>red=%{a}<br>green=%{b}<br>blue=%{c}<extra></extra>",
         "legendgroup": "525",
         "marker": {
          "color": "rgb(49.07481910682526,39.98910405352244,102.24874092890366)",
          "symbol": "circle"
         },
         "mode": "markers",
         "name": "525",
         "showlegend": true,
         "subplot": "ternary",
         "type": "scatterternary"
        },
        {
         "a": [
          101.71578444898839
         ],
         "b": [
          56.78884308122427
         ],
         "c": [
          15.232335396367315
         ],
         "hovertemplate": "index=550<br>red=%{a}<br>green=%{b}<br>blue=%{c}<extra></extra>",
         "legendgroup": "550",
         "marker": {
          "color": "rgb(101.71578444898839,56.78884308122427,15.232335396367315)",
          "symbol": "circle"
         },
         "mode": "markers",
         "name": "550",
         "showlegend": true,
         "subplot": "ternary",
         "type": "scatterternary"
        },
        {
         "a": [
          2.104029980218842
         ],
         "b": [
          3.5402876294464645
         ],
         "c": [
          7.88434055518459
         ],
         "hovertemplate": "index=600<br>red=%{a}<br>green=%{b}<br>blue=%{c}<extra></extra>",
         "legendgroup": "600",
         "marker": {
          "color": "rgb(2.104029980218842,3.5402876294464645,7.88434055518459)",
          "symbol": "circle"
         },
         "mode": "markers",
         "name": "600",
         "showlegend": true,
         "subplot": "ternary",
         "type": "scatterternary"
        },
        {
         "a": [
          9.032343914516094
         ],
         "b": [
          5.149616019505466
         ],
         "c": [
          7.775936666691657
         ],
         "hovertemplate": "index=601<br>red=%{a}<br>green=%{b}<br>blue=%{c}<extra></extra>",
         "legendgroup": "601",
         "marker": {
          "color": "rgb(9.032343914516094,5.149616019505466,7.775936666691657)",
          "symbol": "circle"
         },
         "mode": "markers",
         "name": "601",
         "showlegend": true,
         "subplot": "ternary",
         "type": "scatterternary"
        },
        {
         "a": [
          7.095580861419294
         ],
         "b": [
          8.030367332755795
         ],
         "c": [
          11.513457457248299
         ],
         "hovertemplate": "index=602<br>red=%{a}<br>green=%{b}<br>blue=%{c}<extra></extra>",
         "legendgroup": "602",
         "marker": {
          "color": "rgb(7.095580861419294,8.030367332755795,11.513457457248299)",
          "symbol": "circle"
         },
         "mode": "markers",
         "name": "602",
         "showlegend": true,
         "subplot": "ternary",
         "type": "scatterternary"
        },
        {
         "a": [
          18.290522802879057
         ],
         "b": [
          23.909670786437317
         ],
         "c": [
          36.5471800481927
         ],
         "hovertemplate": "index=603<br>red=%{a}<br>green=%{b}<br>blue=%{c}<extra></extra>",
         "legendgroup": "603",
         "marker": {
          "color": "rgb(18.290522802879057,23.909670786437317,36.5471800481927)",
          "symbol": "circle"
         },
         "mode": "markers",
         "name": "603",
         "showlegend": true,
         "subplot": "ternary",
         "type": "scatterternary"
        },
        {
         "a": [
          182.2582216933286
         ],
         "b": [
          90.80799432341577
         ],
         "c": [
          39.37053865969631
         ],
         "hovertemplate": "index=604<br>red=%{a}<br>green=%{b}<br>blue=%{c}<extra></extra>",
         "legendgroup": "604",
         "marker": {
          "color": "rgb(182.2582216933286,90.80799432341577,39.37053865969631)",
          "symbol": "circle"
         },
         "mode": "markers",
         "name": "604",
         "showlegend": true,
         "subplot": "ternary",
         "type": "scatterternary"
        },
        {
         "a": [
          5.6571791477330295
         ],
         "b": [
          5.497967824925238
         ],
         "c": [
          0.7273715078574472
         ],
         "hovertemplate": "index=642<br>red=%{a}<br>green=%{b}<br>blue=%{c}<extra></extra>",
         "legendgroup": "642",
         "marker": {
          "color": "rgb(5.6571791477330295,5.497967824925238,0.7273715078574472)",
          "symbol": "circle"
         },
         "mode": "markers",
         "name": "642",
         "showlegend": true,
         "subplot": "ternary",
         "type": "scatterternary"
        },
        {
         "a": [
          32.261723093761425
         ],
         "b": [
          25.513093415675982
         ],
         "c": [
          4.432982002442802
         ],
         "hovertemplate": "index=643<br>red=%{a}<br>green=%{b}<br>blue=%{c}<extra></extra>",
         "legendgroup": "643",
         "marker": {
          "color": "rgb(32.261723093761425,25.513093415675982,4.432982002442802)",
          "symbol": "circle"
         },
         "mode": "markers",
         "name": "643",
         "showlegend": true,
         "subplot": "ternary",
         "type": "scatterternary"
        },
        {
         "a": [
          36.3319026529412
         ],
         "b": [
          28.832828615339892
         ],
         "c": [
          11.3743237864852
         ],
         "hovertemplate": "index=650<br>red=%{a}<br>green=%{b}<br>blue=%{c}<extra></extra>",
         "legendgroup": "650",
         "marker": {
          "color": "rgb(36.3319026529412,28.832828615339892,11.3743237864852)",
          "symbol": "circle"
         },
         "mode": "markers",
         "name": "650",
         "showlegend": true,
         "subplot": "ternary",
         "type": "scatterternary"
        },
        {
         "a": [
          140.8336209931185
         ],
         "b": [
          66.71021872997652
         ],
         "c": [
          22.734257517524366
         ],
         "hovertemplate": "index=651<br>red=%{a}<br>green=%{b}<br>blue=%{c}<extra></extra>",
         "legendgroup": "651",
         "marker": {
          "color": "rgb(140.8336209931185,66.71021872997652,22.734257517524366)",
          "symbol": "circle"
         },
         "mode": "markers",
         "name": "651",
         "showlegend": true,
         "subplot": "ternary",
         "type": "scatterternary"
        },
        {
         "a": [
          59.161447239161326
         ],
         "b": [
          20.8910151588998
         ],
         "c": [
          6.625035865674316
         ],
         "hovertemplate": "index=652<br>red=%{a}<br>green=%{b}<br>blue=%{c}<extra></extra>",
         "legendgroup": "652",
         "marker": {
          "color": "rgb(59.161447239161326,20.8910151588998,6.625035865674316)",
          "symbol": "circle"
         },
         "mode": "markers",
         "name": "652",
         "showlegend": true,
         "subplot": "ternary",
         "type": "scatterternary"
        },
        {
         "a": [
          1.564159098927415
         ],
         "b": [
          0.5879271038931417
         ],
         "c": [
          0.2364860400930904
         ],
         "hovertemplate": "index=653<br>red=%{a}<br>green=%{b}<br>blue=%{c}<extra></extra>",
         "legendgroup": "653",
         "marker": {
          "color": "rgb(1.564159098927415,0.5879271038931417,0.2364860400930904)",
          "symbol": "circle"
         },
         "mode": "markers",
         "name": "653",
         "showlegend": true,
         "subplot": "ternary",
         "type": "scatterternary"
        },
        {
         "a": [
          41.13234632995057
         ],
         "b": [
          17.33007050829889
         ],
         "c": [
          41.5306265850272
         ],
         "hovertemplate": "index=700<br>red=%{a}<br>green=%{b}<br>blue=%{c}<extra></extra>",
         "legendgroup": "700",
         "marker": {
          "color": "rgb(41.13234632995057,17.33007050829889,41.5306265850272)",
          "symbol": "circle"
         },
         "mode": "markers",
         "name": "700",
         "showlegend": true,
         "subplot": "ternary",
         "type": "scatterternary"
        },
        {
         "a": [
          57.84082472157056
         ],
         "b": [
          26.312709153280224
         ],
         "c": [
          71.98969768558378
         ],
         "hovertemplate": "index=701<br>red=%{a}<br>green=%{b}<br>blue=%{c}<extra></extra>",
         "legendgroup": "701",
         "marker": {
          "color": "rgb(57.84082472157056,26.312709153280224,71.98969768558378)",
          "symbol": "circle"
         },
         "mode": "markers",
         "name": "701",
         "showlegend": true,
         "subplot": "ternary",
         "type": "scatterternary"
        },
        {
         "a": [
          114.69959048656635
         ],
         "b": [
          96.4398629221236
         ],
         "c": [
          140.44352807010097
         ],
         "hovertemplate": "index=702<br>red=%{a}<br>green=%{b}<br>blue=%{c}<extra></extra>",
         "legendgroup": "702",
         "marker": {
          "color": "rgb(114.69959048656635,96.4398629221236,140.44352807010097)",
          "symbol": "circle"
         },
         "mode": "markers",
         "name": "702",
         "showlegend": true,
         "subplot": "ternary",
         "type": "scatterternary"
        },
        {
         "a": [
          22.102632898370473
         ],
         "b": [
          19.92289762062796
         ],
         "c": [
          60.79430179758202
         ],
         "hovertemplate": "index=703<br>red=%{a}<br>green=%{b}<br>blue=%{c}<extra></extra>",
         "legendgroup": "703",
         "marker": {
          "color": "rgb(22.102632898370473,19.92289762062796,60.79430179758202)",
          "symbol": "circle"
         },
         "mode": "markers",
         "name": "703",
         "showlegend": true,
         "subplot": "ternary",
         "type": "scatterternary"
        },
        {
         "a": [
          104.95113359070075
         ],
         "b": [
          67.34467546561552
         ],
         "c": [
          129.6296095767414
         ],
         "hovertemplate": "index=704<br>red=%{a}<br>green=%{b}<br>blue=%{c}<extra></extra>",
         "legendgroup": "704",
         "marker": {
          "color": "rgb(104.95113359070075,67.34467546561552,129.6296095767414)",
          "symbol": "circle"
         },
         "mode": "markers",
         "name": "704",
         "showlegend": true,
         "subplot": "ternary",
         "type": "scatterternary"
        },
        {
         "a": [
          2.2907161861811383
         ],
         "b": [
          4.1581570311435465
         ],
         "c": [
          26.31419194007108
         ],
         "hovertemplate": "index=706<br>red=%{a}<br>green=%{b}<br>blue=%{c}<extra></extra>",
         "legendgroup": "706",
         "marker": {
          "color": "rgb(2.2907161861811383,4.1581570311435465,26.31419194007108)",
          "symbol": "circle"
         },
         "mode": "markers",
         "name": "706",
         "showlegend": true,
         "subplot": "ternary",
         "type": "scatterternary"
        },
        {
         "a": [
          28.228688090743745
         ],
         "b": [
          10.973155107805741
         ],
         "c": [
          21.86643816360344
         ],
         "hovertemplate": "index=707<br>red=%{a}<br>green=%{b}<br>blue=%{c}<extra></extra>",
         "legendgroup": "707",
         "marker": {
          "color": "rgb(28.228688090743745,10.973155107805741,21.86643816360344)",
          "symbol": "circle"
         },
         "mode": "markers",
         "name": "707",
         "showlegend": true,
         "subplot": "ternary",
         "type": "scatterternary"
        },
        {
         "a": [
          61.040168674014865
         ],
         "b": [
          80.68599423706918
         ],
         "c": [
          134.73309754562118
         ],
         "hovertemplate": "index=708<br>red=%{a}<br>green=%{b}<br>blue=%{c}<extra></extra>",
         "legendgroup": "708",
         "marker": {
          "color": "rgb(61.040168674014865,80.68599423706918,134.73309754562118)",
          "symbol": "circle"
         },
         "mode": "markers",
         "name": "708",
         "showlegend": true,
         "subplot": "ternary",
         "type": "scatterternary"
        },
        {
         "a": [
          70.70011107223522
         ],
         "b": [
          58.241419059339094
         ],
         "c": [
          106.43211551657808
         ],
         "hovertemplate": "index=709<br>red=%{a}<br>green=%{b}<br>blue=%{c}<extra></extra>",
         "legendgroup": "709",
         "marker": {
          "color": "rgb(70.70011107223522,58.241419059339094,106.43211551657808)",
          "symbol": "circle"
         },
         "mode": "markers",
         "name": "709",
         "showlegend": true,
         "subplot": "ternary",
         "type": "scatterternary"
        },
        {
         "a": [
          6.359777510519477
         ],
         "b": [
          14.731570133860973
         ],
         "c": [
          56.488612304670156
         ],
         "hovertemplate": "index=710<br>red=%{a}<br>green=%{b}<br>blue=%{c}<extra></extra>",
         "legendgroup": "710",
         "marker": {
          "color": "rgb(6.359777510519477,14.731570133860973,56.488612304670156)",
          "symbol": "circle"
         },
         "mode": "markers",
         "name": "710",
         "showlegend": true,
         "subplot": "ternary",
         "type": "scatterternary"
        },
        {
         "a": [
          3.42248880979385
         ],
         "b": [
          7.5509251093702865
         ],
         "c": [
          25.71112059344836
         ],
         "hovertemplate": "index=711<br>red=%{a}<br>green=%{b}<br>blue=%{c}<extra></extra>",
         "legendgroup": "711",
         "marker": {
          "color": "rgb(3.42248880979385,7.5509251093702865,25.71112059344836)",
          "symbol": "circle"
         },
         "mode": "markers",
         "name": "711",
         "showlegend": true,
         "subplot": "ternary",
         "type": "scatterternary"
        },
        {
         "a": [
          26.63892783312788
         ],
         "b": [
          29.315445841852622
         ],
         "c": [
          78.20662810557594
         ],
         "hovertemplate": "index=712<br>red=%{a}<br>green=%{b}<br>blue=%{c}<extra></extra>",
         "legendgroup": "712",
         "marker": {
          "color": "rgb(26.63892783312788,29.315445841852622,78.20662810557594)",
          "symbol": "circle"
         },
         "mode": "markers",
         "name": "712",
         "showlegend": true,
         "subplot": "ternary",
         "type": "scatterternary"
        },
        {
         "a": [
          0.14032453791286353
         ],
         "b": [
          0.6284678121014644
         ],
         "c": [
          5.737191890434414
         ],
         "hovertemplate": "index=713<br>red=%{a}<br>green=%{b}<br>blue=%{c}<extra></extra>",
         "legendgroup": "713",
         "marker": {
          "color": "rgb(0.14032453791286353,0.6284678121014644,5.737191890434414)",
          "symbol": "circle"
         },
         "mode": "markers",
         "name": "713",
         "showlegend": true,
         "subplot": "ternary",
         "type": "scatterternary"
        },
        {
         "a": [
          1.8343473364410408
         ],
         "b": [
          8.48965971119538
         ],
         "c": [
          37.11153756514395
         ],
         "hovertemplate": "index=714<br>red=%{a}<br>green=%{b}<br>blue=%{c}<extra></extra>",
         "legendgroup": "714",
         "marker": {
          "color": "rgb(1.8343473364410408,8.48965971119538,37.11153756514395)",
          "symbol": "circle"
         },
         "mode": "markers",
         "name": "714",
         "showlegend": true,
         "subplot": "ternary",
         "type": "scatterternary"
        },
        {
         "a": [
          10.350361938455483
         ],
         "b": [
          12.375198179870706
         ],
         "c": [
          56.70548833358188
         ],
         "hovertemplate": "index=715<br>red=%{a}<br>green=%{b}<br>blue=%{c}<extra></extra>",
         "legendgroup": "715",
         "marker": {
          "color": "rgb(10.350361938455483,12.375198179870706,56.70548833358188)",
          "symbol": "circle"
         },
         "mode": "markers",
         "name": "715",
         "showlegend": true,
         "subplot": "ternary",
         "type": "scatterternary"
        },
        {
         "a": [
          2.5924725089904186
         ],
         "b": [
          6.270605395001181
         ],
         "c": [
          38.683802803892966
         ],
         "hovertemplate": "index=716<br>red=%{a}<br>green=%{b}<br>blue=%{c}<extra></extra>",
         "legendgroup": "716",
         "marker": {
          "color": "rgb(2.5924725089904186,6.270605395001181,38.683802803892966)",
          "symbol": "circle"
         },
         "mode": "markers",
         "name": "716",
         "showlegend": true,
         "subplot": "ternary",
         "type": "scatterternary"
        },
        {
         "a": [
          17.91327289452671
         ],
         "b": [
          19.361200184696237
         ],
         "c": [
          46.88357710003867
         ],
         "hovertemplate": "index=719<br>red=%{a}<br>green=%{b}<br>blue=%{c}<extra></extra>",
         "legendgroup": "719",
         "marker": {
          "color": "rgb(17.91327289452671,19.361200184696237,46.88357710003867)",
          "symbol": "circle"
         },
         "mode": "markers",
         "name": "719",
         "showlegend": true,
         "subplot": "ternary",
         "type": "scatterternary"
        },
        {
         "a": [
          1.1964483839989937
         ],
         "b": [
          7.510546911949921
         ],
         "c": [
          40.831153133478296
         ],
         "hovertemplate": "index=721<br>red=%{a}<br>green=%{b}<br>blue=%{c}<extra></extra>",
         "legendgroup": "721",
         "marker": {
          "color": "rgb(1.1964483839989937,7.510546911949921,40.831153133478296)",
          "symbol": "circle"
         },
         "mode": "markers",
         "name": "721",
         "showlegend": true,
         "subplot": "ternary",
         "type": "scatterternary"
        },
        {
         "a": [
          0.7940701185836079
         ],
         "b": [
          6.371261553485657
         ],
         "c": [
          27.96220007227064
         ],
         "hovertemplate": "index=722<br>red=%{a}<br>green=%{b}<br>blue=%{c}<extra></extra>",
         "legendgroup": "722",
         "marker": {
          "color": "rgb(0.7940701185836079,6.371261553485657,27.96220007227064)",
          "symbol": "circle"
         },
         "mode": "markers",
         "name": "722",
         "showlegend": true,
         "subplot": "ternary",
         "type": "scatterternary"
        },
        {
         "a": [
          1.4961597874222383
         ],
         "b": [
          7.311162697041132
         ],
         "c": [
          35.21776694873081
         ],
         "hovertemplate": "index=723<br>red=%{a}<br>green=%{b}<br>blue=%{c}<extra></extra>",
         "legendgroup": "723",
         "marker": {
          "color": "rgb(1.4961597874222383,7.311162697041132,35.21776694873081)",
          "symbol": "circle"
         },
         "mode": "markers",
         "name": "723",
         "showlegend": true,
         "subplot": "ternary",
         "type": "scatterternary"
        },
        {
         "a": [
          10.91424552546145
         ],
         "b": [
          55.83568198602057
         ],
         "c": [
          126.13267802129273
         ],
         "hovertemplate": "index=724<br>red=%{a}<br>green=%{b}<br>blue=%{c}<extra></extra>",
         "legendgroup": "724",
         "marker": {
          "color": "rgb(10.91424552546145,55.83568198602057,126.13267802129273)",
          "symbol": "circle"
         },
         "mode": "markers",
         "name": "724",
         "showlegend": true,
         "subplot": "ternary",
         "type": "scatterternary"
        },
        {
         "a": [
          42.798209507363666
         ],
         "b": [
          99.16867913378903
         ],
         "c": [
          157.43567649959203
         ],
         "hovertemplate": "index=725<br>red=%{a}<br>green=%{b}<br>blue=%{c}<extra></extra>",
         "legendgroup": "725",
         "marker": {
          "color": "rgb(42.798209507363666,99.16867913378903,157.43567649959203)",
          "symbol": "circle"
         },
         "mode": "markers",
         "name": "725",
         "showlegend": true,
         "subplot": "ternary",
         "type": "scatterternary"
        },
        {
         "a": [
          0.43451510326739673
         ],
         "b": [
          8.994577504515389
         ],
         "c": [
          12.501243598613637
         ],
         "hovertemplate": "index=727<br>red=%{a}<br>green=%{b}<br>blue=%{c}<extra></extra>",
         "legendgroup": "727",
         "marker": {
          "color": "rgb(0.43451510326739673,8.994577504515389,12.501243598613637)",
          "symbol": "circle"
         },
         "mode": "markers",
         "name": "727",
         "showlegend": true,
         "subplot": "ternary",
         "type": "scatterternary"
        },
        {
         "a": [
          27.68875439243389
         ],
         "b": [
          60.55406730467161
         ],
         "c": [
          72.46116380219358
         ],
         "hovertemplate": "index=728<br>red=%{a}<br>green=%{b}<br>blue=%{c}<extra></extra>",
         "legendgroup": "728",
         "marker": {
          "color": "rgb(27.68875439243389,60.55406730467161,72.46116380219358)",
          "symbol": "circle"
         },
         "mode": "markers",
         "name": "728",
         "showlegend": true,
         "subplot": "ternary",
         "type": "scatterternary"
        },
        {
         "a": [
          0.4926971079788895
         ],
         "b": [
          10.059219757511347
         ],
         "c": [
          12.157298116483927
         ],
         "hovertemplate": "index=729<br>red=%{a}<br>green=%{b}<br>blue=%{c}<extra></extra>",
         "legendgroup": "729",
         "marker": {
          "color": "rgb(0.4926971079788895,10.059219757511347,12.157298116483927)",
          "symbol": "circle"
         },
         "mode": "markers",
         "name": "729",
         "showlegend": true,
         "subplot": "ternary",
         "type": "scatterternary"
        },
        {
         "a": [
          70.6644824226071
         ],
         "b": [
          122.21095696498818
         ],
         "c": [
          118.04511683414661
         ],
         "hovertemplate": "index=730<br>red=%{a}<br>green=%{b}<br>blue=%{c}<extra></extra>",
         "legendgroup": "730",
         "marker": {
          "color": "rgb(70.6644824226071,122.21095696498818,118.04511683414661)",
          "symbol": "circle"
         },
         "mode": "markers",
         "name": "730",
         "showlegend": true,
         "subplot": "ternary",
         "type": "scatterternary"
        },
        {
         "a": [
          77.75232362961593
         ],
         "b": [
          113.89811147432549
         ],
         "c": [
          98.75319188088108
         ],
         "hovertemplate": "index=731<br>red=%{a}<br>green=%{b}<br>blue=%{c}<extra></extra>",
         "legendgroup": "731",
         "marker": {
          "color": "rgb(77.75232362961593,113.89811147432549,98.75319188088108)",
          "symbol": "circle"
         },
         "mode": "markers",
         "name": "731",
         "showlegend": true,
         "subplot": "ternary",
         "type": "scatterternary"
        },
        {
         "a": [
          86.36208816053062
         ],
         "b": [
          105.97008168620115
         ],
         "c": [
          79.60118025557338
         ],
         "hovertemplate": "index=733<br>red=%{a}<br>green=%{b}<br>blue=%{c}<extra></extra>",
         "legendgroup": "733",
         "marker": {
          "color": "rgb(86.36208816053062,105.97008168620115,79.60118025557338)",
          "symbol": "circle"
         },
         "mode": "markers",
         "name": "733",
         "showlegend": true,
         "subplot": "ternary",
         "type": "scatterternary"
        },
        {
         "a": [
          0.522988796064244
         ],
         "b": [
          9.965625540826894
         ],
         "c": [
          6.618901483011535
         ],
         "hovertemplate": "index=735<br>red=%{a}<br>green=%{b}<br>blue=%{c}<extra></extra>",
         "legendgroup": "735",
         "marker": {
          "color": "rgb(0.522988796064244,9.965625540826894,6.618901483011535)",
          "symbol": "circle"
         },
         "mode": "markers",
         "name": "735",
         "showlegend": true,
         "subplot": "ternary",
         "type": "scatterternary"
        },
        {
         "a": [
          0.18168936515107387
         ],
         "b": [
          2.8604093039871707
         ],
         "c": [
          0.9730872859308788
         ],
         "hovertemplate": "index=736<br>red=%{a}<br>green=%{b}<br>blue=%{c}<extra></extra>",
         "legendgroup": "736",
         "marker": {
          "color": "rgb(0.18168936515107387,2.8604093039871707,0.9730872859308788)",
          "symbol": "circle"
         },
         "mode": "markers",
         "name": "736",
         "showlegend": true,
         "subplot": "ternary",
         "type": "scatterternary"
        },
        {
         "a": [
          14.99207580119515
         ],
         "b": [
          78.07045523247088
         ],
         "c": [
          29.125603696528774
         ],
         "hovertemplate": "index=738<br>red=%{a}<br>green=%{b}<br>blue=%{c}<extra></extra>",
         "legendgroup": "738",
         "marker": {
          "color": "rgb(14.99207580119515,78.07045523247088,29.125603696528774)",
          "symbol": "circle"
         },
         "mode": "markers",
         "name": "738",
         "showlegend": true,
         "subplot": "ternary",
         "type": "scatterternary"
        },
        {
         "a": [
          0.04421867820851273
         ],
         "b": [
          0.5274941020098636
         ],
         "c": [
          0.07521186157242266
         ],
         "hovertemplate": "index=740<br>red=%{a}<br>green=%{b}<br>blue=%{c}<extra></extra>",
         "legendgroup": "740",
         "marker": {
          "color": "rgb(0.04421867820851273,0.5274941020098636,0.07521186157242266)",
          "symbol": "circle"
         },
         "mode": "markers",
         "name": "740",
         "showlegend": true,
         "subplot": "ternary",
         "type": "scatterternary"
        },
        {
         "a": [
          0.36182523535073846
         ],
         "b": [
          0.4453030314037195
         ],
         "c": [
          0.0438630440573894
         ],
         "hovertemplate": "index=741<br>red=%{a}<br>green=%{b}<br>blue=%{c}<extra></extra>",
         "legendgroup": "741",
         "marker": {
          "color": "rgb(0.36182523535073846,0.4453030314037195,0.0438630440573894)",
          "symbol": "circle"
         },
         "mode": "markers",
         "name": "741",
         "showlegend": true,
         "subplot": "ternary",
         "type": "scatterternary"
        },
        {
         "a": [
          14.758838377571623
         ],
         "b": [
          6.467542934584113
         ],
         "c": [
          2.781474414876082
         ],
         "hovertemplate": "index=742<br>red=%{a}<br>green=%{b}<br>blue=%{c}<extra></extra>",
         "legendgroup": "742",
         "marker": {
          "color": "rgb(14.758838377571623,6.467542934584113,2.781474414876082)",
          "symbol": "circle"
         },
         "mode": "markers",
         "name": "742",
         "showlegend": true,
         "subplot": "ternary",
         "type": "scatterternary"
        },
        {
         "a": [
          152.52190705014928
         ],
         "b": [
          86.74966033483379
         ],
         "c": [
          34.06472877493813
         ],
         "hovertemplate": "index=744<br>red=%{a}<br>green=%{b}<br>blue=%{c}<extra></extra>",
         "legendgroup": "744",
         "marker": {
          "color": "rgb(152.52190705014928,86.74966033483379,34.06472877493813)",
          "symbol": "circle"
         },
         "mode": "markers",
         "name": "744",
         "showlegend": true,
         "subplot": "ternary",
         "type": "scatterternary"
        },
        {
         "a": [
          0.17248186717412503
         ],
         "b": [
          0.07343187045666873
         ],
         "c": [
          0.024914622609118146
         ],
         "hovertemplate": "index=746<br>red=%{a}<br>green=%{b}<br>blue=%{c}<extra></extra>",
         "legendgroup": "746",
         "marker": {
          "color": "rgb(0.17248186717412503,0.07343187045666873,0.024914622609118146)",
          "symbol": "circle"
         },
         "mode": "markers",
         "name": "746",
         "showlegend": true,
         "subplot": "ternary",
         "type": "scatterternary"
        },
        {
         "a": [
          49.34213115973068
         ],
         "b": [
          26.22494619927791
         ],
         "c": [
          14.294722275243007
         ],
         "hovertemplate": "index=747<br>red=%{a}<br>green=%{b}<br>blue=%{c}<extra></extra>",
         "legendgroup": "747",
         "marker": {
          "color": "rgb(49.34213115973068,26.22494619927791,14.294722275243007)",
          "symbol": "circle"
         },
         "mode": "markers",
         "name": "747",
         "showlegend": true,
         "subplot": "ternary",
         "type": "scatterternary"
        },
        {
         "a": [
          53.074556575140114
         ],
         "b": [
          17.260225707677886
         ],
         "c": [
          13.68188180929188
         ],
         "hovertemplate": "index=748<br>red=%{a}<br>green=%{b}<br>blue=%{c}<extra></extra>",
         "legendgroup": "748",
         "marker": {
          "color": "rgb(53.074556575140114,17.260225707677886,13.68188180929188)",
          "symbol": "circle"
         },
         "mode": "markers",
         "name": "748",
         "showlegend": true,
         "subplot": "ternary",
         "type": "scatterternary"
        },
        {
         "a": [
          186.8438521856036
         ],
         "b": [
          157.61664080184525
         ],
         "c": [
          97.333662577394
         ],
         "hovertemplate": "index=763<br>red=%{a}<br>green=%{b}<br>blue=%{c}<extra></extra>",
         "legendgroup": "763",
         "marker": {
          "color": "rgb(186.8438521856036,157.61664080184525,97.333662577394)",
          "symbol": "circle"
         },
         "mode": "markers",
         "name": "763",
         "showlegend": true,
         "subplot": "ternary",
         "type": "scatterternary"
        },
        {
         "a": [
          194.67402048297114
         ],
         "b": [
          149.75530583899595
         ],
         "c": [
          75.21950977461132
         ],
         "hovertemplate": "index=764<br>red=%{a}<br>green=%{b}<br>blue=%{c}<extra></extra>",
         "legendgroup": "764",
         "marker": {
          "color": "rgb(194.67402048297114,149.75530583899595,75.21950977461132)",
          "symbol": "circle"
         },
         "mode": "markers",
         "name": "764",
         "showlegend": true,
         "subplot": "ternary",
         "type": "scatterternary"
        },
        {
         "a": [
          199.5804403780195
         ],
         "b": [
          148.92066066016562
         ],
         "c": [
          58.75054859967591
         ],
         "hovertemplate": "index=765<br>red=%{a}<br>green=%{b}<br>blue=%{c}<extra></extra>",
         "legendgroup": "765",
         "marker": {
          "color": "rgb(199.5804403780195,148.92066066016562,58.75054859967591)",
          "symbol": "circle"
         },
         "mode": "markers",
         "name": "765",
         "showlegend": true,
         "subplot": "ternary",
         "type": "scatterternary"
        },
        {
         "a": [
          189.4665728831779
         ],
         "b": [
          118.24825198562323
         ],
         "c": [
          28.191723400788558
         ],
         "hovertemplate": "index=767<br>red=%{a}<br>green=%{b}<br>blue=%{c}<extra></extra>",
         "legendgroup": "767",
         "marker": {
          "color": "rgb(189.4665728831779,118.24825198562323,28.191723400788558)",
          "symbol": "circle"
         },
         "mode": "markers",
         "name": "767",
         "showlegend": true,
         "subplot": "ternary",
         "type": "scatterternary"
        },
        {
         "a": [
          182.0893379173792
         ],
         "b": [
          90.44272285667648
         ],
         "c": [
          20.56031445232363
         ],
         "hovertemplate": "index=768<br>red=%{a}<br>green=%{b}<br>blue=%{c}<extra></extra>",
         "legendgroup": "768",
         "marker": {
          "color": "rgb(182.0893379173792,90.44272285667648,20.56031445232363)",
          "symbol": "circle"
         },
         "mode": "markers",
         "name": "768",
         "showlegend": true,
         "subplot": "ternary",
         "type": "scatterternary"
        },
        {
         "a": [
          181.74458768397136
         ],
         "b": [
          76.93859838535009
         ],
         "c": [
          18.988129835679647
         ],
         "hovertemplate": "index=770<br>red=%{a}<br>green=%{b}<br>blue=%{c}<extra></extra>",
         "legendgroup": "770",
         "marker": {
          "color": "rgb(181.74458768397136,76.93859838535009,18.988129835679647)",
          "symbol": "circle"
         },
         "mode": "markers",
         "name": "770",
         "showlegend": true,
         "subplot": "ternary",
         "type": "scatterternary"
        },
        {
         "a": [
          179.86856440561115
         ],
         "b": [
          95.04425362924448
         ],
         "c": [
          47.99527483444746
         ],
         "hovertemplate": "index=773<br>red=%{a}<br>green=%{b}<br>blue=%{c}<extra></extra>",
         "legendgroup": "773",
         "marker": {
          "color": "rgb(179.86856440561115,95.04425362924448,47.99527483444746)",
          "symbol": "circle"
         },
         "mode": "markers",
         "name": "773",
         "showlegend": true,
         "subplot": "ternary",
         "type": "scatterternary"
        },
        {
         "a": [
          186.1291799906552
         ],
         "b": [
          86.55223524985796
         ],
         "c": [
          36.09842836007232
         ],
         "hovertemplate": "index=776<br>red=%{a}<br>green=%{b}<br>blue=%{c}<extra></extra>",
         "legendgroup": "776",
         "marker": {
          "color": "rgb(186.1291799906552,86.55223524985796,36.09842836007232)",
          "symbol": "circle"
         },
         "mode": "markers",
         "name": "776",
         "showlegend": true,
         "subplot": "ternary",
         "type": "scatterternary"
        },
        {
         "a": [
          90.86141179893083
         ],
         "b": [
          29.501499884061207
         ],
         "c": [
          9.980779652987067
         ],
         "hovertemplate": "index=777<br>red=%{a}<br>green=%{b}<br>blue=%{c}<extra></extra>",
         "legendgroup": "777",
         "marker": {
          "color": "rgb(90.86141179893083,29.501499884061207,9.980779652987067)",
          "symbol": "circle"
         },
         "mode": "markers",
         "name": "777",
         "showlegend": true,
         "subplot": "ternary",
         "type": "scatterternary"
        },
        {
         "a": [
          150.76537131543054
         ],
         "b": [
          46.8833247011411
         ],
         "c": [
          15.061003080166028
         ],
         "hovertemplate": "index=778<br>red=%{a}<br>green=%{b}<br>blue=%{c}<extra></extra>",
         "legendgroup": "778",
         "marker": {
          "color": "rgb(150.76537131543054,46.8833247011411,15.061003080166028)",
          "symbol": "circle"
         },
         "mode": "markers",
         "name": "778",
         "showlegend": true,
         "subplot": "ternary",
         "type": "scatterternary"
        },
        {
         "a": [
          185.6228606112679
         ],
         "b": [
          71.13696004727272
         ],
         "c": [
          24.176567893770972
         ],
         "hovertemplate": "index=779<br>red=%{a}<br>green=%{b}<br>blue=%{c}<extra></extra>",
         "legendgroup": "779",
         "marker": {
          "color": "rgb(185.6228606112679,71.13696004727272,24.176567893770972)",
          "symbol": "circle"
         },
         "mode": "markers",
         "name": "779",
         "showlegend": true,
         "subplot": "ternary",
         "type": "scatterternary"
        },
        {
         "a": [
          147.40878364769983
         ],
         "b": [
          46.09932381627686
         ],
         "c": [
          14.411178447538997
         ],
         "hovertemplate": "index=780<br>red=%{a}<br>green=%{b}<br>blue=%{c}<extra></extra>",
         "legendgroup": "780",
         "marker": {
          "color": "rgb(147.40878364769983,46.09932381627686,14.411178447538997)",
          "symbol": "circle"
         },
         "mode": "markers",
         "name": "780",
         "showlegend": true,
         "subplot": "ternary",
         "type": "scatterternary"
        },
        {
         "a": [
          142.72950871649323
         ],
         "b": [
          38.687170466934845
         ],
         "c": [
          14.510053947686599
         ],
         "hovertemplate": "index=781<br>red=%{a}<br>green=%{b}<br>blue=%{c}<extra></extra>",
         "legendgroup": "781",
         "marker": {
          "color": "rgb(142.72950871649323,38.687170466934845,14.510053947686599)",
          "symbol": "circle"
         },
         "mode": "markers",
         "name": "781",
         "showlegend": true,
         "subplot": "ternary",
         "type": "scatterternary"
        },
        {
         "a": [
          37.194675484924076
         ],
         "b": [
          11.578638872915466
         ],
         "c": [
          6.222015885280816
         ],
         "hovertemplate": "index=787<br>red=%{a}<br>green=%{b}<br>blue=%{c}<extra></extra>",
         "legendgroup": "787",
         "marker": {
          "color": "rgb(37.194675484924076,11.578638872915466,6.222015885280816)",
          "symbol": "circle"
         },
         "mode": "markers",
         "name": "787",
         "showlegend": true,
         "subplot": "ternary",
         "type": "scatterternary"
        },
        {
         "a": [
          2.015922272878732
         ],
         "b": [
          0.6249961876326975
         ],
         "c": [
          0.26923442505170764
         ],
         "hovertemplate": "index=789<br>red=%{a}<br>green=%{b}<br>blue=%{c}<extra></extra>",
         "legendgroup": "789",
         "marker": {
          "color": "rgb(2.015922272878732,0.6249961876326975,0.26923442505170764)",
          "symbol": "circle"
         },
         "mode": "markers",
         "name": "789",
         "showlegend": true,
         "subplot": "ternary",
         "type": "scatterternary"
        },
        {
         "a": [
          169.4796594109638
         ],
         "b": [
          84.94263755758186
         ],
         "c": [
          57.09855260313034
         ],
         "hovertemplate": "index=790<br>red=%{a}<br>green=%{b}<br>blue=%{c}<extra></extra>",
         "legendgroup": "790",
         "marker": {
          "color": "rgb(169.4796594109638,84.94263755758186,57.09855260313034)",
          "symbol": "circle"
         },
         "mode": "markers",
         "name": "790",
         "showlegend": true,
         "subplot": "ternary",
         "type": "scatterternary"
        },
        {
         "a": [
          121.72657968592017
         ],
         "b": [
          31.151125265173633
         ],
         "c": [
          25.38337713299376
         ],
         "hovertemplate": "index=793<br>red=%{a}<br>green=%{b}<br>blue=%{c}<extra></extra>",
         "legendgroup": "793",
         "marker": {
          "color": "rgb(121.72657968592017,31.151125265173633,25.38337713299376)",
          "symbol": "circle"
         },
         "mode": "markers",
         "name": "793",
         "showlegend": true,
         "subplot": "ternary",
         "type": "scatterternary"
        },
        {
         "a": [
          179.98001334645463
         ],
         "b": [
          82.2314327797089
         ],
         "c": [
          105.57809328076293
         ],
         "hovertemplate": "index=794<br>red=%{a}<br>green=%{b}<br>blue=%{c}<extra></extra>",
         "legendgroup": "794",
         "marker": {
          "color": "rgb(179.98001334645463,82.2314327797089,105.57809328076293)",
          "symbol": "circle"
         },
         "mode": "markers",
         "name": "794",
         "showlegend": true,
         "subplot": "ternary",
         "type": "scatterternary"
        },
        {
         "a": [
          110.94289901763588
         ],
         "b": [
          31.884019881024628
         ],
         "c": [
          50.395342172202355
         ],
         "hovertemplate": "index=795<br>red=%{a}<br>green=%{b}<br>blue=%{c}<extra></extra>",
         "legendgroup": "795",
         "marker": {
          "color": "rgb(110.94289901763588,31.884019881024628,50.395342172202355)",
          "symbol": "circle"
         },
         "mode": "markers",
         "name": "795",
         "showlegend": true,
         "subplot": "ternary",
         "type": "scatterternary"
        },
        {
         "a": [
          43.85003411306573
         ],
         "b": [
          13.758978947082808
         ],
         "c": [
          15.955622604781759
         ],
         "hovertemplate": "index=797<br>red=%{a}<br>green=%{b}<br>blue=%{c}<extra></extra>",
         "legendgroup": "797",
         "marker": {
          "color": "rgb(43.85003411306573,13.758978947082808,15.955622604781759)",
          "symbol": "circle"
         },
         "mode": "markers",
         "name": "797",
         "showlegend": true,
         "subplot": "ternary",
         "type": "scatterternary"
        },
        {
         "a": [
          47.24249320447521
         ],
         "b": [
          17.416810303504896
         ],
         "c": [
          38.28770727361007
         ],
         "hovertemplate": "index=798<br>red=%{a}<br>green=%{b}<br>blue=%{c}<extra></extra>",
         "legendgroup": "798",
         "marker": {
          "color": "rgb(47.24249320447521,17.416810303504896,38.28770727361007)",
          "symbol": "circle"
         },
         "mode": "markers",
         "name": "798",
         "showlegend": true,
         "subplot": "ternary",
         "type": "scatterternary"
        },
        {
         "a": [
          2.0091787141057385
         ],
         "b": [
          1.7462426891491676
         ],
         "c": [
          13.394526734881728
         ],
         "hovertemplate": "index=799<br>red=%{a}<br>green=%{b}<br>blue=%{c}<extra></extra>",
         "legendgroup": "799",
         "marker": {
          "color": "rgb(2.0091787141057385,1.7462426891491676,13.394526734881728)",
          "symbol": "circle"
         },
         "mode": "markers",
         "name": "799",
         "showlegend": true,
         "subplot": "ternary",
         "type": "scatterternary"
        },
        {
         "a": [
          97.97412811383724
         ],
         "b": [
          147.67133807057095
         ],
         "c": [
          153.63127236590293
         ],
         "hovertemplate": "index=SC15<br>red=%{a}<br>green=%{b}<br>blue=%{c}<extra></extra>",
         "legendgroup": "SC15",
         "marker": {
          "color": "rgb(97.97412811383724,147.67133807057095,153.63127236590293)",
          "symbol": "circle"
         },
         "mode": "markers",
         "name": "SC15",
         "showlegend": true,
         "subplot": "ternary",
         "type": "scatterternary"
        },
        {
         "a": [
          53.38785006963183
         ],
         "b": [
          120.20130470054826
         ],
         "c": [
          139.99596739053152
         ],
         "hovertemplate": "index=SC30<br>red=%{a}<br>green=%{b}<br>blue=%{c}<extra></extra>",
         "legendgroup": "SC30",
         "marker": {
          "color": "rgb(53.38785006963183,120.20130470054826,139.99596739053152)",
          "symbol": "circle"
         },
         "mode": "markers",
         "name": "SC30",
         "showlegend": true,
         "subplot": "ternary",
         "type": "scatterternary"
        },
        {
         "a": [
          17.309560541114156
         ],
         "b": [
          86.30579393016737
         ],
         "c": [
          102.00424991958965
         ],
         "hovertemplate": "index=SC60<br>red=%{a}<br>green=%{b}<br>blue=%{c}<extra></extra>",
         "legendgroup": "SC60",
         "marker": {
          "color": "rgb(17.309560541114156,86.30579393016737,102.00424991958965)",
          "symbol": "circle"
         },
         "mode": "markers",
         "name": "SC60",
         "showlegend": true,
         "subplot": "ternary",
         "type": "scatterternary"
        },
        {
         "a": [
          114.97378252425075
         ],
         "b": [
          94.23303870360385
         ],
         "c": [
          80.52522097849764
         ],
         "hovertemplate": "index=805<br>red=%{a}<br>green=%{b}<br>blue=%{c}<extra></extra>",
         "legendgroup": "805",
         "marker": {
          "color": "rgb(114.97378252425075,94.23303870360385,80.52522097849764)",
          "symbol": "circle"
         },
         "mode": "markers",
         "name": "805",
         "showlegend": true,
         "subplot": "ternary",
         "type": "scatterternary"
        },
        {
         "a": [
          125.50083206605717
         ],
         "b": [
          95.75895314221897
         ],
         "c": [
          95.65331706626792
         ],
         "hovertemplate": "index=806<br>red=%{a}<br>green=%{b}<br>blue=%{c}<extra></extra>",
         "legendgroup": "806",
         "marker": {
          "color": "rgb(125.50083206605717,95.75895314221897,95.65331706626792)",
          "symbol": "circle"
         },
         "mode": "markers",
         "name": "806",
         "showlegend": true,
         "subplot": "ternary",
         "type": "scatterternary"
        },
        {
         "a": [
          114.8263191842053
         ],
         "b": [
          84.54453387651652
         ],
         "c": [
          68.88234321080196
         ],
         "hovertemplate": "index=807<br>red=%{a}<br>green=%{b}<br>blue=%{c}<extra></extra>",
         "legendgroup": "807",
         "marker": {
          "color": "rgb(114.8263191842053,84.54453387651652,68.88234321080196)",
          "symbol": "circle"
         },
         "mode": "markers",
         "name": "807",
         "showlegend": true,
         "subplot": "ternary",
         "type": "scatterternary"
        },
        {
         "a": [
          138.71611438713998
         ],
         "b": [
          114.62666258608054
         ],
         "c": [
          96.81405172278065
         ],
         "hovertemplate": "index=808<br>red=%{a}<br>green=%{b}<br>blue=%{c}<extra></extra>",
         "legendgroup": "808",
         "marker": {
          "color": "rgb(138.71611438713998,114.62666258608054,96.81405172278065)",
          "symbol": "circle"
         },
         "mode": "markers",
         "name": "808",
         "showlegend": true,
         "subplot": "ternary",
         "type": "scatterternary"
        },
        {
         "a": [
          121.48089710744038
         ],
         "b": [
          119.8419705545314
         ],
         "c": [
          87.89676680156018
         ],
         "hovertemplate": "index=809<br>red=%{a}<br>green=%{b}<br>blue=%{c}<extra></extra>",
         "legendgroup": "809",
         "marker": {
          "color": "rgb(121.48089710744038,119.8419705545314,87.89676680156018)",
          "symbol": "circle"
         },
         "mode": "markers",
         "name": "809",
         "showlegend": true,
         "subplot": "ternary",
         "type": "scatterternary"
        },
        {
         "a": [
          86.0342586010437
         ],
         "b": [
          106.93436982576873
         ],
         "c": [
          108.27188875536963
         ],
         "hovertemplate": "index=810<br>red=%{a}<br>green=%{b}<br>blue=%{c}<extra></extra>",
         "legendgroup": "810",
         "marker": {
          "color": "rgb(86.0342586010437,106.93436982576873,108.27188875536963)",
          "symbol": "circle"
         },
         "mode": "markers",
         "name": "810",
         "showlegend": true,
         "subplot": "ternary",
         "type": "scatterternary"
        },
        {
         "a": [
          98.33949471128956
         ],
         "b": [
          93.26453959195123
         ],
         "c": [
          90.85395747933268
         ],
         "hovertemplate": "index=801<br>red=%{a}<br>green=%{b}<br>blue=%{c}<extra></extra>",
         "legendgroup": "801",
         "marker": {
          "color": "rgb(98.33949471128956,93.26453959195123,90.85395747933268)",
          "symbol": "circle"
         },
         "mode": "markers",
         "name": "801",
         "showlegend": true,
         "subplot": "ternary",
         "type": "scatterternary"
        },
        {
         "a": [
          91.07722570775444
         ],
         "b": [
          84.79872763305042
         ],
         "c": [
          83.5529437360636
         ],
         "hovertemplate": "index=221<br>red=%{a}<br>green=%{b}<br>blue=%{c}<extra></extra>",
         "legendgroup": "221",
         "marker": {
          "color": "rgb(91.07722570775444,84.79872763305042,83.5529437360636)",
          "symbol": "circle"
         },
         "mode": "markers",
         "name": "221",
         "showlegend": true,
         "subplot": "ternary",
         "type": "scatterternary"
        },
        {
         "a": [
          13.50638527333051
         ],
         "b": [
          23.76904943179258
         ],
         "c": [
          48.558921284108074
         ],
         "hovertemplate": "index=224<br>red=%{a}<br>green=%{b}<br>blue=%{c}<extra></extra>",
         "legendgroup": "224",
         "marker": {
          "color": "rgb(13.50638527333051,23.76904943179258,48.558921284108074)",
          "symbol": "circle"
         },
         "mode": "markers",
         "name": "224",
         "showlegend": true,
         "subplot": "ternary",
         "type": "scatterternary"
        },
        {
         "a": [
          51.18502110936627
         ],
         "b": [
          39.93328646206619
         ],
         "c": [
          33.51877440681759
         ],
         "hovertemplate": "index=225<br>red=%{a}<br>green=%{b}<br>blue=%{c}<extra></extra>",
         "legendgroup": "225",
         "marker": {
          "color": "rgb(51.18502110936627,39.93328646206619,33.51877440681759)",
          "symbol": "circle"
         },
         "mode": "markers",
         "name": "225",
         "showlegend": true,
         "subplot": "ternary",
         "type": "scatterternary"
        },
        {
         "a": [
          84.33051283280368
         ],
         "b": [
          54.437062878456864
         ],
         "c": [
          114.27231234059336
         ],
         "hovertemplate": "index=705<br>red=%{a}<br>green=%{b}<br>blue=%{c}<extra></extra>",
         "legendgroup": "705",
         "marker": {
          "color": "rgb(84.33051283280368,54.437062878456864,114.27231234059336)",
          "symbol": "circle"
         },
         "mode": "markers",
         "name": "705",
         "showlegend": true,
         "subplot": "ternary",
         "type": "scatterternary"
        },
        {
         "a": [
          25.24564853651135
         ],
         "b": [
          56.204042777108626
         ],
         "c": [
          121.29968225081831
         ],
         "hovertemplate": "index=717<br>red=%{a}<br>green=%{b}<br>blue=%{c}<extra></extra>",
         "legendgroup": "717",
         "marker": {
          "color": "rgb(25.24564853651135,56.204042777108626,121.29968225081831)",
          "symbol": "circle"
         },
         "mode": "markers",
         "name": "717",
         "showlegend": true,
         "subplot": "ternary",
         "type": "scatterternary"
        },
        {
         "a": [
          60.85646162669904
         ],
         "b": [
          95.80690773120277
         ],
         "c": [
          150.73915992839065
         ],
         "hovertemplate": "index=718<br>red=%{a}<br>green=%{b}<br>blue=%{c}<extra></extra>",
         "legendgroup": "718",
         "marker": {
          "color": "rgb(60.85646162669904,95.80690773120277,150.73915992839065)",
          "symbol": "circle"
         },
         "mode": "markers",
         "name": "718",
         "showlegend": true,
         "subplot": "ternary",
         "type": "scatterternary"
        },
        {
         "a": [
          18.858237311394063
         ],
         "b": [
          47.20105888152428
         ],
         "c": [
          116.39989847056923
         ],
         "hovertemplate": "index=720<br>red=%{a}<br>green=%{b}<br>blue=%{c}<extra></extra>",
         "legendgroup": "720",
         "marker": {
          "color": "rgb(18.858237311394063,47.20105888152428,116.39989847056923)",
          "symbol": "circle"
         },
         "mode": "markers",
         "name": "720",
         "showlegend": true,
         "subplot": "ternary",
         "type": "scatterternary"
        },
        {
         "a": [
          196.20434036222974
         ],
         "b": [
          128.3327205378738
         ],
         "c": [
          107.56930953433277
         ],
         "hovertemplate": "index=749<br>red=%{a}<br>green=%{b}<br>blue=%{c}<extra></extra>",
         "legendgroup": "749",
         "marker": {
          "color": "rgb(196.20434036222974,128.3327205378738,107.56930953433277)",
          "symbol": "circle"
         },
         "mode": "markers",
         "name": "749",
         "showlegend": true,
         "subplot": "ternary",
         "type": "scatterternary"
        },
        {
         "a": [
          208.2589521269494
         ],
         "b": [
          207.0977396867457
         ],
         "c": [
          205.95579451617218
         ],
         "hovertemplate": "index=750<br>red=%{a}<br>green=%{b}<br>blue=%{c}<extra></extra>",
         "legendgroup": "750",
         "marker": {
          "color": "rgb(208.2589521269494,207.0977396867457,205.95579451617218)",
          "symbol": "circle"
         },
         "mode": "markers",
         "name": "750",
         "showlegend": true,
         "subplot": "ternary",
         "type": "scatterternary"
        },
        {
         "a": [
          163.15468737672424
         ],
         "b": [
          103.16849184964391
         ],
         "c": [
          64.36397420134946
         ],
         "hovertemplate": "index=774<br>red=%{a}<br>green=%{b}<br>blue=%{c}<extra></extra>",
         "legendgroup": "774",
         "marker": {
          "color": "rgb(163.15468737672424,103.16849184964391,64.36397420134946)",
          "symbol": "circle"
         },
         "mode": "markers",
         "name": "774",
         "showlegend": true,
         "subplot": "ternary",
         "type": "scatterternary"
        },
        {
         "a": [
          148.5436141863573
         ],
         "b": [
          74.32634351109249
         ],
         "c": [
          34.93513523263586
         ],
         "hovertemplate": "index=775<br>red=%{a}<br>green=%{b}<br>blue=%{c}<extra></extra>",
         "legendgroup": "775",
         "marker": {
          "color": "rgb(148.5436141863573,74.32634351109249,34.93513523263586)",
          "symbol": "circle"
         },
         "mode": "markers",
         "name": "775",
         "showlegend": true,
         "subplot": "ternary",
         "type": "scatterternary"
        },
        {
         "a": [
          179.95335781297584
         ],
         "b": [
          90.55503691164085
         ],
         "c": [
          63.47905714103683
         ],
         "hovertemplate": "index=791<br>red=%{a}<br>green=%{b}<br>blue=%{c}<extra></extra>",
         "legendgroup": "791",
         "marker": {
          "color": "rgb(179.95335781297584,90.55503691164085,63.47905714103683)",
          "symbol": "circle"
         },
         "mode": "markers",
         "name": "791",
         "showlegend": true,
         "subplot": "ternary",
         "type": "scatterternary"
        },
        {
         "a": [
          62.853477417590824
         ],
         "b": [
          63.297091572965954
         ],
         "c": [
          60.05800142460733
         ],
         "hovertemplate": "index=209<br>red=%{a}<br>green=%{b}<br>blue=%{c}<extra></extra>",
         "legendgroup": "209",
         "marker": {
          "color": "rgb(62.853477417590824,63.297091572965954,60.05800142460733)",
          "symbol": "circle"
         },
         "mode": "markers",
         "name": "209",
         "showlegend": true,
         "subplot": "ternary",
         "type": "scatterternary"
        },
        {
         "a": [
          14.865189274073883
         ],
         "b": [
          14.89205979052862
         ],
         "c": [
          13.487632669111774
         ],
         "hovertemplate": "index=210<br>red=%{a}<br>green=%{b}<br>blue=%{c}<extra></extra>",
         "legendgroup": "210",
         "marker": {
          "color": "rgb(14.865189274073883,14.89205979052862,13.487632669111774)",
          "symbol": "circle"
         },
         "mode": "markers",
         "name": "210",
         "showlegend": true,
         "subplot": "ternary",
         "type": "scatterternary"
        },
        {
         "a": [
          4.978984525689739
         ],
         "b": [
          4.382340806763415
         ],
         "c": [
          3.7042662382356633
         ],
         "hovertemplate": "index=211<br>red=%{a}<br>green=%{b}<br>blue=%{c}<extra></extra>",
         "legendgroup": "211",
         "marker": {
          "color": "rgb(4.978984525689739,4.382340806763415,3.7042662382356633)",
          "symbol": "circle"
         },
         "mode": "markers",
         "name": "211",
         "showlegend": true,
         "subplot": "ternary",
         "type": "scatterternary"
        },
        {
         "a": [
          126.02236511322081
         ],
         "b": [
          125.93620286381226
         ],
         "c": [
          120.01862715503529
         ],
         "hovertemplate": "index=298<br>red=%{a}<br>green=%{b}<br>blue=%{c}<extra></extra>",
         "legendgroup": "298",
         "marker": {
          "color": "rgb(126.02236511322081,125.93620286381226,120.01862715503529)",
          "symbol": "circle"
         },
         "mode": "markers",
         "name": "298",
         "showlegend": true,
         "subplot": "ternary",
         "type": "scatterternary"
        },
        {
         "a": [
          0.9677010513622964
         ],
         "b": [
          0.9018185045621827
         ],
         "c": [
          0.9399513005705159
         ],
         "hovertemplate": "index=299<br>red=%{a}<br>green=%{b}<br>blue=%{c}<extra></extra>",
         "legendgroup": "299",
         "marker": {
          "color": "rgb(0.9677010513622964,0.9018185045621827,0.9399513005705159)",
          "symbol": "circle"
         },
         "mode": "markers",
         "name": "299",
         "showlegend": true,
         "subplot": "ternary",
         "type": "scatterternary"
        },
        {
         "a": [
          53.5992205539473
         ],
         "b": [
          55.31480833760441
         ],
         "c": [
          49.940968948584974
         ],
         "hovertemplate": "index=239<br>red=%{a}<br>green=%{b}<br>blue=%{c}<extra></extra>",
         "legendgroup": "239",
         "marker": {
          "color": "rgb(53.5992205539473,55.31480833760441,49.940968948584974)",
          "symbol": "circle"
         },
         "mode": "markers",
         "name": "239",
         "showlegend": true,
         "subplot": "ternary",
         "type": "scatterternary"
        },
        {
         "a": [
          215.89780721943342
         ],
         "b": [
          214.6031620532204
         ],
         "c": [
          211.80378997794378
         ],
         "hovertemplate": "index=269<br>red=%{a}<br>green=%{b}<br>blue=%{c}<extra></extra>",
         "legendgroup": "269",
         "marker": {
          "color": "rgb(215.89780721943342,214.6031620532204,211.80378997794378)",
          "symbol": "circle"
         },
         "mode": "markers",
         "name": "269",
         "showlegend": true,
         "subplot": "ternary",
         "type": "scatterternary"
        },
        {
         "a": [
          208.14168267900516
         ],
         "b": [
          206.65433569351458
         ],
         "c": [
          191.73714838841715
         ],
         "hovertemplate": "index=226<br>red=%{a}<br>green=%{b}<br>blue=%{c}<extra></extra>",
         "legendgroup": "226",
         "marker": {
          "color": "rgb(208.14168267900516,206.65433569351458,191.73714838841715)",
          "symbol": "circle"
         },
         "mode": "markers",
         "name": "226",
         "showlegend": true,
         "subplot": "ternary",
         "type": "scatterternary"
        },
        {
         "a": [
          175.33933172099643
         ],
         "b": [
          88.935077442672
         ],
         "c": [
          33.435063836401326
         ],
         "hovertemplate": "index=A204<br>red=%{a}<br>green=%{b}<br>blue=%{c}<extra></extra>",
         "legendgroup": "A204",
         "marker": {
          "color": "rgb(175.33933172099643,88.935077442672,33.435063836401326)",
          "symbol": "circle"
         },
         "mode": "markers",
         "name": "A204",
         "showlegend": true,
         "subplot": "ternary",
         "type": "scatterternary"
        },
        {
         "a": [
          194.85168617157714
         ],
         "b": [
          132.80516106856555
         ],
         "c": [
          71.16193190224931
         ],
         "hovertemplate": "index=A205<br>red=%{a}<br>green=%{b}<br>blue=%{c}<extra></extra>",
         "legendgroup": "A205",
         "marker": {
          "color": "rgb(194.85168617157714,132.80516106856555,71.16193190224931)",
          "symbol": "circle"
         },
         "mode": "markers",
         "name": "A205",
         "showlegend": true,
         "subplot": "ternary",
         "type": "scatterternary"
        },
        {
         "a": [
          50.703818592336866
         ],
         "b": [
          25.990135511213193
         ],
         "c": [
          9.298948390162655
         ],
         "hovertemplate": "index=A207<br>red=%{a}<br>green=%{b}<br>blue=%{c}<extra></extra>",
         "legendgroup": "A207",
         "marker": {
          "color": "rgb(50.703818592336866,25.990135511213193,9.298948390162655)",
          "symbol": "circle"
         },
         "mode": "markers",
         "name": "A207",
         "showlegend": true,
         "subplot": "ternary",
         "type": "scatterternary"
        },
        {
         "a": [
          19.15187173690061
         ],
         "b": [
          8.64242117755643
         ],
         "c": [
          3.5008890230225918
         ],
         "hovertemplate": "index=A208<br>red=%{a}<br>green=%{b}<br>blue=%{c}<extra></extra>",
         "legendgroup": "A208",
         "marker": {
          "color": "rgb(19.15187173690061,8.64242117755643,3.5008890230225918)",
          "symbol": "circle"
         },
         "mode": "markers",
         "name": "A208",
         "showlegend": true,
         "subplot": "ternary",
         "type": "scatterternary"
        },
        {
         "a": [
          62.853477417590824
         ],
         "b": [
          63.297091572965954
         ],
         "c": [
          60.05800142460733
         ],
         "hovertemplate": "index=A209<br>red=%{a}<br>green=%{b}<br>blue=%{c}<extra></extra>",
         "legendgroup": "A209",
         "marker": {
          "color": "rgb(62.853477417590824,63.297091572965954,60.05800142460733)",
          "symbol": "circle"
         },
         "mode": "markers",
         "name": "A209",
         "showlegend": true,
         "subplot": "ternary",
         "type": "scatterternary"
        },
        {
         "a": [
          8.401279980547189
         ],
         "b": [
          65.74105976967785
         ],
         "c": [
          169.78591919297435
         ],
         "hovertemplate": "index=B06<br>red=%{a}<br>green=%{b}<br>blue=%{c}<extra></extra>",
         "legendgroup": "B06",
         "marker": {
          "color": "rgb(8.401279980547189,65.74105976967785,169.78591919297435)",
          "symbol": "circle"
         },
         "mode": "markers",
         "name": "B06",
         "showlegend": true,
         "subplot": "ternary",
         "type": "scatterternary"
        },
        {
         "a": [
          14.032321541548885
         ],
         "b": [
          81.126088716815
         ],
         "c": [
          176.9068097700301
         ],
         "hovertemplate": "index=B14<br>red=%{a}<br>green=%{b}<br>blue=%{c}<extra></extra>",
         "legendgroup": "B14",
         "marker": {
          "color": "rgb(14.032321541548885,81.126088716815,176.9068097700301)",
          "symbol": "circle"
         },
         "mode": "markers",
         "name": "B14",
         "showlegend": true,
         "subplot": "ternary",
         "type": "scatterternary"
        },
        {
         "a": [
          14.506978228411816
         ],
         "b": [
          77.46936601419863
         ],
         "c": [
          174.62383483290515
         ],
         "hovertemplate": "index=B24<br>red=%{a}<br>green=%{b}<br>blue=%{c}<extra></extra>",
         "legendgroup": "B24",
         "marker": {
          "color": "rgb(14.506978228411816,77.46936601419863,174.62383483290515)",
          "symbol": "circle"
         },
         "mode": "markers",
         "name": "B24",
         "showlegend": true,
         "subplot": "ternary",
         "type": "scatterternary"
        },
        {
         "a": [
          15.345759448807797
         ],
         "b": [
          67.69308722948635
         ],
         "c": [
          164.8036162538355
         ],
         "hovertemplate": "index=B44<br>red=%{a}<br>green=%{b}<br>blue=%{c}<extra></extra>",
         "legendgroup": "B44",
         "marker": {
          "color": "rgb(15.345759448807797,67.69308722948635,164.8036162538355)",
          "symbol": "circle"
         },
         "mode": "markers",
         "name": "B44",
         "showlegend": true,
         "subplot": "ternary",
         "type": "scatterternary"
        },
        {
         "a": [
          18.86271493858677
         ],
         "b": [
          68.01352824863181
         ],
         "c": [
          174.48254759318272
         ],
         "hovertemplate": "index=B53<br>red=%{a}<br>green=%{b}<br>blue=%{c}<extra></extra>",
         "legendgroup": "B53",
         "marker": {
          "color": "rgb(18.86271493858677,68.01352824863181,174.48254759318272)",
          "symbol": "circle"
         },
         "mode": "markers",
         "name": "B53",
         "showlegend": true,
         "subplot": "ternary",
         "type": "scatterternary"
        },
        {
         "a": [
          15.375311956961193
         ],
         "b": [
          59.98204655697
         ],
         "c": [
          169.96088665947548
         ],
         "hovertemplate": "index=B64<br>red=%{a}<br>green=%{b}<br>blue=%{c}<extra></extra>",
         "legendgroup": "B64",
         "marker": {
          "color": "rgb(15.375311956961193,59.98204655697,169.96088665947548)",
          "symbol": "circle"
         },
         "mode": "markers",
         "name": "B64",
         "showlegend": true,
         "subplot": "ternary",
         "type": "scatterternary"
        },
        {
         "a": [
          69.88669506704137
         ],
         "b": [
          98.33984728981324
         ],
         "c": [
          166.99511926755028
         ],
         "hovertemplate": "index=B71<br>red=%{a}<br>green=%{b}<br>blue=%{c}<extra></extra>",
         "legendgroup": "B71",
         "marker": {
          "color": "rgb(69.88669506704137,98.33984728981324,166.99511926755028)",
          "symbol": "circle"
         },
         "mode": "markers",
         "name": "B71",
         "showlegend": true,
         "subplot": "ternary",
         "type": "scatterternary"
        },
        {
         "a": [
          36.72290913317213
         ],
         "b": [
          47.37035486013108
         ],
         "c": [
          147.78302208306803
         ],
         "hovertemplate": "index=B93<br>red=%{a}<br>green=%{b}<br>blue=%{c}<extra></extra>",
         "legendgroup": "B93",
         "marker": {
          "color": "rgb(36.72290913317213,47.37035486013108,147.78302208306803)",
          "symbol": "circle"
         },
         "mode": "markers",
         "name": "B93",
         "showlegend": true,
         "subplot": "ternary",
         "type": "scatterternary"
        },
        {
         "a": [
          5.423579823546421
         ],
         "b": [
          46.152173325457696
         ],
         "c": [
          33.46771620210395
         ],
         "hovertemplate": "index=C04<br>red=%{a}<br>green=%{b}<br>blue=%{c}<extra></extra>",
         "legendgroup": "C04",
         "marker": {
          "color": "rgb(5.423579823546421,46.152173325457696,33.46771620210395)",
          "symbol": "circle"
         },
         "mode": "markers",
         "name": "C04",
         "showlegend": true,
         "subplot": "ternary",
         "type": "scatterternary"
        },
        {
         "a": [
          21.473893423885894
         ],
         "b": [
          145.37880448149284
         ],
         "c": [
          199.00629791370986
         ],
         "hovertemplate": "index=C45<br>red=%{a}<br>green=%{b}<br>blue=%{c}<extra></extra>",
         "legendgroup": "C45",
         "marker": {
          "color": "rgb(21.473893423885894,145.37880448149284,199.00629791370986)",
          "symbol": "circle"
         },
         "mode": "markers",
         "name": "C45",
         "showlegend": true,
         "subplot": "ternary",
         "type": "scatterternary"
        },
        {
         "a": [
          4.478678378702458
         ],
         "b": [
          64.15326472524546
         ],
         "c": [
          76.25241902401136
         ],
         "hovertemplate": "index=C47<br>red=%{a}<br>green=%{b}<br>blue=%{c}<extra></extra>",
         "legendgroup": "C47",
         "marker": {
          "color": "rgb(4.478678378702458,64.15326472524546,76.25241902401136)",
          "symbol": "circle"
         },
         "mode": "markers",
         "name": "C47",
         "showlegend": true,
         "subplot": "ternary",
         "type": "scatterternary"
        },
        {
         "a": [
          4.696495183176065
         ],
         "b": [
          68.7066133781336
         ],
         "c": [
          21.169191778953106
         ],
         "hovertemplate": "index=G28<br>red=%{a}<br>green=%{b}<br>blue=%{c}<extra></extra>",
         "legendgroup": "G28",
         "marker": {
          "color": "rgb(4.696495183176065,68.7066133781336,21.169191778953106)",
          "symbol": "circle"
         },
         "mode": "markers",
         "name": "G28",
         "showlegend": true,
         "subplot": "ternary",
         "type": "scatterternary"
        },
        {
         "a": [
          6.807762028504289
         ],
         "b": [
          115.54472871960574
         ],
         "c": [
          84.98984898741942
         ],
         "hovertemplate": "index=G96<br>red=%{a}<br>green=%{b}<br>blue=%{c}<extra></extra>",
         "legendgroup": "G96",
         "marker": {
          "color": "rgb(6.807762028504289,115.54472871960574,84.98984898741942)",
          "symbol": "circle"
         },
         "mode": "markers",
         "name": "G96",
         "showlegend": true,
         "subplot": "ternary",
         "type": "scatterternary"
        },
        {
         "a": [
          0.23655887482482357
         ],
         "b": [
          1.2558560092281212
         ],
         "c": [
          7.873174439545059
         ],
         "hovertemplate": "index=LD071<br>red=%{a}<br>green=%{b}<br>blue=%{c}<extra></extra>",
         "legendgroup": "LD071",
         "marker": {
          "color": "rgb(0.23655887482482357,1.2558560092281212,7.873174439545059)",
          "symbol": "circle"
         },
         "mode": "markers",
         "name": "LD071",
         "showlegend": true,
         "subplot": "ternary",
         "type": "scatterternary"
        },
        {
         "a": [
          8.823297554043581
         ],
         "b": [
          4.099382118440265
         ],
         "c": [
          3.022522631466997
         ],
         "hovertemplate": "index=LD156<br>red=%{a}<br>green=%{b}<br>blue=%{c}<extra></extra>",
         "legendgroup": "LD156",
         "marker": {
          "color": "rgb(8.823297554043581,4.099382118440265,3.022522631466997)",
          "symbol": "circle"
         },
         "mode": "markers",
         "name": "LD156",
         "showlegend": true,
         "subplot": "ternary",
         "type": "scatterternary"
        },
        {
         "a": [
          8.323286501926907
         ],
         "b": [
          33.51920795700404
         ],
         "c": [
          93.4185733143267
         ],
         "hovertemplate": "index=LD201<br>red=%{a}<br>green=%{b}<br>blue=%{c}<extra></extra>",
         "legendgroup": "LD201",
         "marker": {
          "color": "rgb(8.323286501926907,33.51920795700404,93.4185733143267)",
          "symbol": "circle"
         },
         "mode": "markers",
         "name": "LD201",
         "showlegend": true,
         "subplot": "ternary",
         "type": "scatterternary"
        },
        {
         "a": [
          33.6147949303333
         ],
         "b": [
          64.56635725452917
         ],
         "c": [
          115.73652454824655
         ],
         "hovertemplate": "index=LD202<br>red=%{a}<br>green=%{b}<br>blue=%{c}<extra></extra>",
         "legendgroup": "LD202",
         "marker": {
          "color": "rgb(33.6147949303333,64.56635725452917,115.73652454824655)",
          "symbol": "circle"
         },
         "mode": "markers",
         "name": "LD202",
         "showlegend": true,
         "subplot": "ternary",
         "type": "scatterternary"
        },
        {
         "a": [
          78.48713338360567
         ],
         "b": [
          95.00545295579266
         ],
         "c": [
          146.95623131449835
         ],
         "hovertemplate": "index=LD203<br>red=%{a}<br>green=%{b}<br>blue=%{c}<extra></extra>",
         "legendgroup": "LD203",
         "marker": {
          "color": "rgb(78.48713338360567,95.00545295579266,146.95623131449835)",
          "symbol": "circle"
         },
         "mode": "markers",
         "name": "LD203",
         "showlegend": true,
         "subplot": "ternary",
         "type": "scatterternary"
        },
        {
         "a": [
          184.65517138426773
         ],
         "b": [
          86.24908721166581
         ],
         "c": [
          37.98613745166639
         ],
         "hovertemplate": "index=LD204<br>red=%{a}<br>green=%{b}<br>blue=%{c}<extra></extra>",
         "legendgroup": "LD204",
         "marker": {
          "color": "rgb(184.65517138426773,86.24908721166581,37.98613745166639)",
          "symbol": "circle"
         },
         "mode": "markers",
         "name": "LD204",
         "showlegend": true,
         "subplot": "ternary",
         "type": "scatterternary"
        },
        {
         "a": [
          173.49234471196795
         ],
         "b": [
          105.4486027173299
         ],
         "c": [
          49.80237230809486
         ],
         "hovertemplate": "index=LD205<br>red=%{a}<br>green=%{b}<br>blue=%{c}<extra></extra>",
         "legendgroup": "LD205",
         "marker": {
          "color": "rgb(173.49234471196795,105.4486027173299,49.80237230809486)",
          "symbol": "circle"
         },
         "mode": "markers",
         "name": "LD205",
         "showlegend": true,
         "subplot": "ternary",
         "type": "scatterternary"
        },
        {
         "a": [
          154.28656857513522
         ],
         "b": [
          103.5662335729692
         ],
         "c": [
          66.35463289319894
         ],
         "hovertemplate": "index=LD206<br>red=%{a}<br>green=%{b}<br>blue=%{c}<extra></extra>",
         "legendgroup": "LD206",
         "marker": {
          "color": "rgb(154.28656857513522,103.5662335729692,66.35463289319894)",
          "symbol": "circle"
         },
         "mode": "markers",
         "name": "LD206",
         "showlegend": true,
         "subplot": "ternary",
         "type": "scatterternary"
        },
        {
         "a": [
          61.428278423331975
         ],
         "b": [
          62.79659304962029
         ],
         "c": [
          65.52526338660752
         ],
         "hovertemplate": "index=LD209<br>red=%{a}<br>green=%{b}<br>blue=%{c}<extra></extra>",
         "legendgroup": "LD209",
         "marker": {
          "color": "rgb(61.428278423331975,62.79659304962029,65.52526338660752)",
          "symbol": "circle"
         },
         "mode": "markers",
         "name": "LD209",
         "showlegend": true,
         "subplot": "ternary",
         "type": "scatterternary"
        },
        {
         "a": [
          14.031658621471662
         ],
         "b": [
          14.5022975901329
         ],
         "c": [
          15.742892108535967
         ],
         "hovertemplate": "index=LD210<br>red=%{a}<br>green=%{b}<br>blue=%{c}<extra></extra>",
         "legendgroup": "LD210",
         "marker": {
          "color": "rgb(14.031658621471662,14.5022975901329,15.742892108535967)",
          "symbol": "circle"
         },
         "mode": "markers",
         "name": "LD210",
         "showlegend": true,
         "subplot": "ternary",
         "type": "scatterternary"
        },
        {
         "a": [
          151.89751156293957
         ],
         "b": [
          173.38520125981594
         ],
         "c": [
          191.6009087588179
         ],
         "hovertemplate": "index=LD218<br>red=%{a}<br>green=%{b}<br>blue=%{c}<extra></extra>",
         "legendgroup": "LD218",
         "marker": {
          "color": "rgb(151.89751156293957,173.38520125981594,191.6009087588179)",
          "symbol": "circle"
         },
         "mode": "markers",
         "name": "LD218",
         "showlegend": true,
         "subplot": "ternary",
         "type": "scatterternary"
        },
        {
         "a": [
          218.24588684359412
         ],
         "b": [
          184.1860085677742
         ],
         "c": [
          148.90924521889022
         ],
         "hovertemplate": "index=LD223<br>red=%{a}<br>green=%{b}<br>blue=%{c}<extra></extra>",
         "legendgroup": "LD223",
         "marker": {
          "color": "rgb(218.24588684359412,184.1860085677742,148.90924521889022)",
          "symbol": "circle"
         },
         "mode": "markers",
         "name": "LD223",
         "showlegend": true,
         "subplot": "ternary",
         "type": "scatterternary"
        },
        {
         "a": [
          200.69728000952156
         ],
         "b": [
          171.35692877151737
         ],
         "c": [
          175.25723120241653
         ],
         "hovertemplate": "index=LD249<br>red=%{a}<br>green=%{b}<br>blue=%{c}<extra></extra>",
         "legendgroup": "LD249",
         "marker": {
          "color": "rgb(200.69728000952156,171.35692877151737,175.25723120241653)",
          "symbol": "circle"
         },
         "mode": "markers",
         "name": "LD249",
         "showlegend": true,
         "subplot": "ternary",
         "type": "scatterternary"
        },
        {
         "a": [
          184.55366171256202
         ],
         "b": [
          185.35483099343062
         ],
         "c": [
          161.44504459037063
         ],
         "hovertemplate": "index=LD278<br>red=%{a}<br>green=%{b}<br>blue=%{c}<extra></extra>",
         "legendgroup": "LD278",
         "marker": {
          "color": "rgb(184.55366171256202,185.35483099343062,161.44504459037063)",
          "symbol": "circle"
         },
         "mode": "markers",
         "name": "LD278",
         "showlegend": true,
         "subplot": "ternary",
         "type": "scatterternary"
        },
        {
         "a": [
          197.0026707015424
         ],
         "b": [
          181.59087269786602
         ],
         "c": [
          176.76786544389083
         ],
         "hovertemplate": "index=LD279<br>red=%{a}<br>green=%{b}<br>blue=%{c}<extra></extra>",
         "legendgroup": "LD279",
         "marker": {
          "color": "rgb(197.0026707015424,181.59087269786602,176.76786544389083)",
          "symbol": "circle"
         },
         "mode": "markers",
         "name": "LD279",
         "showlegend": true,
         "subplot": "ternary",
         "type": "scatterternary"
        },
        {
         "a": [
          190.1950604384474
         ],
         "b": [
          158.698036584534
         ],
         "c": [
          110.1136268968684
         ],
         "hovertemplate": "index=LD443<br>red=%{a}<br>green=%{b}<br>blue=%{c}<extra></extra>",
         "legendgroup": "LD443",
         "marker": {
          "color": "rgb(190.1950604384474,158.698036584534,110.1136268968684)",
          "symbol": "circle"
         },
         "mode": "markers",
         "name": "LD443",
         "showlegend": true,
         "subplot": "ternary",
         "type": "scatterternary"
        },
        {
         "a": [
          97.06230308933692
         ],
         "b": [
          46.59659569309415
         ],
         "c": [
          80.62498082651175
         ],
         "hovertemplate": "index=M31<br>red=%{a}<br>green=%{b}<br>blue=%{c}<extra></extra>",
         "legendgroup": "M31",
         "marker": {
          "color": "rgb(97.06230308933692,46.59659569309415,80.62498082651175)",
          "symbol": "circle"
         },
         "mode": "markers",
         "name": "M31",
         "showlegend": true,
         "subplot": "ternary",
         "type": "scatterternary"
        },
        {
         "a": [
          145.4250264335306
         ],
         "b": [
          39.35223473859029
         ],
         "c": [
          69.90855923918811
         ],
         "hovertemplate": "index=M56<br>red=%{a}<br>green=%{b}<br>blue=%{c}<extra></extra>",
         "legendgroup": "M56",
         "marker": {
          "color": "rgb(145.4250264335306,39.35223473859029,69.90855923918811)",
          "symbol": "circle"
         },
         "mode": "markers",
         "name": "M56",
         "showlegend": true,
         "subplot": "ternary",
         "type": "scatterternary"
        },
        {
         "a": [
          157.26852067154758
         ],
         "b": [
          56.932836950975236
         ],
         "c": [
          98.73749729715821
         ],
         "hovertemplate": "index=M63<br>red=%{a}<br>green=%{b}<br>blue=%{c}<extra></extra>",
         "legendgroup": "M63",
         "marker": {
          "color": "rgb(157.26852067154758,56.932836950975236,98.73749729715821)",
          "symbol": "circle"
         },
         "mode": "markers",
         "name": "M63",
         "showlegend": true,
         "subplot": "ternary",
         "type": "scatterternary"
        },
        {
         "a": [
          146.66024749824706
         ],
         "b": [
          87.18400743865732
         ],
         "c": [
          102.45211149097844
         ],
         "hovertemplate": "index=M91<br>red=%{a}<br>green=%{b}<br>blue=%{c}<extra></extra>",
         "legendgroup": "M91",
         "marker": {
          "color": "rgb(146.66024749824706,87.18400743865732,102.45211149097844)",
          "symbol": "circle"
         },
         "mode": "markers",
         "name": "M91",
         "showlegend": true,
         "subplot": "ternary",
         "type": "scatterternary"
        },
        {
         "a": [
          180.24164168073332
         ],
         "b": [
          102.82823503563219
         ],
         "c": [
          85.56843333625538
         ],
         "hovertemplate": "index=O01<br>red=%{a}<br>green=%{b}<br>blue=%{c}<extra></extra>",
         "legendgroup": "O01",
         "marker": {
          "color": "rgb(180.24164168073332,102.82823503563219,85.56843333625538)",
          "symbol": "circle"
         },
         "mode": "markers",
         "name": "O01",
         "showlegend": true,
         "subplot": "ternary",
         "type": "scatterternary"
        },
        {
         "a": [
          148.3984735104718
         ],
         "b": [
          37.13193115497003
         ],
         "c": [
          16.142684508051993
         ],
         "hovertemplate": "index=O08<br>red=%{a}<br>green=%{b}<br>blue=%{c}<extra></extra>",
         "legendgroup": "O08",
         "marker": {
          "color": "rgb(148.3984735104718,37.13193115497003,16.142684508051993)",
          "symbol": "circle"
         },
         "mode": "markers",
         "name": "O08",
         "showlegend": true,
         "subplot": "ternary",
         "type": "scatterternary"
        },
        {
         "a": [
          175.8058560635906
         ],
         "b": [
          67.85476287904058
         ],
         "c": [
          45.46273095388071
         ],
         "hovertemplate": "index=O14<br>red=%{a}<br>green=%{b}<br>blue=%{c}<extra></extra>",
         "legendgroup": "O14",
         "marker": {
          "color": "rgb(175.8058560635906,67.85476287904058,45.46273095388071)",
          "symbol": "circle"
         },
         "mode": "markers",
         "name": "O14",
         "showlegend": true,
         "subplot": "ternary",
         "type": "scatterternary"
        },
        {
         "a": [
          148.20839362610997
         ],
         "b": [
          37.256817497585736
         ],
         "c": [
          16.21843284114075
         ],
         "hovertemplate": "index=O18<br>red=%{a}<br>green=%{b}<br>blue=%{c}<extra></extra>",
         "legendgroup": "O18",
         "marker": {
          "color": "rgb(148.20839362610997,37.256817497585736,16.21843284114075)",
          "symbol": "circle"
         },
         "mode": "markers",
         "name": "O18",
         "showlegend": true,
         "subplot": "ternary",
         "type": "scatterternary"
        },
        {
         "a": [
          194.41518168440868
         ],
         "b": [
          115.03427512245268
         ],
         "c": [
          75.14959411850823
         ],
         "hovertemplate": "index=O32<br>red=%{a}<br>green=%{b}<br>blue=%{c}<extra></extra>",
         "legendgroup": "O32",
         "marker": {
          "color": "rgb(194.41518168440868,115.03427512245268,75.14959411850823)",
          "symbol": "circle"
         },
         "mode": "markers",
         "name": "O32",
         "showlegend": true,
         "subplot": "ternary",
         "type": "scatterternary"
        },
        {
         "a": [
          167.01586911485813
         ],
         "b": [
          89.93397589256567
         ],
         "c": [
          39.99669657594282
         ],
         "hovertemplate": "index=O42<br>red=%{a}<br>green=%{b}<br>blue=%{c}<extra></extra>",
         "legendgroup": "O42",
         "marker": {
          "color": "rgb(167.01586911485813,89.93397589256567,39.99669657594282)",
          "symbol": "circle"
         },
         "mode": "markers",
         "name": "O42",
         "showlegend": true,
         "subplot": "ternary",
         "type": "scatterternary"
        },
        {
         "a": [
          163.5106447175981
         ],
         "b": [
          83.39468302252999
         ],
         "c": [
          50.04541418343246
         ],
         "hovertemplate": "index=O43<br>red=%{a}<br>green=%{b}<br>blue=%{c}<extra></extra>",
         "legendgroup": "O43",
         "marker": {
          "color": "rgb(163.5106447175981,83.39468302252999,50.04541418343246)",
          "symbol": "circle"
         },
         "mode": "markers",
         "name": "O43",
         "showlegend": true,
         "subplot": "ternary",
         "type": "scatterternary"
        },
        {
         "a": [
          192.22512808866085
         ],
         "b": [
          70.15638184821168
         ],
         "c": [
          18.471790117287533
         ],
         "hovertemplate": "index=O59<br>red=%{a}<br>green=%{b}<br>blue=%{c}<extra></extra>",
         "legendgroup": "O59",
         "marker": {
          "color": "rgb(192.22512808866085,70.15638184821168,18.471790117287533)",
          "symbol": "circle"
         },
         "mode": "markers",
         "name": "O59",
         "showlegend": true,
         "subplot": "ternary",
         "type": "scatterternary"
        },
        {
         "a": [
          182.994568626242
         ],
         "b": [
          164.80061688887636
         ],
         "c": [
          121.25510788414275
         ],
         "hovertemplate": "index=O80<br>red=%{a}<br>green=%{b}<br>blue=%{c}<extra></extra>",
         "legendgroup": "O80",
         "marker": {
          "color": "rgb(182.994568626242,164.80061688887636,121.25510788414275)",
          "symbol": "circle"
         },
         "mode": "markers",
         "name": "O80",
         "showlegend": true,
         "subplot": "ternary",
         "type": "scatterternary"
        },
        {
         "a": [
          111.85029059121555
         ],
         "b": [
          90.97780970712316
         ],
         "c": [
          66.69342469196565
         ],
         "hovertemplate": "index=O82<br>red=%{a}<br>green=%{b}<br>blue=%{c}<extra></extra>",
         "legendgroup": "O82",
         "marker": {
          "color": "rgb(111.85029059121555,90.97780970712316,66.69342469196565)",
          "symbol": "circle"
         },
         "mode": "markers",
         "name": "O82",
         "showlegend": true,
         "subplot": "ternary",
         "type": "scatterternary"
        },
        {
         "a": [
          214.97984962869518
         ],
         "b": [
          163.96107247822053
         ],
         "c": [
          42.0230214825114
         ],
         "hovertemplate": "index=O89<br>red=%{a}<br>green=%{b}<br>blue=%{c}<extra></extra>",
         "legendgroup": "O89",
         "marker": {
          "color": "rgb(214.97984962869518,163.96107247822053,42.0230214825114)",
          "symbol": "circle"
         },
         "mode": "markers",
         "name": "O89",
         "showlegend": true,
         "subplot": "ternary",
         "type": "scatterternary"
        },
        {
         "a": [
          201.2950169696277
         ],
         "b": [
          165.432105073354
         ],
         "c": [
          124.41063573897682
         ],
         "hovertemplate": "index=R31<br>red=%{a}<br>green=%{b}<br>blue=%{c}<extra></extra>",
         "legendgroup": "R31",
         "marker": {
          "color": "rgb(201.2950169696277,165.432105073354,124.41063573897682)",
          "symbol": "circle"
         },
         "mode": "markers",
         "name": "R31",
         "showlegend": true,
         "subplot": "ternary",
         "type": "scatterternary"
        },
        {
         "a": [
          135.80710712088077
         ],
         "b": [
          99.98067196803443
         ],
         "c": [
          100.26586045842842
         ],
         "hovertemplate": "index=R50<br>red=%{a}<br>green=%{b}<br>blue=%{c}<extra></extra>",
         "legendgroup": "R50",
         "marker": {
          "color": "rgb(135.80710712088077,99.98067196803443,100.26586045842842)",
          "symbol": "circle"
         },
         "mode": "markers",
         "name": "R50",
         "showlegend": true,
         "subplot": "ternary",
         "type": "scatterternary"
        },
        {
         "a": [
          134.22893471295757
         ],
         "b": [
          32.32325552098964
         ],
         "c": [
          15.708785597154726
         ],
         "hovertemplate": "index=R99<br>red=%{a}<br>green=%{b}<br>blue=%{c}<extra></extra>",
         "legendgroup": "R99",
         "marker": {
          "color": "rgb(134.22893471295757,32.32325552098964,15.708785597154726)",
          "symbol": "circle"
         },
         "mode": "markers",
         "name": "R99",
         "showlegend": true,
         "subplot": "ternary",
         "type": "scatterternary"
        },
        {
         "a": [
          139.33314131114471
         ],
         "b": [
          142.23878208108363
         ],
         "c": [
          161.51356599543027
         ],
         "hovertemplate": "index=V10<br>red=%{a}<br>green=%{b}<br>blue=%{c}<extra></extra>",
         "legendgroup": "V10",
         "marker": {
          "color": "rgb(139.33314131114471,142.23878208108363,161.51356599543027)",
          "symbol": "circle"
         },
         "mode": "markers",
         "name": "V10",
         "showlegend": true,
         "subplot": "ternary",
         "type": "scatterternary"
        },
        {
         "a": [
          6.194668971063684
         ],
         "b": [
          55.91205472478709
         ],
         "c": [
          172.509099696602
         ],
         "hovertemplate": "index=V28<br>red=%{a}<br>green=%{b}<br>blue=%{c}<extra></extra>",
         "legendgroup": "V28",
         "marker": {
          "color": "rgb(6.194668971063684,55.91205472478709,172.509099696602)",
          "symbol": "circle"
         },
         "mode": "markers",
         "name": "V28",
         "showlegend": true,
         "subplot": "ternary",
         "type": "scatterternary"
        },
        {
         "a": [
          44.64503795245245
         ],
         "b": [
          32.702204649741
         ],
         "c": [
          109.5664871000835
         ],
         "hovertemplate": "index=V43<br>red=%{a}<br>green=%{b}<br>blue=%{c}<extra></extra>",
         "legendgroup": "V43",
         "marker": {
          "color": "rgb(44.64503795245245,32.702204649741,109.5664871000835)",
          "symbol": "circle"
         },
         "mode": "markers",
         "name": "V43",
         "showlegend": true,
         "subplot": "ternary",
         "type": "scatterternary"
        },
        {
         "a": [
          2.4980505602324605
         ],
         "b": [
          2.7774305375142143
         ],
         "c": [
          51.439201457395505
         ],
         "hovertemplate": "index=V67<br>red=%{a}<br>green=%{b}<br>blue=%{c}<extra></extra>",
         "legendgroup": "V67",
         "marker": {
          "color": "rgb(2.4980505602324605,2.7774305375142143,51.439201457395505)",
          "symbol": "circle"
         },
         "mode": "markers",
         "name": "V67",
         "showlegend": true,
         "subplot": "ternary",
         "type": "scatterternary"
        },
        {
         "a": [
          55.502323015029624
         ],
         "b": [
          21.647850974745257
         ],
         "c": [
          77.52519995057543
         ],
         "hovertemplate": "index=V74<br>red=%{a}<br>green=%{b}<br>blue=%{c}<extra></extra>",
         "legendgroup": "V74",
         "marker": {
          "color": "rgb(55.502323015029624,21.647850974745257,77.52519995057543)",
          "symbol": "circle"
         },
         "mode": "markers",
         "name": "V74",
         "showlegend": true,
         "subplot": "ternary",
         "type": "scatterternary"
        },
        {
         "a": [
          92.9568055106446
         ],
         "b": [
          82.34581505936069
         ],
         "c": [
          117.46230117647414
         ],
         "hovertemplate": "index=V81<br>red=%{a}<br>green=%{b}<br>blue=%{c}<extra></extra>",
         "legendgroup": "V81",
         "marker": {
          "color": "rgb(92.9568055106446,82.34581505936069,117.46230117647414)",
          "symbol": "circle"
         },
         "mode": "markers",
         "name": "V81",
         "showlegend": true,
         "subplot": "ternary",
         "type": "scatterternary"
        },
        {
         "a": [
          127.21369666077545
         ],
         "b": [
          42.19271187161799
         ],
         "c": [
          132.27407573822592
         ],
         "hovertemplate": "index=V98<br>red=%{a}<br>green=%{b}<br>blue=%{c}<extra></extra>",
         "legendgroup": "V98",
         "marker": {
          "color": "rgb(127.21369666077545,42.19271187161799,132.27407573822592)",
          "symbol": "circle"
         },
         "mode": "markers",
         "name": "V98",
         "showlegend": true,
         "subplot": "ternary",
         "type": "scatterternary"
        },
        {
         "a": [
          165.18122746026523
         ],
         "b": [
          128.5612223759718
         ],
         "c": [
          66.09916180538087
         ],
         "hovertemplate": "index=Y02<br>red=%{a}<br>green=%{b}<br>blue=%{c}<extra></extra>",
         "legendgroup": "Y02",
         "marker": {
          "color": "rgb(165.18122746026523,128.5612223759718,66.09916180538087)",
          "symbol": "circle"
         },
         "mode": "markers",
         "name": "Y02",
         "showlegend": true,
         "subplot": "ternary",
         "type": "scatterternary"
        }
       ],
       "layout": {
        "legend": {
         "title": {
          "text": "index"
         },
         "tracegroupgap": 0
        },
        "margin": {
         "t": 60
        },
        "template": {
         "data": {
          "bar": [
           {
            "error_x": {
             "color": "#2a3f5f"
            },
            "error_y": {
             "color": "#2a3f5f"
            },
            "marker": {
             "line": {
              "color": "#E5ECF6",
              "width": 0.5
             },
             "pattern": {
              "fillmode": "overlay",
              "size": 10,
              "solidity": 0.2
             }
            },
            "type": "bar"
           }
          ],
          "barpolar": [
           {
            "marker": {
             "line": {
              "color": "#E5ECF6",
              "width": 0.5
             },
             "pattern": {
              "fillmode": "overlay",
              "size": 10,
              "solidity": 0.2
             }
            },
            "type": "barpolar"
           }
          ],
          "carpet": [
           {
            "aaxis": {
             "endlinecolor": "#2a3f5f",
             "gridcolor": "white",
             "linecolor": "white",
             "minorgridcolor": "white",
             "startlinecolor": "#2a3f5f"
            },
            "baxis": {
             "endlinecolor": "#2a3f5f",
             "gridcolor": "white",
             "linecolor": "white",
             "minorgridcolor": "white",
             "startlinecolor": "#2a3f5f"
            },
            "type": "carpet"
           }
          ],
          "choropleth": [
           {
            "colorbar": {
             "outlinewidth": 0,
             "ticks": ""
            },
            "type": "choropleth"
           }
          ],
          "contour": [
           {
            "colorbar": {
             "outlinewidth": 0,
             "ticks": ""
            },
            "colorscale": [
             [
              0,
              "#0d0887"
             ],
             [
              0.1111111111111111,
              "#46039f"
             ],
             [
              0.2222222222222222,
              "#7201a8"
             ],
             [
              0.3333333333333333,
              "#9c179e"
             ],
             [
              0.4444444444444444,
              "#bd3786"
             ],
             [
              0.5555555555555556,
              "#d8576b"
             ],
             [
              0.6666666666666666,
              "#ed7953"
             ],
             [
              0.7777777777777778,
              "#fb9f3a"
             ],
             [
              0.8888888888888888,
              "#fdca26"
             ],
             [
              1,
              "#f0f921"
             ]
            ],
            "type": "contour"
           }
          ],
          "contourcarpet": [
           {
            "colorbar": {
             "outlinewidth": 0,
             "ticks": ""
            },
            "type": "contourcarpet"
           }
          ],
          "heatmap": [
           {
            "colorbar": {
             "outlinewidth": 0,
             "ticks": ""
            },
            "colorscale": [
             [
              0,
              "#0d0887"
             ],
             [
              0.1111111111111111,
              "#46039f"
             ],
             [
              0.2222222222222222,
              "#7201a8"
             ],
             [
              0.3333333333333333,
              "#9c179e"
             ],
             [
              0.4444444444444444,
              "#bd3786"
             ],
             [
              0.5555555555555556,
              "#d8576b"
             ],
             [
              0.6666666666666666,
              "#ed7953"
             ],
             [
              0.7777777777777778,
              "#fb9f3a"
             ],
             [
              0.8888888888888888,
              "#fdca26"
             ],
             [
              1,
              "#f0f921"
             ]
            ],
            "type": "heatmap"
           }
          ],
          "heatmapgl": [
           {
            "colorbar": {
             "outlinewidth": 0,
             "ticks": ""
            },
            "colorscale": [
             [
              0,
              "#0d0887"
             ],
             [
              0.1111111111111111,
              "#46039f"
             ],
             [
              0.2222222222222222,
              "#7201a8"
             ],
             [
              0.3333333333333333,
              "#9c179e"
             ],
             [
              0.4444444444444444,
              "#bd3786"
             ],
             [
              0.5555555555555556,
              "#d8576b"
             ],
             [
              0.6666666666666666,
              "#ed7953"
             ],
             [
              0.7777777777777778,
              "#fb9f3a"
             ],
             [
              0.8888888888888888,
              "#fdca26"
             ],
             [
              1,
              "#f0f921"
             ]
            ],
            "type": "heatmapgl"
           }
          ],
          "histogram": [
           {
            "marker": {
             "pattern": {
              "fillmode": "overlay",
              "size": 10,
              "solidity": 0.2
             }
            },
            "type": "histogram"
           }
          ],
          "histogram2d": [
           {
            "colorbar": {
             "outlinewidth": 0,
             "ticks": ""
            },
            "colorscale": [
             [
              0,
              "#0d0887"
             ],
             [
              0.1111111111111111,
              "#46039f"
             ],
             [
              0.2222222222222222,
              "#7201a8"
             ],
             [
              0.3333333333333333,
              "#9c179e"
             ],
             [
              0.4444444444444444,
              "#bd3786"
             ],
             [
              0.5555555555555556,
              "#d8576b"
             ],
             [
              0.6666666666666666,
              "#ed7953"
             ],
             [
              0.7777777777777778,
              "#fb9f3a"
             ],
             [
              0.8888888888888888,
              "#fdca26"
             ],
             [
              1,
              "#f0f921"
             ]
            ],
            "type": "histogram2d"
           }
          ],
          "histogram2dcontour": [
           {
            "colorbar": {
             "outlinewidth": 0,
             "ticks": ""
            },
            "colorscale": [
             [
              0,
              "#0d0887"
             ],
             [
              0.1111111111111111,
              "#46039f"
             ],
             [
              0.2222222222222222,
              "#7201a8"
             ],
             [
              0.3333333333333333,
              "#9c179e"
             ],
             [
              0.4444444444444444,
              "#bd3786"
             ],
             [
              0.5555555555555556,
              "#d8576b"
             ],
             [
              0.6666666666666666,
              "#ed7953"
             ],
             [
              0.7777777777777778,
              "#fb9f3a"
             ],
             [
              0.8888888888888888,
              "#fdca26"
             ],
             [
              1,
              "#f0f921"
             ]
            ],
            "type": "histogram2dcontour"
           }
          ],
          "mesh3d": [
           {
            "colorbar": {
             "outlinewidth": 0,
             "ticks": ""
            },
            "type": "mesh3d"
           }
          ],
          "parcoords": [
           {
            "line": {
             "colorbar": {
              "outlinewidth": 0,
              "ticks": ""
             }
            },
            "type": "parcoords"
           }
          ],
          "pie": [
           {
            "automargin": true,
            "type": "pie"
           }
          ],
          "scatter": [
           {
            "marker": {
             "colorbar": {
              "outlinewidth": 0,
              "ticks": ""
             }
            },
            "type": "scatter"
           }
          ],
          "scatter3d": [
           {
            "line": {
             "colorbar": {
              "outlinewidth": 0,
              "ticks": ""
             }
            },
            "marker": {
             "colorbar": {
              "outlinewidth": 0,
              "ticks": ""
             }
            },
            "type": "scatter3d"
           }
          ],
          "scattercarpet": [
           {
            "marker": {
             "colorbar": {
              "outlinewidth": 0,
              "ticks": ""
             }
            },
            "type": "scattercarpet"
           }
          ],
          "scattergeo": [
           {
            "marker": {
             "colorbar": {
              "outlinewidth": 0,
              "ticks": ""
             }
            },
            "type": "scattergeo"
           }
          ],
          "scattergl": [
           {
            "marker": {
             "colorbar": {
              "outlinewidth": 0,
              "ticks": ""
             }
            },
            "type": "scattergl"
           }
          ],
          "scattermapbox": [
           {
            "marker": {
             "colorbar": {
              "outlinewidth": 0,
              "ticks": ""
             }
            },
            "type": "scattermapbox"
           }
          ],
          "scatterpolar": [
           {
            "marker": {
             "colorbar": {
              "outlinewidth": 0,
              "ticks": ""
             }
            },
            "type": "scatterpolar"
           }
          ],
          "scatterpolargl": [
           {
            "marker": {
             "colorbar": {
              "outlinewidth": 0,
              "ticks": ""
             }
            },
            "type": "scatterpolargl"
           }
          ],
          "scatterternary": [
           {
            "marker": {
             "colorbar": {
              "outlinewidth": 0,
              "ticks": ""
             }
            },
            "type": "scatterternary"
           }
          ],
          "surface": [
           {
            "colorbar": {
             "outlinewidth": 0,
             "ticks": ""
            },
            "colorscale": [
             [
              0,
              "#0d0887"
             ],
             [
              0.1111111111111111,
              "#46039f"
             ],
             [
              0.2222222222222222,
              "#7201a8"
             ],
             [
              0.3333333333333333,
              "#9c179e"
             ],
             [
              0.4444444444444444,
              "#bd3786"
             ],
             [
              0.5555555555555556,
              "#d8576b"
             ],
             [
              0.6666666666666666,
              "#ed7953"
             ],
             [
              0.7777777777777778,
              "#fb9f3a"
             ],
             [
              0.8888888888888888,
              "#fdca26"
             ],
             [
              1,
              "#f0f921"
             ]
            ],
            "type": "surface"
           }
          ],
          "table": [
           {
            "cells": {
             "fill": {
              "color": "#EBF0F8"
             },
             "line": {
              "color": "white"
             }
            },
            "header": {
             "fill": {
              "color": "#C8D4E3"
             },
             "line": {
              "color": "white"
             }
            },
            "type": "table"
           }
          ]
         },
         "layout": {
          "annotationdefaults": {
           "arrowcolor": "#2a3f5f",
           "arrowhead": 0,
           "arrowwidth": 1
          },
          "autotypenumbers": "strict",
          "coloraxis": {
           "colorbar": {
            "outlinewidth": 0,
            "ticks": ""
           }
          },
          "colorscale": {
           "diverging": [
            [
             0,
             "#8e0152"
            ],
            [
             0.1,
             "#c51b7d"
            ],
            [
             0.2,
             "#de77ae"
            ],
            [
             0.3,
             "#f1b6da"
            ],
            [
             0.4,
             "#fde0ef"
            ],
            [
             0.5,
             "#f7f7f7"
            ],
            [
             0.6,
             "#e6f5d0"
            ],
            [
             0.7,
             "#b8e186"
            ],
            [
             0.8,
             "#7fbc41"
            ],
            [
             0.9,
             "#4d9221"
            ],
            [
             1,
             "#276419"
            ]
           ],
           "sequential": [
            [
             0,
             "#0d0887"
            ],
            [
             0.1111111111111111,
             "#46039f"
            ],
            [
             0.2222222222222222,
             "#7201a8"
            ],
            [
             0.3333333333333333,
             "#9c179e"
            ],
            [
             0.4444444444444444,
             "#bd3786"
            ],
            [
             0.5555555555555556,
             "#d8576b"
            ],
            [
             0.6666666666666666,
             "#ed7953"
            ],
            [
             0.7777777777777778,
             "#fb9f3a"
            ],
            [
             0.8888888888888888,
             "#fdca26"
            ],
            [
             1,
             "#f0f921"
            ]
           ],
           "sequentialminus": [
            [
             0,
             "#0d0887"
            ],
            [
             0.1111111111111111,
             "#46039f"
            ],
            [
             0.2222222222222222,
             "#7201a8"
            ],
            [
             0.3333333333333333,
             "#9c179e"
            ],
            [
             0.4444444444444444,
             "#bd3786"
            ],
            [
             0.5555555555555556,
             "#d8576b"
            ],
            [
             0.6666666666666666,
             "#ed7953"
            ],
            [
             0.7777777777777778,
             "#fb9f3a"
            ],
            [
             0.8888888888888888,
             "#fdca26"
            ],
            [
             1,
             "#f0f921"
            ]
           ]
          },
          "colorway": [
           "#636efa",
           "#EF553B",
           "#00cc96",
           "#ab63fa",
           "#FFA15A",
           "#19d3f3",
           "#FF6692",
           "#B6E880",
           "#FF97FF",
           "#FECB52"
          ],
          "font": {
           "color": "#2a3f5f"
          },
          "geo": {
           "bgcolor": "white",
           "lakecolor": "white",
           "landcolor": "#E5ECF6",
           "showlakes": true,
           "showland": true,
           "subunitcolor": "white"
          },
          "hoverlabel": {
           "align": "left"
          },
          "hovermode": "closest",
          "mapbox": {
           "style": "light"
          },
          "paper_bgcolor": "white",
          "plot_bgcolor": "#E5ECF6",
          "polar": {
           "angularaxis": {
            "gridcolor": "white",
            "linecolor": "white",
            "ticks": ""
           },
           "bgcolor": "#E5ECF6",
           "radialaxis": {
            "gridcolor": "white",
            "linecolor": "white",
            "ticks": ""
           }
          },
          "scene": {
           "xaxis": {
            "backgroundcolor": "#E5ECF6",
            "gridcolor": "white",
            "gridwidth": 2,
            "linecolor": "white",
            "showbackground": true,
            "ticks": "",
            "zerolinecolor": "white"
           },
           "yaxis": {
            "backgroundcolor": "#E5ECF6",
            "gridcolor": "white",
            "gridwidth": 2,
            "linecolor": "white",
            "showbackground": true,
            "ticks": "",
            "zerolinecolor": "white"
           },
           "zaxis": {
            "backgroundcolor": "#E5ECF6",
            "gridcolor": "white",
            "gridwidth": 2,
            "linecolor": "white",
            "showbackground": true,
            "ticks": "",
            "zerolinecolor": "white"
           }
          },
          "shapedefaults": {
           "line": {
            "color": "#2a3f5f"
           }
          },
          "ternary": {
           "aaxis": {
            "gridcolor": "white",
            "linecolor": "white",
            "ticks": ""
           },
           "baxis": {
            "gridcolor": "white",
            "linecolor": "white",
            "ticks": ""
           },
           "bgcolor": "#E5ECF6",
           "caxis": {
            "gridcolor": "white",
            "linecolor": "white",
            "ticks": ""
           }
          },
          "title": {
           "x": 0.05
          },
          "xaxis": {
           "automargin": true,
           "gridcolor": "white",
           "linecolor": "white",
           "ticks": "",
           "title": {
            "standoff": 15
           },
           "zerolinecolor": "white",
           "zerolinewidth": 2
          },
          "yaxis": {
           "automargin": true,
           "gridcolor": "white",
           "linecolor": "white",
           "ticks": "",
           "title": {
            "standoff": 15
           },
           "zerolinecolor": "white",
           "zerolinewidth": 2
          }
         }
        },
        "ternary": {
         "aaxis": {
          "title": {
           "text": "red"
          }
         },
         "baxis": {
          "title": {
           "text": "green"
          }
         },
         "caxis": {
          "title": {
           "text": "blue"
          }
         },
         "domain": {
          "x": [
           0,
           1
          ],
          "y": [
           0,
           1
          ]
         }
        }
       }
      }
     },
     "metadata": {},
     "output_type": "display_data"
    },
    {
     "name": "stdout",
     "output_type": "stream",
     "text": [
      "Bright colored filters only\n"
     ]
    },
    {
     "data": {
      "application/vnd.plotly.v1+json": {
       "config": {
        "plotlyServerURL": "https://plot.ly"
       },
       "data": [
        {
         "a": [
          161.27175195802275
         ],
         "b": [
          59.268496452965174
         ],
         "c": [
          96.98691912104822
         ],
         "hovertemplate": "index=002<br>red=%{a}<br>green=%{b}<br>blue=%{c}<extra></extra>",
         "legendgroup": "002",
         "marker": {
          "color": "rgb(161.27175195802275,59.268496452965174,96.98691912104822)",
          "symbol": "circle"
         },
         "mode": "markers",
         "name": "002",
         "showlegend": true,
         "subplot": "ternary",
         "type": "scatterternary"
        },
        {
         "a": [
          170.99341092961868
         ],
         "b": [
          152.26324493682236
         ],
         "c": [
          170.9440680542198
         ],
         "hovertemplate": "index=003<br>red=%{a}<br>green=%{b}<br>blue=%{c}<extra></extra>",
         "legendgroup": "003",
         "marker": {
          "color": "rgb(170.99341092961868,152.26324493682236,170.9440680542198)",
          "symbol": "circle"
         },
         "mode": "markers",
         "name": "003",
         "showlegend": true,
         "subplot": "ternary",
         "type": "scatterternary"
        },
        {
         "a": [
          189.35683448013052
         ],
         "b": [
          103.93804145886098
         ],
         "c": [
          67.92304439213963
         ],
         "hovertemplate": "index=004<br>red=%{a}<br>green=%{b}<br>blue=%{c}<extra></extra>",
         "legendgroup": "004",
         "marker": {
          "color": "rgb(189.35683448013052,103.93804145886098,67.92304439213963)",
          "symbol": "circle"
         },
         "mode": "markers",
         "name": "004",
         "showlegend": true,
         "subplot": "ternary",
         "type": "scatterternary"
        },
        {
         "a": [
          199.58520808545936
         ],
         "b": [
          182.7164755865565
         ],
         "c": [
          113.78259465961591
         ],
         "hovertemplate": "index=007<br>red=%{a}<br>green=%{b}<br>blue=%{c}<extra></extra>",
         "legendgroup": "007",
         "marker": {
          "color": "rgb(199.58520808545936,182.7164755865565,113.78259465961591)",
          "symbol": "circle"
         },
         "mode": "markers",
         "name": "007",
         "showlegend": true,
         "subplot": "ternary",
         "type": "scatterternary"
        },
        {
         "a": [
          189.26068149081442
         ],
         "b": [
          125.7996689847513
         ],
         "c": [
          64.87544921960624
         ],
         "hovertemplate": "index=009<br>red=%{a}<br>green=%{b}<br>blue=%{c}<extra></extra>",
         "legendgroup": "009",
         "marker": {
          "color": "rgb(189.26068149081442,125.7996689847513,64.87544921960624)",
          "symbol": "circle"
         },
         "mode": "markers",
         "name": "009",
         "showlegend": true,
         "subplot": "ternary",
         "type": "scatterternary"
        },
        {
         "a": [
          200.91041878139703
         ],
         "b": [
          168.26799625226943
         ],
         "c": [
          51.144065128629514
         ],
         "hovertemplate": "index=010<br>red=%{a}<br>green=%{b}<br>blue=%{c}<extra></extra>",
         "legendgroup": "010",
         "marker": {
          "color": "rgb(200.91041878139703,168.26799625226943,51.144065128629514)",
          "symbol": "circle"
         },
         "mode": "markers",
         "name": "010",
         "showlegend": true,
         "subplot": "ternary",
         "type": "scatterternary"
        },
        {
         "a": [
          188.83928454512298
         ],
         "b": [
          123.97812924321639
         ],
         "c": [
          50.924068242534126
         ],
         "hovertemplate": "index=013<br>red=%{a}<br>green=%{b}<br>blue=%{c}<extra></extra>",
         "legendgroup": "013",
         "marker": {
          "color": "rgb(188.83928454512298,123.97812924321639,50.924068242534126)",
          "symbol": "circle"
         },
         "mode": "markers",
         "name": "013",
         "showlegend": true,
         "subplot": "ternary",
         "type": "scatterternary"
        },
        {
         "a": [
          187.8537005601826
         ],
         "b": [
          98.42872363159212
         ],
         "c": [
          22.678428596228308
         ],
         "hovertemplate": "index=015<br>red=%{a}<br>green=%{b}<br>blue=%{c}<extra></extra>",
         "legendgroup": "015",
         "marker": {
          "color": "rgb(187.8537005601826,98.42872363159212,22.678428596228308)",
          "symbol": "circle"
         },
         "mode": "markers",
         "name": "015",
         "showlegend": true,
         "subplot": "ternary",
         "type": "scatterternary"
        },
        {
         "a": [
          183.17068499424687
         ],
         "b": [
          106.67798762755997
         ],
         "c": [
          113.65756639084158
         ],
         "hovertemplate": "index=035<br>red=%{a}<br>green=%{b}<br>blue=%{c}<extra></extra>",
         "legendgroup": "035",
         "marker": {
          "color": "rgb(183.17068499424687,106.67798762755997,113.65756639084158)",
          "symbol": "circle"
         },
         "mode": "markers",
         "name": "035",
         "showlegend": true,
         "subplot": "ternary",
         "type": "scatterternary"
        },
        {
         "a": [
          165.71596996226162
         ],
         "b": [
          68.53914673438474
         ],
         "c": [
          71.58101780776697
         ],
         "hovertemplate": "index=036<br>red=%{a}<br>green=%{b}<br>blue=%{c}<extra></extra>",
         "legendgroup": "036",
         "marker": {
          "color": "rgb(165.71596996226162,68.53914673438474,71.58101780776697)",
          "symbol": "circle"
         },
         "mode": "markers",
         "name": "036",
         "showlegend": true,
         "subplot": "ternary",
         "type": "scatterternary"
        },
        {
         "a": [
          122.63510878508293
         ],
         "b": [
          115.63601547921365
         ],
         "c": [
          150.59388772601974
         ],
         "hovertemplate": "index=053<br>red=%{a}<br>green=%{b}<br>blue=%{c}<extra></extra>",
         "legendgroup": "053",
         "marker": {
          "color": "rgb(122.63510878508293,115.63601547921365,150.59388772601974)",
          "symbol": "circle"
         },
         "mode": "markers",
         "name": "053",
         "showlegend": true,
         "subplot": "ternary",
         "type": "scatterternary"
        },
        {
         "a": [
          67.8229636059306
         ],
         "b": [
          114.16179183412464
         ],
         "c": [
          162.28720506045067
         ],
         "hovertemplate": "index=061<br>red=%{a}<br>green=%{b}<br>blue=%{c}<extra></extra>",
         "legendgroup": "061",
         "marker": {
          "color": "rgb(67.8229636059306,114.16179183412464,162.28720506045067)",
          "symbol": "circle"
         },
         "mode": "markers",
         "name": "061",
         "showlegend": true,
         "subplot": "ternary",
         "type": "scatterternary"
        },
        {
         "a": [
          171.2645932546321
         ],
         "b": [
          170.7994272149432
         ],
         "c": [
          57.37175950879734
         ],
         "hovertemplate": "index=100<br>red=%{a}<br>green=%{b}<br>blue=%{c}<extra></extra>",
         "legendgroup": "100",
         "marker": {
          "color": "rgb(171.2645932546321,170.7994272149432,57.37175950879734)",
          "symbol": "circle"
         },
         "mode": "markers",
         "name": "100",
         "showlegend": true,
         "subplot": "ternary",
         "type": "scatterternary"
        },
        {
         "a": [
          192.28390567835183
         ],
         "b": [
          138.56199280297332
         ],
         "c": [
          35.999204275801624
         ],
         "hovertemplate": "index=101<br>red=%{a}<br>green=%{b}<br>blue=%{c}<extra></extra>",
         "legendgroup": "101",
         "marker": {
          "color": "rgb(192.28390567835183,138.56199280297332,35.999204275801624)",
          "symbol": "circle"
         },
         "mode": "markers",
         "name": "101",
         "showlegend": true,
         "subplot": "ternary",
         "type": "scatterternary"
        },
        {
         "a": [
          204.4507388901424
         ],
         "b": [
          134.2191048807188
         ],
         "c": [
          38.04046260890584
         ],
         "hovertemplate": "index=102<br>red=%{a}<br>green=%{b}<br>blue=%{c}<extra></extra>",
         "legendgroup": "102",
         "marker": {
          "color": "rgb(204.4507388901424,134.2191048807188,38.04046260890584)",
          "symbol": "circle"
         },
         "mode": "markers",
         "name": "102",
         "showlegend": true,
         "subplot": "ternary",
         "type": "scatterternary"
        },
        {
         "a": [
          204.39338703400662
         ],
         "b": [
          162.62407595655833
         ],
         "c": [
          101.82243561933645
         ],
         "hovertemplate": "index=103<br>red=%{a}<br>green=%{b}<br>blue=%{c}<extra></extra>",
         "legendgroup": "103",
         "marker": {
          "color": "rgb(204.39338703400662,162.62407595655833,101.82243561933645)",
          "symbol": "circle"
         },
         "mode": "markers",
         "name": "103",
         "showlegend": true,
         "subplot": "ternary",
         "type": "scatterternary"
        },
        {
         "a": [
          180.29977484554496
         ],
         "b": [
          75.10755808476728
         ],
         "c": [
          59.04043194079546
         ],
         "hovertemplate": "index=107<br>red=%{a}<br>green=%{b}<br>blue=%{c}<extra></extra>",
         "legendgroup": "107",
         "marker": {
          "color": "rgb(180.29977484554496,75.10755808476728,59.04043194079546)",
          "symbol": "circle"
         },
         "mode": "markers",
         "name": "107",
         "showlegend": true,
         "subplot": "ternary",
         "type": "scatterternary"
        },
        {
         "a": [
          190.02933256864145
         ],
         "b": [
          88.72028457950613
         ],
         "c": [
          41.400233297398586
         ],
         "hovertemplate": "index=108<br>red=%{a}<br>green=%{b}<br>blue=%{c}<extra></extra>",
         "legendgroup": "108",
         "marker": {
          "color": "rgb(190.02933256864145,88.72028457950613,41.400233297398586)",
          "symbol": "circle"
         },
         "mode": "markers",
         "name": "108",
         "showlegend": true,
         "subplot": "ternary",
         "type": "scatterternary"
        },
        {
         "a": [
          183.50646561720367
         ],
         "b": [
          84.61732105759906
         ],
         "c": [
          68.28573354532192
         ],
         "hovertemplate": "index=109<br>red=%{a}<br>green=%{b}<br>blue=%{c}<extra></extra>",
         "legendgroup": "109",
         "marker": {
          "color": "rgb(183.50646561720367,84.61732105759906,68.28573354532192)",
          "symbol": "circle"
         },
         "mode": "markers",
         "name": "109",
         "showlegend": true,
         "subplot": "ternary",
         "type": "scatterternary"
        },
        {
         "a": [
          179.05612849291296
         ],
         "b": [
          84.21806109763165
         ],
         "c": [
          92.31023781459369
         ],
         "hovertemplate": "index=110<br>red=%{a}<br>green=%{b}<br>blue=%{c}<extra></extra>",
         "legendgroup": "110",
         "marker": {
          "color": "rgb(179.05612849291296,84.21806109763165,92.31023781459369)",
          "symbol": "circle"
         },
         "mode": "markers",
         "name": "110",
         "showlegend": true,
         "subplot": "ternary",
         "type": "scatterternary"
        },
        {
         "a": [
          37.864805227223535
         ],
         "b": [
          109.2832114704161
         ],
         "c": [
          167.80102735354353
         ],
         "hovertemplate": "index=117<br>red=%{a}<br>green=%{b}<br>blue=%{c}<extra></extra>",
         "legendgroup": "117",
         "marker": {
          "color": "rgb(37.864805227223535,109.2832114704161,167.80102735354353)",
          "symbol": "circle"
         },
         "mode": "markers",
         "name": "117",
         "showlegend": true,
         "subplot": "ternary",
         "type": "scatterternary"
        },
        {
         "a": [
          197.47199999999998
         ],
         "b": [
          197.47199999999998
         ],
         "c": [
          197.47199999999998
         ],
         "hovertemplate": "index=130<br>red=%{a}<br>green=%{b}<br>blue=%{c}<extra></extra>",
         "legendgroup": "130",
         "marker": {
          "color": "rgb(197.47199999999998,197.47199999999998,197.47199999999998)",
          "symbol": "circle"
         },
         "mode": "markers",
         "name": "130",
         "showlegend": true,
         "subplot": "ternary",
         "type": "scatterternary"
        },
        {
         "a": [
          85.73638099210865
         ],
         "b": [
          142.95969570339238
         ],
         "c": [
          72.20361792112034
         ],
         "hovertemplate": "index=138<br>red=%{a}<br>green=%{b}<br>blue=%{c}<extra></extra>",
         "legendgroup": "138",
         "marker": {
          "color": "rgb(85.73638099210865,142.95969570339238,72.20361792112034)",
          "symbol": "circle"
         },
         "mode": "markers",
         "name": "138",
         "showlegend": true,
         "subplot": "ternary",
         "type": "scatterternary"
        },
        {
         "a": [
          192.26121834798252
         ],
         "b": [
          110.40475472847503
         ],
         "c": [
          80.14499120714137
         ],
         "hovertemplate": "index=151<br>red=%{a}<br>green=%{b}<br>blue=%{c}<extra></extra>",
         "legendgroup": "151",
         "marker": {
          "color": "rgb(192.26121834798252,110.40475472847503,80.14499120714137)",
          "symbol": "circle"
         },
         "mode": "markers",
         "name": "151",
         "showlegend": true,
         "subplot": "ternary",
         "type": "scatterternary"
        },
        {
         "a": [
          198.15013665709202
         ],
         "b": [
          125.69355201833733
         ],
         "c": [
          86.76694644310354
         ],
         "hovertemplate": "index=152<br>red=%{a}<br>green=%{b}<br>blue=%{c}<extra></extra>",
         "legendgroup": "152",
         "marker": {
          "color": "rgb(198.15013665709202,125.69355201833733,86.76694644310354)",
          "symbol": "circle"
         },
         "mode": "markers",
         "name": "152",
         "showlegend": true,
         "subplot": "ternary",
         "type": "scatterternary"
        },
        {
         "a": [
          189.215294153617
         ],
         "b": [
          104.08783826687232
         ],
         "c": [
          94.31270178607771
         ],
         "hovertemplate": "index=153<br>red=%{a}<br>green=%{b}<br>blue=%{c}<extra></extra>",
         "legendgroup": "153",
         "marker": {
          "color": "rgb(189.215294153617,104.08783826687232,94.31270178607771)",
          "symbol": "circle"
         },
         "mode": "markers",
         "name": "153",
         "showlegend": true,
         "subplot": "ternary",
         "type": "scatterternary"
        },
        {
         "a": [
          199.252815485063
         ],
         "b": [
          129.69769367283882
         ],
         "c": [
          106.32864051900258
         ],
         "hovertemplate": "index=154<br>red=%{a}<br>green=%{b}<br>blue=%{c}<extra></extra>",
         "legendgroup": "154",
         "marker": {
          "color": "rgb(199.252815485063,129.69769367283882,106.32864051900258)",
          "symbol": "circle"
         },
         "mode": "markers",
         "name": "154",
         "showlegend": true,
         "subplot": "ternary",
         "type": "scatterternary"
        },
        {
         "a": [
          208.95501023423716
         ],
         "b": [
          195.3745790786211
         ],
         "c": [
          157.79130166699645
         ],
         "hovertemplate": "index=159<br>red=%{a}<br>green=%{b}<br>blue=%{c}<extra></extra>",
         "legendgroup": "159",
         "marker": {
          "color": "rgb(208.95501023423716,195.3745790786211,157.79130166699645)",
          "symbol": "circle"
         },
         "mode": "markers",
         "name": "159",
         "showlegend": true,
         "subplot": "ternary",
         "type": "scatterternary"
        },
        {
         "a": [
          178.91367981867663
         ],
         "b": [
          131.91674932517293
         ],
         "c": [
          98.23006928896258
         ],
         "hovertemplate": "index=162<br>red=%{a}<br>green=%{b}<br>blue=%{c}<extra></extra>",
         "legendgroup": "162",
         "marker": {
          "color": "rgb(178.91367981867663,131.91674932517293,98.23006928896258)",
          "symbol": "circle"
         },
         "mode": "markers",
         "name": "162",
         "showlegend": true,
         "subplot": "ternary",
         "type": "scatterternary"
        },
        {
         "a": [
          136.39502479493035
         ],
         "b": [
          107.10122767135348
         ],
         "c": [
          137.9165874779318
         ],
         "hovertemplate": "index=169<br>red=%{a}<br>green=%{b}<br>blue=%{c}<extra></extra>",
         "legendgroup": "169",
         "marker": {
          "color": "rgb(136.39502479493035,107.10122767135348,137.9165874779318)",
          "symbol": "circle"
         },
         "mode": "markers",
         "name": "169",
         "showlegend": true,
         "subplot": "ternary",
         "type": "scatterternary"
        },
        {
         "a": [
          183.12404700603884
         ],
         "b": [
          76.83762765683063
         ],
         "c": [
          45.442671251578105
         ],
         "hovertemplate": "index=176<br>red=%{a}<br>green=%{b}<br>blue=%{c}<extra></extra>",
         "legendgroup": "176",
         "marker": {
          "color": "rgb(183.12404700603884,76.83762765683063,45.442671251578105)",
          "symbol": "circle"
         },
         "mode": "markers",
         "name": "176",
         "showlegend": true,
         "subplot": "ternary",
         "type": "scatterternary"
        },
        {
         "a": [
          57.715619813970534
         ],
         "b": [
          97.46802671491011
         ],
         "c": [
          151.11792001845936
         ],
         "hovertemplate": "index=202<br>red=%{a}<br>green=%{b}<br>blue=%{c}<extra></extra>",
         "legendgroup": "202",
         "marker": {
          "color": "rgb(57.715619813970534,97.46802671491011,151.11792001845936)",
          "symbol": "circle"
         },
         "mode": "markers",
         "name": "202",
         "showlegend": true,
         "subplot": "ternary",
         "type": "scatterternary"
        },
        {
         "a": [
          104.00291945257156
         ],
         "b": [
          137.67197696460963
         ],
         "c": [
          173.74753192699987
         ],
         "hovertemplate": "index=203<br>red=%{a}<br>green=%{b}<br>blue=%{c}<extra></extra>",
         "legendgroup": "203",
         "marker": {
          "color": "rgb(104.00291945257156,137.67197696460963,173.74753192699987)",
          "symbol": "circle"
         },
         "mode": "markers",
         "name": "203",
         "showlegend": true,
         "subplot": "ternary",
         "type": "scatterternary"
        },
        {
         "a": [
          194.85168617157714
         ],
         "b": [
          132.80516106856555
         ],
         "c": [
          71.16193190224931
         ],
         "hovertemplate": "index=205<br>red=%{a}<br>green=%{b}<br>blue=%{c}<extra></extra>",
         "legendgroup": "205",
         "marker": {
          "color": "rgb(194.85168617157714,132.80516106856555,71.16193190224931)",
          "symbol": "circle"
         },
         "mode": "markers",
         "name": "205",
         "showlegend": true,
         "subplot": "ternary",
         "type": "scatterternary"
        },
        {
         "a": [
          202.97278857969178
         ],
         "b": [
          162.5227487420684
         ],
         "c": [
          112.32433090907973
         ],
         "hovertemplate": "index=206<br>red=%{a}<br>green=%{b}<br>blue=%{c}<extra></extra>",
         "legendgroup": "206",
         "marker": {
          "color": "rgb(202.97278857969178,162.5227487420684,112.32433090907973)",
          "symbol": "circle"
         },
         "mode": "markers",
         "name": "206",
         "showlegend": true,
         "subplot": "ternary",
         "type": "scatterternary"
        },
        {
         "a": [
          202.5926845158304
         ],
         "b": [
          188.3917847660719
         ],
         "c": [
          123.52057784304036
         ],
         "hovertemplate": "index=212<br>red=%{a}<br>green=%{b}<br>blue=%{c}<extra></extra>",
         "legendgroup": "212",
         "marker": {
          "color": "rgb(202.5926845158304,188.3917847660719,123.52057784304036)",
          "symbol": "circle"
         },
         "mode": "markers",
         "name": "212",
         "showlegend": true,
         "subplot": "ternary",
         "type": "scatterternary"
        },
        {
         "a": [
          109.03233923792595
         ],
         "b": [
          163.93353274491375
         ],
         "c": [
          122.38800368648899
         ],
         "hovertemplate": "index=213<br>red=%{a}<br>green=%{b}<br>blue=%{c}<extra></extra>",
         "legendgroup": "213",
         "marker": {
          "color": "rgb(109.03233923792595,163.93353274491375,122.38800368648899)",
          "symbol": "circle"
         },
         "mode": "markers",
         "name": "213",
         "showlegend": true,
         "subplot": "ternary",
         "type": "scatterternary"
        },
        {
         "a": [
          148.3911010843374
         ],
         "b": [
          170.6935470637428
         ],
         "c": [
          190.41195544324987
         ],
         "hovertemplate": "index=218<br>red=%{a}<br>green=%{b}<br>blue=%{c}<extra></extra>",
         "legendgroup": "218",
         "marker": {
          "color": "rgb(148.3911010843374,170.6935470637428,190.41195544324987)",
          "symbol": "circle"
         },
         "mode": "markers",
         "name": "218",
         "showlegend": true,
         "subplot": "ternary",
         "type": "scatterternary"
        },
        {
         "a": [
          199.9777107065369
         ],
         "b": [
          178.20681357162508
         ],
         "c": [
          145.1545298417261
         ],
         "hovertemplate": "index=223<br>red=%{a}<br>green=%{b}<br>blue=%{c}<extra></extra>",
         "legendgroup": "223",
         "marker": {
          "color": "rgb(199.9777107065369,178.20681357162508,145.1545298417261)",
          "symbol": "circle"
         },
         "mode": "markers",
         "name": "223",
         "showlegend": true,
         "subplot": "ternary",
         "type": "scatterternary"
        },
        {
         "a": [
          175.8909197423063
         ],
         "b": [
          89.36189168601412
         ],
         "c": [
          36.94272627244547
         ],
         "hovertemplate": "index=236<br>red=%{a}<br>green=%{b}<br>blue=%{c}<extra></extra>",
         "legendgroup": "236",
         "marker": {
          "color": "rgb(175.8909197423063,89.36189168601412,36.94272627244547)",
          "symbol": "circle"
         },
         "mode": "markers",
         "name": "236",
         "showlegend": true,
         "subplot": "ternary",
         "type": "scatterternary"
        },
        {
         "a": [
          133.88617754018338
         ],
         "b": [
          165.21169859696172
         ],
         "c": [
          118.36764686526223
         ],
         "hovertemplate": "index=245<br>red=%{a}<br>green=%{b}<br>blue=%{c}<extra></extra>",
         "legendgroup": "245",
         "marker": {
          "color": "rgb(133.88617754018338,165.21169859696172,118.36764686526223)",
          "symbol": "circle"
         },
         "mode": "markers",
         "name": "245",
         "showlegend": true,
         "subplot": "ternary",
         "type": "scatterternary"
        },
        {
         "a": [
          160.49430773555008
         ],
         "b": [
          178.5613188833484
         ],
         "c": [
          147.20353141502866
         ],
         "hovertemplate": "index=246<br>red=%{a}<br>green=%{b}<br>blue=%{c}<extra></extra>",
         "legendgroup": "246",
         "marker": {
          "color": "rgb(160.49430773555008,178.5613188833484,147.20353141502866)",
          "symbol": "circle"
         },
         "mode": "markers",
         "name": "246",
         "showlegend": true,
         "subplot": "ternary",
         "type": "scatterternary"
        },
        {
         "a": [
          179.22920090029345
         ],
         "b": [
          102.65846211938317
         ],
         "c": [
          118.40226782286527
         ],
         "hovertemplate": "index=247<br>red=%{a}<br>green=%{b}<br>blue=%{c}<extra></extra>",
         "legendgroup": "247",
         "marker": {
          "color": "rgb(179.22920090029345,102.65846211938317,118.40226782286527)",
          "symbol": "circle"
         },
         "mode": "markers",
         "name": "247",
         "showlegend": true,
         "subplot": "ternary",
         "type": "scatterternary"
        },
        {
         "a": [
          190.26412102657812
         ],
         "b": [
          138.01871382145762
         ],
         "c": [
          144.3676993736499
         ],
         "hovertemplate": "index=248<br>red=%{a}<br>green=%{b}<br>blue=%{c}<extra></extra>",
         "legendgroup": "248",
         "marker": {
          "color": "rgb(190.26412102657812,138.01871382145762,144.3676993736499)",
          "symbol": "circle"
         },
         "mode": "markers",
         "name": "248",
         "showlegend": true,
         "subplot": "ternary",
         "type": "scatterternary"
        },
        {
         "a": [
          201.2667263666601
         ],
         "b": [
          169.65656950909917
         ],
         "c": [
          175.3186241703917
         ],
         "hovertemplate": "index=249<br>red=%{a}<br>green=%{b}<br>blue=%{c}<extra></extra>",
         "legendgroup": "249",
         "marker": {
          "color": "rgb(201.2667263666601,169.65656950909917,175.3186241703917)",
          "symbol": "circle"
         },
         "mode": "markers",
         "name": "249",
         "showlegend": true,
         "subplot": "ternary",
         "type": "scatterternary"
        },
        {
         "a": [
          182.3185449346718
         ],
         "b": [
          192.14956616347646
         ],
         "c": [
          173.4867837835584
         ],
         "hovertemplate": "index=278<br>red=%{a}<br>green=%{b}<br>blue=%{c}<extra></extra>",
         "legendgroup": "278",
         "marker": {
          "color": "rgb(182.3185449346718,192.14956616347646,173.4867837835584)",
          "symbol": "circle"
         },
         "mode": "markers",
         "name": "278",
         "showlegend": true,
         "subplot": "ternary",
         "type": "scatterternary"
        },
        {
         "a": [
          211.46932921299444
         ],
         "b": [
          190.17742163684818
         ],
         "c": [
          190.2314413874534
         ],
         "hovertemplate": "index=279<br>red=%{a}<br>green=%{b}<br>blue=%{c}<extra></extra>",
         "legendgroup": "279",
         "marker": {
          "color": "rgb(211.46932921299444,190.17742163684818,190.2314413874534)",
          "symbol": "circle"
         },
         "mode": "markers",
         "name": "279",
         "showlegend": true,
         "subplot": "ternary",
         "type": "scatterternary"
        },
        {
         "a": [
          179.80271130936856
         ],
         "b": [
          101.77122687255748
         ],
         "c": [
          42.70209947430395
         ],
         "hovertemplate": "index=285<br>red=%{a}<br>green=%{b}<br>blue=%{c}<extra></extra>",
         "legendgroup": "285",
         "marker": {
          "color": "rgb(179.80271130936856,101.77122687255748,42.70209947430395)",
          "symbol": "circle"
         },
         "mode": "markers",
         "name": "285",
         "showlegend": true,
         "subplot": "ternary",
         "type": "scatterternary"
        },
        {
         "a": [
          178.08262650711526
         ],
         "b": [
          123.641386243167
         ],
         "c": [
          64.71421097257678
         ],
         "hovertemplate": "index=442<br>red=%{a}<br>green=%{b}<br>blue=%{c}<extra></extra>",
         "legendgroup": "442",
         "marker": {
          "color": "rgb(178.08262650711526,123.641386243167,64.71421097257678)",
          "symbol": "circle"
         },
         "mode": "markers",
         "name": "442",
         "showlegend": true,
         "subplot": "ternary",
         "type": "scatterternary"
        },
        {
         "a": [
          190.1950604384474
         ],
         "b": [
          158.698036584534
         ],
         "c": [
          110.1136268968684
         ],
         "hovertemplate": "index=443<br>red=%{a}<br>green=%{b}<br>blue=%{c}<extra></extra>",
         "legendgroup": "443",
         "marker": {
          "color": "rgb(190.1950604384474,158.698036584534,110.1136268968684)",
          "symbol": "circle"
         },
         "mode": "markers",
         "name": "443",
         "showlegend": true,
         "subplot": "ternary",
         "type": "scatterternary"
        },
        {
         "a": [
          192.84904477532524
         ],
         "b": [
          173.97617479655167
         ],
         "c": [
          145.69539769265094
         ],
         "hovertemplate": "index=444<br>red=%{a}<br>green=%{b}<br>blue=%{c}<extra></extra>",
         "legendgroup": "444",
         "marker": {
          "color": "rgb(192.84904477532524,173.97617479655167,145.69539769265094)",
          "symbol": "circle"
         },
         "mode": "markers",
         "name": "444",
         "showlegend": true,
         "subplot": "ternary",
         "type": "scatterternary"
        },
        {
         "a": [
          96.09906126208456
         ],
         "b": [
          110.69301240456134
         ],
         "c": [
          154.88471005582323
         ],
         "hovertemplate": "index=502<br>red=%{a}<br>green=%{b}<br>blue=%{c}<extra></extra>",
         "legendgroup": "502",
         "marker": {
          "color": "rgb(96.09906126208456,110.69301240456134,154.88471005582323)",
          "symbol": "circle"
         },
         "mode": "markers",
         "name": "502",
         "showlegend": true,
         "subplot": "ternary",
         "type": "scatterternary"
        },
        {
         "a": [
          139.88134592614406
         ],
         "b": [
          151.49226369855347
         ],
         "c": [
          179.99798997061157
         ],
         "hovertemplate": "index=503<br>red=%{a}<br>green=%{b}<br>blue=%{c}<extra></extra>",
         "legendgroup": "503",
         "marker": {
          "color": "rgb(139.88134592614406,151.49226369855347,179.99798997061157)",
          "symbol": "circle"
         },
         "mode": "markers",
         "name": "503",
         "showlegend": true,
         "subplot": "ternary",
         "type": "scatterternary"
        },
        {
         "a": [
          181.80498632013
         ],
         "b": [
          117.98742443686925
         ],
         "c": [
          78.35566014592733
         ],
         "hovertemplate": "index=506<br>red=%{a}<br>green=%{b}<br>blue=%{c}<extra></extra>",
         "legendgroup": "506",
         "marker": {
          "color": "rgb(181.80498632013,117.98742443686925,78.35566014592733)",
          "symbol": "circle"
         },
         "mode": "markers",
         "name": "506",
         "showlegend": true,
         "subplot": "ternary",
         "type": "scatterternary"
        },
        {
         "a": [
          202.25435337164248
         ],
         "b": [
          194.26748737553115
         ],
         "c": [
          83.73094904533153
         ],
         "hovertemplate": "index=513<br>red=%{a}<br>green=%{b}<br>blue=%{c}<extra></extra>",
         "legendgroup": "513",
         "marker": {
          "color": "rgb(202.25435337164248,194.26748737553115,83.73094904533153)",
          "symbol": "circle"
         },
         "mode": "markers",
         "name": "513",
         "showlegend": true,
         "subplot": "ternary",
         "type": "scatterternary"
        },
        {
         "a": [
          195.73894138289052
         ],
         "b": [
          187.4027134241866
         ],
         "c": [
          70.14671915412958
         ],
         "hovertemplate": "index=514<br>red=%{a}<br>green=%{b}<br>blue=%{c}<extra></extra>",
         "legendgroup": "514",
         "marker": {
          "color": "rgb(195.73894138289052,187.4027134241866,70.14671915412958)",
          "symbol": "circle"
         },
         "mode": "markers",
         "name": "514",
         "showlegend": true,
         "subplot": "ternary",
         "type": "scatterternary"
        },
        {
         "a": [
          182.2582216933286
         ],
         "b": [
          90.80799432341577
         ],
         "c": [
          39.37053865969631
         ],
         "hovertemplate": "index=604<br>red=%{a}<br>green=%{b}<br>blue=%{c}<extra></extra>",
         "legendgroup": "604",
         "marker": {
          "color": "rgb(182.2582216933286,90.80799432341577,39.37053865969631)",
          "symbol": "circle"
         },
         "mode": "markers",
         "name": "604",
         "showlegend": true,
         "subplot": "ternary",
         "type": "scatterternary"
        },
        {
         "a": [
          114.69959048656635
         ],
         "b": [
          96.4398629221236
         ],
         "c": [
          140.44352807010097
         ],
         "hovertemplate": "index=702<br>red=%{a}<br>green=%{b}<br>blue=%{c}<extra></extra>",
         "legendgroup": "702",
         "marker": {
          "color": "rgb(114.69959048656635,96.4398629221236,140.44352807010097)",
          "symbol": "circle"
         },
         "mode": "markers",
         "name": "702",
         "showlegend": true,
         "subplot": "ternary",
         "type": "scatterternary"
        },
        {
         "a": [
          104.95113359070075
         ],
         "b": [
          67.34467546561552
         ],
         "c": [
          129.6296095767414
         ],
         "hovertemplate": "index=704<br>red=%{a}<br>green=%{b}<br>blue=%{c}<extra></extra>",
         "legendgroup": "704",
         "marker": {
          "color": "rgb(104.95113359070075,67.34467546561552,129.6296095767414)",
          "symbol": "circle"
         },
         "mode": "markers",
         "name": "704",
         "showlegend": true,
         "subplot": "ternary",
         "type": "scatterternary"
        },
        {
         "a": [
          70.6644824226071
         ],
         "b": [
          122.21095696498818
         ],
         "c": [
          118.04511683414661
         ],
         "hovertemplate": "index=730<br>red=%{a}<br>green=%{b}<br>blue=%{c}<extra></extra>",
         "legendgroup": "730",
         "marker": {
          "color": "rgb(70.6644824226071,122.21095696498818,118.04511683414661)",
          "symbol": "circle"
         },
         "mode": "markers",
         "name": "730",
         "showlegend": true,
         "subplot": "ternary",
         "type": "scatterternary"
        },
        {
         "a": [
          186.8438521856036
         ],
         "b": [
          157.61664080184525
         ],
         "c": [
          97.333662577394
         ],
         "hovertemplate": "index=763<br>red=%{a}<br>green=%{b}<br>blue=%{c}<extra></extra>",
         "legendgroup": "763",
         "marker": {
          "color": "rgb(186.8438521856036,157.61664080184525,97.333662577394)",
          "symbol": "circle"
         },
         "mode": "markers",
         "name": "763",
         "showlegend": true,
         "subplot": "ternary",
         "type": "scatterternary"
        },
        {
         "a": [
          194.67402048297114
         ],
         "b": [
          149.75530583899595
         ],
         "c": [
          75.21950977461132
         ],
         "hovertemplate": "index=764<br>red=%{a}<br>green=%{b}<br>blue=%{c}<extra></extra>",
         "legendgroup": "764",
         "marker": {
          "color": "rgb(194.67402048297114,149.75530583899595,75.21950977461132)",
          "symbol": "circle"
         },
         "mode": "markers",
         "name": "764",
         "showlegend": true,
         "subplot": "ternary",
         "type": "scatterternary"
        },
        {
         "a": [
          199.5804403780195
         ],
         "b": [
          148.92066066016562
         ],
         "c": [
          58.75054859967591
         ],
         "hovertemplate": "index=765<br>red=%{a}<br>green=%{b}<br>blue=%{c}<extra></extra>",
         "legendgroup": "765",
         "marker": {
          "color": "rgb(199.5804403780195,148.92066066016562,58.75054859967591)",
          "symbol": "circle"
         },
         "mode": "markers",
         "name": "765",
         "showlegend": true,
         "subplot": "ternary",
         "type": "scatterternary"
        },
        {
         "a": [
          189.4665728831779
         ],
         "b": [
          118.24825198562323
         ],
         "c": [
          28.191723400788558
         ],
         "hovertemplate": "index=767<br>red=%{a}<br>green=%{b}<br>blue=%{c}<extra></extra>",
         "legendgroup": "767",
         "marker": {
          "color": "rgb(189.4665728831779,118.24825198562323,28.191723400788558)",
          "symbol": "circle"
         },
         "mode": "markers",
         "name": "767",
         "showlegend": true,
         "subplot": "ternary",
         "type": "scatterternary"
        },
        {
         "a": [
          179.86856440561115
         ],
         "b": [
          95.04425362924448
         ],
         "c": [
          47.99527483444746
         ],
         "hovertemplate": "index=773<br>red=%{a}<br>green=%{b}<br>blue=%{c}<extra></extra>",
         "legendgroup": "773",
         "marker": {
          "color": "rgb(179.86856440561115,95.04425362924448,47.99527483444746)",
          "symbol": "circle"
         },
         "mode": "markers",
         "name": "773",
         "showlegend": true,
         "subplot": "ternary",
         "type": "scatterternary"
        },
        {
         "a": [
          186.1291799906552
         ],
         "b": [
          86.55223524985796
         ],
         "c": [
          36.09842836007232
         ],
         "hovertemplate": "index=776<br>red=%{a}<br>green=%{b}<br>blue=%{c}<extra></extra>",
         "legendgroup": "776",
         "marker": {
          "color": "rgb(186.1291799906552,86.55223524985796,36.09842836007232)",
          "symbol": "circle"
         },
         "mode": "markers",
         "name": "776",
         "showlegend": true,
         "subplot": "ternary",
         "type": "scatterternary"
        },
        {
         "a": [
          169.4796594109638
         ],
         "b": [
          84.94263755758186
         ],
         "c": [
          57.09855260313034
         ],
         "hovertemplate": "index=790<br>red=%{a}<br>green=%{b}<br>blue=%{c}<extra></extra>",
         "legendgroup": "790",
         "marker": {
          "color": "rgb(169.4796594109638,84.94263755758186,57.09855260313034)",
          "symbol": "circle"
         },
         "mode": "markers",
         "name": "790",
         "showlegend": true,
         "subplot": "ternary",
         "type": "scatterternary"
        },
        {
         "a": [
          179.98001334645463
         ],
         "b": [
          82.2314327797089
         ],
         "c": [
          105.57809328076293
         ],
         "hovertemplate": "index=794<br>red=%{a}<br>green=%{b}<br>blue=%{c}<extra></extra>",
         "legendgroup": "794",
         "marker": {
          "color": "rgb(179.98001334645463,82.2314327797089,105.57809328076293)",
          "symbol": "circle"
         },
         "mode": "markers",
         "name": "794",
         "showlegend": true,
         "subplot": "ternary",
         "type": "scatterternary"
        },
        {
         "a": [
          97.97412811383724
         ],
         "b": [
          147.67133807057095
         ],
         "c": [
          153.63127236590293
         ],
         "hovertemplate": "index=SC15<br>red=%{a}<br>green=%{b}<br>blue=%{c}<extra></extra>",
         "legendgroup": "SC15",
         "marker": {
          "color": "rgb(97.97412811383724,147.67133807057095,153.63127236590293)",
          "symbol": "circle"
         },
         "mode": "markers",
         "name": "SC15",
         "showlegend": true,
         "subplot": "ternary",
         "type": "scatterternary"
        },
        {
         "a": [
          53.38785006963183
         ],
         "b": [
          120.20130470054826
         ],
         "c": [
          139.99596739053152
         ],
         "hovertemplate": "index=SC30<br>red=%{a}<br>green=%{b}<br>blue=%{c}<extra></extra>",
         "legendgroup": "SC30",
         "marker": {
          "color": "rgb(53.38785006963183,120.20130470054826,139.99596739053152)",
          "symbol": "circle"
         },
         "mode": "markers",
         "name": "SC30",
         "showlegend": true,
         "subplot": "ternary",
         "type": "scatterternary"
        },
        {
         "a": [
          125.50083206605717
         ],
         "b": [
          95.75895314221897
         ],
         "c": [
          95.65331706626792
         ],
         "hovertemplate": "index=806<br>red=%{a}<br>green=%{b}<br>blue=%{c}<extra></extra>",
         "legendgroup": "806",
         "marker": {
          "color": "rgb(125.50083206605717,95.75895314221897,95.65331706626792)",
          "symbol": "circle"
         },
         "mode": "markers",
         "name": "806",
         "showlegend": true,
         "subplot": "ternary",
         "type": "scatterternary"
        },
        {
         "a": [
          138.71611438713998
         ],
         "b": [
          114.62666258608054
         ],
         "c": [
          96.81405172278065
         ],
         "hovertemplate": "index=808<br>red=%{a}<br>green=%{b}<br>blue=%{c}<extra></extra>",
         "legendgroup": "808",
         "marker": {
          "color": "rgb(138.71611438713998,114.62666258608054,96.81405172278065)",
          "symbol": "circle"
         },
         "mode": "markers",
         "name": "808",
         "showlegend": true,
         "subplot": "ternary",
         "type": "scatterternary"
        },
        {
         "a": [
          121.48089710744038
         ],
         "b": [
          119.8419705545314
         ],
         "c": [
          87.89676680156018
         ],
         "hovertemplate": "index=809<br>red=%{a}<br>green=%{b}<br>blue=%{c}<extra></extra>",
         "legendgroup": "809",
         "marker": {
          "color": "rgb(121.48089710744038,119.8419705545314,87.89676680156018)",
          "symbol": "circle"
         },
         "mode": "markers",
         "name": "809",
         "showlegend": true,
         "subplot": "ternary",
         "type": "scatterternary"
        },
        {
         "a": [
          86.0342586010437
         ],
         "b": [
          106.93436982576873
         ],
         "c": [
          108.27188875536963
         ],
         "hovertemplate": "index=810<br>red=%{a}<br>green=%{b}<br>blue=%{c}<extra></extra>",
         "legendgroup": "810",
         "marker": {
          "color": "rgb(86.0342586010437,106.93436982576873,108.27188875536963)",
          "symbol": "circle"
         },
         "mode": "markers",
         "name": "810",
         "showlegend": true,
         "subplot": "ternary",
         "type": "scatterternary"
        },
        {
         "a": [
          60.85646162669904
         ],
         "b": [
          95.80690773120277
         ],
         "c": [
          150.73915992839065
         ],
         "hovertemplate": "index=718<br>red=%{a}<br>green=%{b}<br>blue=%{c}<extra></extra>",
         "legendgroup": "718",
         "marker": {
          "color": "rgb(60.85646162669904,95.80690773120277,150.73915992839065)",
          "symbol": "circle"
         },
         "mode": "markers",
         "name": "718",
         "showlegend": true,
         "subplot": "ternary",
         "type": "scatterternary"
        },
        {
         "a": [
          196.20434036222974
         ],
         "b": [
          128.3327205378738
         ],
         "c": [
          107.56930953433277
         ],
         "hovertemplate": "index=749<br>red=%{a}<br>green=%{b}<br>blue=%{c}<extra></extra>",
         "legendgroup": "749",
         "marker": {
          "color": "rgb(196.20434036222974,128.3327205378738,107.56930953433277)",
          "symbol": "circle"
         },
         "mode": "markers",
         "name": "749",
         "showlegend": true,
         "subplot": "ternary",
         "type": "scatterternary"
        },
        {
         "a": [
          208.2589521269494
         ],
         "b": [
          207.0977396867457
         ],
         "c": [
          205.95579451617218
         ],
         "hovertemplate": "index=750<br>red=%{a}<br>green=%{b}<br>blue=%{c}<extra></extra>",
         "legendgroup": "750",
         "marker": {
          "color": "rgb(208.2589521269494,207.0977396867457,205.95579451617218)",
          "symbol": "circle"
         },
         "mode": "markers",
         "name": "750",
         "showlegend": true,
         "subplot": "ternary",
         "type": "scatterternary"
        },
        {
         "a": [
          163.15468737672424
         ],
         "b": [
          103.16849184964391
         ],
         "c": [
          64.36397420134946
         ],
         "hovertemplate": "index=774<br>red=%{a}<br>green=%{b}<br>blue=%{c}<extra></extra>",
         "legendgroup": "774",
         "marker": {
          "color": "rgb(163.15468737672424,103.16849184964391,64.36397420134946)",
          "symbol": "circle"
         },
         "mode": "markers",
         "name": "774",
         "showlegend": true,
         "subplot": "ternary",
         "type": "scatterternary"
        },
        {
         "a": [
          179.95335781297584
         ],
         "b": [
          90.55503691164085
         ],
         "c": [
          63.47905714103683
         ],
         "hovertemplate": "index=791<br>red=%{a}<br>green=%{b}<br>blue=%{c}<extra></extra>",
         "legendgroup": "791",
         "marker": {
          "color": "rgb(179.95335781297584,90.55503691164085,63.47905714103683)",
          "symbol": "circle"
         },
         "mode": "markers",
         "name": "791",
         "showlegend": true,
         "subplot": "ternary",
         "type": "scatterternary"
        },
        {
         "a": [
          126.02236511322081
         ],
         "b": [
          125.93620286381226
         ],
         "c": [
          120.01862715503529
         ],
         "hovertemplate": "index=298<br>red=%{a}<br>green=%{b}<br>blue=%{c}<extra></extra>",
         "legendgroup": "298",
         "marker": {
          "color": "rgb(126.02236511322081,125.93620286381226,120.01862715503529)",
          "symbol": "circle"
         },
         "mode": "markers",
         "name": "298",
         "showlegend": true,
         "subplot": "ternary",
         "type": "scatterternary"
        },
        {
         "a": [
          215.89780721943342
         ],
         "b": [
          214.6031620532204
         ],
         "c": [
          211.80378997794378
         ],
         "hovertemplate": "index=269<br>red=%{a}<br>green=%{b}<br>blue=%{c}<extra></extra>",
         "legendgroup": "269",
         "marker": {
          "color": "rgb(215.89780721943342,214.6031620532204,211.80378997794378)",
          "symbol": "circle"
         },
         "mode": "markers",
         "name": "269",
         "showlegend": true,
         "subplot": "ternary",
         "type": "scatterternary"
        },
        {
         "a": [
          208.14168267900516
         ],
         "b": [
          206.65433569351458
         ],
         "c": [
          191.73714838841715
         ],
         "hovertemplate": "index=226<br>red=%{a}<br>green=%{b}<br>blue=%{c}<extra></extra>",
         "legendgroup": "226",
         "marker": {
          "color": "rgb(208.14168267900516,206.65433569351458,191.73714838841715)",
          "symbol": "circle"
         },
         "mode": "markers",
         "name": "226",
         "showlegend": true,
         "subplot": "ternary",
         "type": "scatterternary"
        },
        {
         "a": [
          194.85168617157714
         ],
         "b": [
          132.80516106856555
         ],
         "c": [
          71.16193190224931
         ],
         "hovertemplate": "index=A205<br>red=%{a}<br>green=%{b}<br>blue=%{c}<extra></extra>",
         "legendgroup": "A205",
         "marker": {
          "color": "rgb(194.85168617157714,132.80516106856555,71.16193190224931)",
          "symbol": "circle"
         },
         "mode": "markers",
         "name": "A205",
         "showlegend": true,
         "subplot": "ternary",
         "type": "scatterternary"
        },
        {
         "a": [
          69.88669506704137
         ],
         "b": [
          98.33984728981324
         ],
         "c": [
          166.99511926755028
         ],
         "hovertemplate": "index=B71<br>red=%{a}<br>green=%{b}<br>blue=%{c}<extra></extra>",
         "legendgroup": "B71",
         "marker": {
          "color": "rgb(69.88669506704137,98.33984728981324,166.99511926755028)",
          "symbol": "circle"
         },
         "mode": "markers",
         "name": "B71",
         "showlegend": true,
         "subplot": "ternary",
         "type": "scatterternary"
        },
        {
         "a": [
          21.473893423885894
         ],
         "b": [
          145.37880448149284
         ],
         "c": [
          199.00629791370986
         ],
         "hovertemplate": "index=C45<br>red=%{a}<br>green=%{b}<br>blue=%{c}<extra></extra>",
         "legendgroup": "C45",
         "marker": {
          "color": "rgb(21.473893423885894,145.37880448149284,199.00629791370986)",
          "symbol": "circle"
         },
         "mode": "markers",
         "name": "C45",
         "showlegend": true,
         "subplot": "ternary",
         "type": "scatterternary"
        },
        {
         "a": [
          78.48713338360567
         ],
         "b": [
          95.00545295579266
         ],
         "c": [
          146.95623131449835
         ],
         "hovertemplate": "index=LD203<br>red=%{a}<br>green=%{b}<br>blue=%{c}<extra></extra>",
         "legendgroup": "LD203",
         "marker": {
          "color": "rgb(78.48713338360567,95.00545295579266,146.95623131449835)",
          "symbol": "circle"
         },
         "mode": "markers",
         "name": "LD203",
         "showlegend": true,
         "subplot": "ternary",
         "type": "scatterternary"
        },
        {
         "a": [
          184.65517138426773
         ],
         "b": [
          86.24908721166581
         ],
         "c": [
          37.98613745166639
         ],
         "hovertemplate": "index=LD204<br>red=%{a}<br>green=%{b}<br>blue=%{c}<extra></extra>",
         "legendgroup": "LD204",
         "marker": {
          "color": "rgb(184.65517138426773,86.24908721166581,37.98613745166639)",
          "symbol": "circle"
         },
         "mode": "markers",
         "name": "LD204",
         "showlegend": true,
         "subplot": "ternary",
         "type": "scatterternary"
        },
        {
         "a": [
          173.49234471196795
         ],
         "b": [
          105.4486027173299
         ],
         "c": [
          49.80237230809486
         ],
         "hovertemplate": "index=LD205<br>red=%{a}<br>green=%{b}<br>blue=%{c}<extra></extra>",
         "legendgroup": "LD205",
         "marker": {
          "color": "rgb(173.49234471196795,105.4486027173299,49.80237230809486)",
          "symbol": "circle"
         },
         "mode": "markers",
         "name": "LD205",
         "showlegend": true,
         "subplot": "ternary",
         "type": "scatterternary"
        },
        {
         "a": [
          154.28656857513522
         ],
         "b": [
          103.5662335729692
         ],
         "c": [
          66.35463289319894
         ],
         "hovertemplate": "index=LD206<br>red=%{a}<br>green=%{b}<br>blue=%{c}<extra></extra>",
         "legendgroup": "LD206",
         "marker": {
          "color": "rgb(154.28656857513522,103.5662335729692,66.35463289319894)",
          "symbol": "circle"
         },
         "mode": "markers",
         "name": "LD206",
         "showlegend": true,
         "subplot": "ternary",
         "type": "scatterternary"
        },
        {
         "a": [
          151.89751156293957
         ],
         "b": [
          173.38520125981594
         ],
         "c": [
          191.6009087588179
         ],
         "hovertemplate": "index=LD218<br>red=%{a}<br>green=%{b}<br>blue=%{c}<extra></extra>",
         "legendgroup": "LD218",
         "marker": {
          "color": "rgb(151.89751156293957,173.38520125981594,191.6009087588179)",
          "symbol": "circle"
         },
         "mode": "markers",
         "name": "LD218",
         "showlegend": true,
         "subplot": "ternary",
         "type": "scatterternary"
        },
        {
         "a": [
          218.24588684359412
         ],
         "b": [
          184.1860085677742
         ],
         "c": [
          148.90924521889022
         ],
         "hovertemplate": "index=LD223<br>red=%{a}<br>green=%{b}<br>blue=%{c}<extra></extra>",
         "legendgroup": "LD223",
         "marker": {
          "color": "rgb(218.24588684359412,184.1860085677742,148.90924521889022)",
          "symbol": "circle"
         },
         "mode": "markers",
         "name": "LD223",
         "showlegend": true,
         "subplot": "ternary",
         "type": "scatterternary"
        },
        {
         "a": [
          200.69728000952156
         ],
         "b": [
          171.35692877151737
         ],
         "c": [
          175.25723120241653
         ],
         "hovertemplate": "index=LD249<br>red=%{a}<br>green=%{b}<br>blue=%{c}<extra></extra>",
         "legendgroup": "LD249",
         "marker": {
          "color": "rgb(200.69728000952156,171.35692877151737,175.25723120241653)",
          "symbol": "circle"
         },
         "mode": "markers",
         "name": "LD249",
         "showlegend": true,
         "subplot": "ternary",
         "type": "scatterternary"
        },
        {
         "a": [
          184.55366171256202
         ],
         "b": [
          185.35483099343062
         ],
         "c": [
          161.44504459037063
         ],
         "hovertemplate": "index=LD278<br>red=%{a}<br>green=%{b}<br>blue=%{c}<extra></extra>",
         "legendgroup": "LD278",
         "marker": {
          "color": "rgb(184.55366171256202,185.35483099343062,161.44504459037063)",
          "symbol": "circle"
         },
         "mode": "markers",
         "name": "LD278",
         "showlegend": true,
         "subplot": "ternary",
         "type": "scatterternary"
        },
        {
         "a": [
          197.0026707015424
         ],
         "b": [
          181.59087269786602
         ],
         "c": [
          176.76786544389083
         ],
         "hovertemplate": "index=LD279<br>red=%{a}<br>green=%{b}<br>blue=%{c}<extra></extra>",
         "legendgroup": "LD279",
         "marker": {
          "color": "rgb(197.0026707015424,181.59087269786602,176.76786544389083)",
          "symbol": "circle"
         },
         "mode": "markers",
         "name": "LD279",
         "showlegend": true,
         "subplot": "ternary",
         "type": "scatterternary"
        },
        {
         "a": [
          190.1950604384474
         ],
         "b": [
          158.698036584534
         ],
         "c": [
          110.1136268968684
         ],
         "hovertemplate": "index=LD443<br>red=%{a}<br>green=%{b}<br>blue=%{c}<extra></extra>",
         "legendgroup": "LD443",
         "marker": {
          "color": "rgb(190.1950604384474,158.698036584534,110.1136268968684)",
          "symbol": "circle"
         },
         "mode": "markers",
         "name": "LD443",
         "showlegend": true,
         "subplot": "ternary",
         "type": "scatterternary"
        },
        {
         "a": [
          157.26852067154758
         ],
         "b": [
          56.932836950975236
         ],
         "c": [
          98.73749729715821
         ],
         "hovertemplate": "index=M63<br>red=%{a}<br>green=%{b}<br>blue=%{c}<extra></extra>",
         "legendgroup": "M63",
         "marker": {
          "color": "rgb(157.26852067154758,56.932836950975236,98.73749729715821)",
          "symbol": "circle"
         },
         "mode": "markers",
         "name": "M63",
         "showlegend": true,
         "subplot": "ternary",
         "type": "scatterternary"
        },
        {
         "a": [
          146.66024749824706
         ],
         "b": [
          87.18400743865732
         ],
         "c": [
          102.45211149097844
         ],
         "hovertemplate": "index=M91<br>red=%{a}<br>green=%{b}<br>blue=%{c}<extra></extra>",
         "legendgroup": "M91",
         "marker": {
          "color": "rgb(146.66024749824706,87.18400743865732,102.45211149097844)",
          "symbol": "circle"
         },
         "mode": "markers",
         "name": "M91",
         "showlegend": true,
         "subplot": "ternary",
         "type": "scatterternary"
        },
        {
         "a": [
          180.24164168073332
         ],
         "b": [
          102.82823503563219
         ],
         "c": [
          85.56843333625538
         ],
         "hovertemplate": "index=O01<br>red=%{a}<br>green=%{b}<br>blue=%{c}<extra></extra>",
         "legendgroup": "O01",
         "marker": {
          "color": "rgb(180.24164168073332,102.82823503563219,85.56843333625538)",
          "symbol": "circle"
         },
         "mode": "markers",
         "name": "O01",
         "showlegend": true,
         "subplot": "ternary",
         "type": "scatterternary"
        },
        {
         "a": [
          194.41518168440868
         ],
         "b": [
          115.03427512245268
         ],
         "c": [
          75.14959411850823
         ],
         "hovertemplate": "index=O32<br>red=%{a}<br>green=%{b}<br>blue=%{c}<extra></extra>",
         "legendgroup": "O32",
         "marker": {
          "color": "rgb(194.41518168440868,115.03427512245268,75.14959411850823)",
          "symbol": "circle"
         },
         "mode": "markers",
         "name": "O32",
         "showlegend": true,
         "subplot": "ternary",
         "type": "scatterternary"
        },
        {
         "a": [
          182.994568626242
         ],
         "b": [
          164.80061688887636
         ],
         "c": [
          121.25510788414275
         ],
         "hovertemplate": "index=O80<br>red=%{a}<br>green=%{b}<br>blue=%{c}<extra></extra>",
         "legendgroup": "O80",
         "marker": {
          "color": "rgb(182.994568626242,164.80061688887636,121.25510788414275)",
          "symbol": "circle"
         },
         "mode": "markers",
         "name": "O80",
         "showlegend": true,
         "subplot": "ternary",
         "type": "scatterternary"
        },
        {
         "a": [
          214.97984962869518
         ],
         "b": [
          163.96107247822053
         ],
         "c": [
          42.0230214825114
         ],
         "hovertemplate": "index=O89<br>red=%{a}<br>green=%{b}<br>blue=%{c}<extra></extra>",
         "legendgroup": "O89",
         "marker": {
          "color": "rgb(214.97984962869518,163.96107247822053,42.0230214825114)",
          "symbol": "circle"
         },
         "mode": "markers",
         "name": "O89",
         "showlegend": true,
         "subplot": "ternary",
         "type": "scatterternary"
        },
        {
         "a": [
          201.2950169696277
         ],
         "b": [
          165.432105073354
         ],
         "c": [
          124.41063573897682
         ],
         "hovertemplate": "index=R31<br>red=%{a}<br>green=%{b}<br>blue=%{c}<extra></extra>",
         "legendgroup": "R31",
         "marker": {
          "color": "rgb(201.2950169696277,165.432105073354,124.41063573897682)",
          "symbol": "circle"
         },
         "mode": "markers",
         "name": "R31",
         "showlegend": true,
         "subplot": "ternary",
         "type": "scatterternary"
        },
        {
         "a": [
          135.80710712088077
         ],
         "b": [
          99.98067196803443
         ],
         "c": [
          100.26586045842842
         ],
         "hovertemplate": "index=R50<br>red=%{a}<br>green=%{b}<br>blue=%{c}<extra></extra>",
         "legendgroup": "R50",
         "marker": {
          "color": "rgb(135.80710712088077,99.98067196803443,100.26586045842842)",
          "symbol": "circle"
         },
         "mode": "markers",
         "name": "R50",
         "showlegend": true,
         "subplot": "ternary",
         "type": "scatterternary"
        },
        {
         "a": [
          139.33314131114471
         ],
         "b": [
          142.23878208108363
         ],
         "c": [
          161.51356599543027
         ],
         "hovertemplate": "index=V10<br>red=%{a}<br>green=%{b}<br>blue=%{c}<extra></extra>",
         "legendgroup": "V10",
         "marker": {
          "color": "rgb(139.33314131114471,142.23878208108363,161.51356599543027)",
          "symbol": "circle"
         },
         "mode": "markers",
         "name": "V10",
         "showlegend": true,
         "subplot": "ternary",
         "type": "scatterternary"
        },
        {
         "a": [
          127.21369666077545
         ],
         "b": [
          42.19271187161799
         ],
         "c": [
          132.27407573822592
         ],
         "hovertemplate": "index=V98<br>red=%{a}<br>green=%{b}<br>blue=%{c}<extra></extra>",
         "legendgroup": "V98",
         "marker": {
          "color": "rgb(127.21369666077545,42.19271187161799,132.27407573822592)",
          "symbol": "circle"
         },
         "mode": "markers",
         "name": "V98",
         "showlegend": true,
         "subplot": "ternary",
         "type": "scatterternary"
        },
        {
         "a": [
          165.18122746026523
         ],
         "b": [
          128.5612223759718
         ],
         "c": [
          66.09916180538087
         ],
         "hovertemplate": "index=Y02<br>red=%{a}<br>green=%{b}<br>blue=%{c}<extra></extra>",
         "legendgroup": "Y02",
         "marker": {
          "color": "rgb(165.18122746026523,128.5612223759718,66.09916180538087)",
          "symbol": "circle"
         },
         "mode": "markers",
         "name": "Y02",
         "showlegend": true,
         "subplot": "ternary",
         "type": "scatterternary"
        }
       ],
       "layout": {
        "legend": {
         "title": {
          "text": "index"
         },
         "tracegroupgap": 0
        },
        "margin": {
         "t": 60
        },
        "template": {
         "data": {
          "bar": [
           {
            "error_x": {
             "color": "#2a3f5f"
            },
            "error_y": {
             "color": "#2a3f5f"
            },
            "marker": {
             "line": {
              "color": "#E5ECF6",
              "width": 0.5
             },
             "pattern": {
              "fillmode": "overlay",
              "size": 10,
              "solidity": 0.2
             }
            },
            "type": "bar"
           }
          ],
          "barpolar": [
           {
            "marker": {
             "line": {
              "color": "#E5ECF6",
              "width": 0.5
             },
             "pattern": {
              "fillmode": "overlay",
              "size": 10,
              "solidity": 0.2
             }
            },
            "type": "barpolar"
           }
          ],
          "carpet": [
           {
            "aaxis": {
             "endlinecolor": "#2a3f5f",
             "gridcolor": "white",
             "linecolor": "white",
             "minorgridcolor": "white",
             "startlinecolor": "#2a3f5f"
            },
            "baxis": {
             "endlinecolor": "#2a3f5f",
             "gridcolor": "white",
             "linecolor": "white",
             "minorgridcolor": "white",
             "startlinecolor": "#2a3f5f"
            },
            "type": "carpet"
           }
          ],
          "choropleth": [
           {
            "colorbar": {
             "outlinewidth": 0,
             "ticks": ""
            },
            "type": "choropleth"
           }
          ],
          "contour": [
           {
            "colorbar": {
             "outlinewidth": 0,
             "ticks": ""
            },
            "colorscale": [
             [
              0,
              "#0d0887"
             ],
             [
              0.1111111111111111,
              "#46039f"
             ],
             [
              0.2222222222222222,
              "#7201a8"
             ],
             [
              0.3333333333333333,
              "#9c179e"
             ],
             [
              0.4444444444444444,
              "#bd3786"
             ],
             [
              0.5555555555555556,
              "#d8576b"
             ],
             [
              0.6666666666666666,
              "#ed7953"
             ],
             [
              0.7777777777777778,
              "#fb9f3a"
             ],
             [
              0.8888888888888888,
              "#fdca26"
             ],
             [
              1,
              "#f0f921"
             ]
            ],
            "type": "contour"
           }
          ],
          "contourcarpet": [
           {
            "colorbar": {
             "outlinewidth": 0,
             "ticks": ""
            },
            "type": "contourcarpet"
           }
          ],
          "heatmap": [
           {
            "colorbar": {
             "outlinewidth": 0,
             "ticks": ""
            },
            "colorscale": [
             [
              0,
              "#0d0887"
             ],
             [
              0.1111111111111111,
              "#46039f"
             ],
             [
              0.2222222222222222,
              "#7201a8"
             ],
             [
              0.3333333333333333,
              "#9c179e"
             ],
             [
              0.4444444444444444,
              "#bd3786"
             ],
             [
              0.5555555555555556,
              "#d8576b"
             ],
             [
              0.6666666666666666,
              "#ed7953"
             ],
             [
              0.7777777777777778,
              "#fb9f3a"
             ],
             [
              0.8888888888888888,
              "#fdca26"
             ],
             [
              1,
              "#f0f921"
             ]
            ],
            "type": "heatmap"
           }
          ],
          "heatmapgl": [
           {
            "colorbar": {
             "outlinewidth": 0,
             "ticks": ""
            },
            "colorscale": [
             [
              0,
              "#0d0887"
             ],
             [
              0.1111111111111111,
              "#46039f"
             ],
             [
              0.2222222222222222,
              "#7201a8"
             ],
             [
              0.3333333333333333,
              "#9c179e"
             ],
             [
              0.4444444444444444,
              "#bd3786"
             ],
             [
              0.5555555555555556,
              "#d8576b"
             ],
             [
              0.6666666666666666,
              "#ed7953"
             ],
             [
              0.7777777777777778,
              "#fb9f3a"
             ],
             [
              0.8888888888888888,
              "#fdca26"
             ],
             [
              1,
              "#f0f921"
             ]
            ],
            "type": "heatmapgl"
           }
          ],
          "histogram": [
           {
            "marker": {
             "pattern": {
              "fillmode": "overlay",
              "size": 10,
              "solidity": 0.2
             }
            },
            "type": "histogram"
           }
          ],
          "histogram2d": [
           {
            "colorbar": {
             "outlinewidth": 0,
             "ticks": ""
            },
            "colorscale": [
             [
              0,
              "#0d0887"
             ],
             [
              0.1111111111111111,
              "#46039f"
             ],
             [
              0.2222222222222222,
              "#7201a8"
             ],
             [
              0.3333333333333333,
              "#9c179e"
             ],
             [
              0.4444444444444444,
              "#bd3786"
             ],
             [
              0.5555555555555556,
              "#d8576b"
             ],
             [
              0.6666666666666666,
              "#ed7953"
             ],
             [
              0.7777777777777778,
              "#fb9f3a"
             ],
             [
              0.8888888888888888,
              "#fdca26"
             ],
             [
              1,
              "#f0f921"
             ]
            ],
            "type": "histogram2d"
           }
          ],
          "histogram2dcontour": [
           {
            "colorbar": {
             "outlinewidth": 0,
             "ticks": ""
            },
            "colorscale": [
             [
              0,
              "#0d0887"
             ],
             [
              0.1111111111111111,
              "#46039f"
             ],
             [
              0.2222222222222222,
              "#7201a8"
             ],
             [
              0.3333333333333333,
              "#9c179e"
             ],
             [
              0.4444444444444444,
              "#bd3786"
             ],
             [
              0.5555555555555556,
              "#d8576b"
             ],
             [
              0.6666666666666666,
              "#ed7953"
             ],
             [
              0.7777777777777778,
              "#fb9f3a"
             ],
             [
              0.8888888888888888,
              "#fdca26"
             ],
             [
              1,
              "#f0f921"
             ]
            ],
            "type": "histogram2dcontour"
           }
          ],
          "mesh3d": [
           {
            "colorbar": {
             "outlinewidth": 0,
             "ticks": ""
            },
            "type": "mesh3d"
           }
          ],
          "parcoords": [
           {
            "line": {
             "colorbar": {
              "outlinewidth": 0,
              "ticks": ""
             }
            },
            "type": "parcoords"
           }
          ],
          "pie": [
           {
            "automargin": true,
            "type": "pie"
           }
          ],
          "scatter": [
           {
            "marker": {
             "colorbar": {
              "outlinewidth": 0,
              "ticks": ""
             }
            },
            "type": "scatter"
           }
          ],
          "scatter3d": [
           {
            "line": {
             "colorbar": {
              "outlinewidth": 0,
              "ticks": ""
             }
            },
            "marker": {
             "colorbar": {
              "outlinewidth": 0,
              "ticks": ""
             }
            },
            "type": "scatter3d"
           }
          ],
          "scattercarpet": [
           {
            "marker": {
             "colorbar": {
              "outlinewidth": 0,
              "ticks": ""
             }
            },
            "type": "scattercarpet"
           }
          ],
          "scattergeo": [
           {
            "marker": {
             "colorbar": {
              "outlinewidth": 0,
              "ticks": ""
             }
            },
            "type": "scattergeo"
           }
          ],
          "scattergl": [
           {
            "marker": {
             "colorbar": {
              "outlinewidth": 0,
              "ticks": ""
             }
            },
            "type": "scattergl"
           }
          ],
          "scattermapbox": [
           {
            "marker": {
             "colorbar": {
              "outlinewidth": 0,
              "ticks": ""
             }
            },
            "type": "scattermapbox"
           }
          ],
          "scatterpolar": [
           {
            "marker": {
             "colorbar": {
              "outlinewidth": 0,
              "ticks": ""
             }
            },
            "type": "scatterpolar"
           }
          ],
          "scatterpolargl": [
           {
            "marker": {
             "colorbar": {
              "outlinewidth": 0,
              "ticks": ""
             }
            },
            "type": "scatterpolargl"
           }
          ],
          "scatterternary": [
           {
            "marker": {
             "colorbar": {
              "outlinewidth": 0,
              "ticks": ""
             }
            },
            "type": "scatterternary"
           }
          ],
          "surface": [
           {
            "colorbar": {
             "outlinewidth": 0,
             "ticks": ""
            },
            "colorscale": [
             [
              0,
              "#0d0887"
             ],
             [
              0.1111111111111111,
              "#46039f"
             ],
             [
              0.2222222222222222,
              "#7201a8"
             ],
             [
              0.3333333333333333,
              "#9c179e"
             ],
             [
              0.4444444444444444,
              "#bd3786"
             ],
             [
              0.5555555555555556,
              "#d8576b"
             ],
             [
              0.6666666666666666,
              "#ed7953"
             ],
             [
              0.7777777777777778,
              "#fb9f3a"
             ],
             [
              0.8888888888888888,
              "#fdca26"
             ],
             [
              1,
              "#f0f921"
             ]
            ],
            "type": "surface"
           }
          ],
          "table": [
           {
            "cells": {
             "fill": {
              "color": "#EBF0F8"
             },
             "line": {
              "color": "white"
             }
            },
            "header": {
             "fill": {
              "color": "#C8D4E3"
             },
             "line": {
              "color": "white"
             }
            },
            "type": "table"
           }
          ]
         },
         "layout": {
          "annotationdefaults": {
           "arrowcolor": "#2a3f5f",
           "arrowhead": 0,
           "arrowwidth": 1
          },
          "autotypenumbers": "strict",
          "coloraxis": {
           "colorbar": {
            "outlinewidth": 0,
            "ticks": ""
           }
          },
          "colorscale": {
           "diverging": [
            [
             0,
             "#8e0152"
            ],
            [
             0.1,
             "#c51b7d"
            ],
            [
             0.2,
             "#de77ae"
            ],
            [
             0.3,
             "#f1b6da"
            ],
            [
             0.4,
             "#fde0ef"
            ],
            [
             0.5,
             "#f7f7f7"
            ],
            [
             0.6,
             "#e6f5d0"
            ],
            [
             0.7,
             "#b8e186"
            ],
            [
             0.8,
             "#7fbc41"
            ],
            [
             0.9,
             "#4d9221"
            ],
            [
             1,
             "#276419"
            ]
           ],
           "sequential": [
            [
             0,
             "#0d0887"
            ],
            [
             0.1111111111111111,
             "#46039f"
            ],
            [
             0.2222222222222222,
             "#7201a8"
            ],
            [
             0.3333333333333333,
             "#9c179e"
            ],
            [
             0.4444444444444444,
             "#bd3786"
            ],
            [
             0.5555555555555556,
             "#d8576b"
            ],
            [
             0.6666666666666666,
             "#ed7953"
            ],
            [
             0.7777777777777778,
             "#fb9f3a"
            ],
            [
             0.8888888888888888,
             "#fdca26"
            ],
            [
             1,
             "#f0f921"
            ]
           ],
           "sequentialminus": [
            [
             0,
             "#0d0887"
            ],
            [
             0.1111111111111111,
             "#46039f"
            ],
            [
             0.2222222222222222,
             "#7201a8"
            ],
            [
             0.3333333333333333,
             "#9c179e"
            ],
            [
             0.4444444444444444,
             "#bd3786"
            ],
            [
             0.5555555555555556,
             "#d8576b"
            ],
            [
             0.6666666666666666,
             "#ed7953"
            ],
            [
             0.7777777777777778,
             "#fb9f3a"
            ],
            [
             0.8888888888888888,
             "#fdca26"
            ],
            [
             1,
             "#f0f921"
            ]
           ]
          },
          "colorway": [
           "#636efa",
           "#EF553B",
           "#00cc96",
           "#ab63fa",
           "#FFA15A",
           "#19d3f3",
           "#FF6692",
           "#B6E880",
           "#FF97FF",
           "#FECB52"
          ],
          "font": {
           "color": "#2a3f5f"
          },
          "geo": {
           "bgcolor": "white",
           "lakecolor": "white",
           "landcolor": "#E5ECF6",
           "showlakes": true,
           "showland": true,
           "subunitcolor": "white"
          },
          "hoverlabel": {
           "align": "left"
          },
          "hovermode": "closest",
          "mapbox": {
           "style": "light"
          },
          "paper_bgcolor": "white",
          "plot_bgcolor": "#E5ECF6",
          "polar": {
           "angularaxis": {
            "gridcolor": "white",
            "linecolor": "white",
            "ticks": ""
           },
           "bgcolor": "#E5ECF6",
           "radialaxis": {
            "gridcolor": "white",
            "linecolor": "white",
            "ticks": ""
           }
          },
          "scene": {
           "xaxis": {
            "backgroundcolor": "#E5ECF6",
            "gridcolor": "white",
            "gridwidth": 2,
            "linecolor": "white",
            "showbackground": true,
            "ticks": "",
            "zerolinecolor": "white"
           },
           "yaxis": {
            "backgroundcolor": "#E5ECF6",
            "gridcolor": "white",
            "gridwidth": 2,
            "linecolor": "white",
            "showbackground": true,
            "ticks": "",
            "zerolinecolor": "white"
           },
           "zaxis": {
            "backgroundcolor": "#E5ECF6",
            "gridcolor": "white",
            "gridwidth": 2,
            "linecolor": "white",
            "showbackground": true,
            "ticks": "",
            "zerolinecolor": "white"
           }
          },
          "shapedefaults": {
           "line": {
            "color": "#2a3f5f"
           }
          },
          "ternary": {
           "aaxis": {
            "gridcolor": "white",
            "linecolor": "white",
            "ticks": ""
           },
           "baxis": {
            "gridcolor": "white",
            "linecolor": "white",
            "ticks": ""
           },
           "bgcolor": "#E5ECF6",
           "caxis": {
            "gridcolor": "white",
            "linecolor": "white",
            "ticks": ""
           }
          },
          "title": {
           "x": 0.05
          },
          "xaxis": {
           "automargin": true,
           "gridcolor": "white",
           "linecolor": "white",
           "ticks": "",
           "title": {
            "standoff": 15
           },
           "zerolinecolor": "white",
           "zerolinewidth": 2
          },
          "yaxis": {
           "automargin": true,
           "gridcolor": "white",
           "linecolor": "white",
           "ticks": "",
           "title": {
            "standoff": 15
           },
           "zerolinecolor": "white",
           "zerolinewidth": 2
          }
         }
        },
        "ternary": {
         "aaxis": {
          "title": {
           "text": "red"
          }
         },
         "baxis": {
          "title": {
           "text": "green"
          }
         },
         "caxis": {
          "title": {
           "text": "blue"
          }
         },
         "domain": {
          "x": [
           0,
           1
          ],
          "y": [
           0,
           1
          ]
         }
        }
       }
      }
     },
     "metadata": {},
     "output_type": "display_data"
    }
   ],
   "source": [
    "print(\"Theoretical colors of filters \\n\\n\")\n",
    "print(\"Full filter set\")\n",
    "showTriplot(theory_rgb)\n",
    "print(\"Bright colored filters only\")\n",
    "showTriplot(bright_theory)\n",
    "\n"
   ]
  },
  {
   "cell_type": "code",
   "execution_count": 206,
   "id": "9f357151",
   "metadata": {},
   "outputs": [],
   "source": [
    "#From given 0-255 rgb values for filters computes euclidian coordinates in terenary diagram\n",
    "def euclidianCords(rgbData:dict):\n",
    "    npcolors =np.array([ [val for (k,val) in value.items()] for (key,value) in rgbData.items()])\n",
    "    npkeys = np.array(list(rgbData.keys()))\n",
    "    sums = np.sum(npcolors,1)\n",
    "    normalized_rgb = npcolors/sums.reshape(sums.size,1)\n",
    "    #print(npkeys.size)\n",
    "    result={}\n",
    "    for i in range(0,npkeys.size):\n",
    "        #print(normalized_rgb[i])\n",
    "        red = normalized_rgb[i][0]\n",
    "        green = normalized_rgb[i][1]\n",
    "        x = 1 - ((red + 2*green)/math.sqrt(3))\n",
    "        y = red\n",
    "        result[npkeys[i]] = [x,y]\n",
    "    return result"
   ]
  },
  {
   "cell_type": "code",
   "execution_count": 207,
   "id": "c7488db1",
   "metadata": {},
   "outputs": [],
   "source": [
    "def getTriangle():\n",
    "    return Polygon([[0,0],[0.5,math.sqrt(3)/2],[1,0]])"
   ]
  },
  {
   "cell_type": "code",
   "execution_count": 208,
   "id": "d85f1100",
   "metadata": {},
   "outputs": [],
   "source": [
    "def voronoi_volumes(points,maskCode,buffer):\n",
    "    pointSet = MultiPoint(points)\n",
    "    v = voronoi_diagram(pointSet)\n",
    "    mask = getTriangle()\n",
    "    if maskCode == BUFFER_CODE:\n",
    "        mask = pointSet.envelope.buffer(buffer)\n",
    "    vol = np.zeros(len(points))\n",
    "    for polygon in v.geoms:\n",
    "        polygon = polygon.intersection(mask)\n",
    "        for i,point in enumerate(points):\n",
    "            if polygon.intersects(Point(point)):\n",
    "                vol[i] = polygon.area\n",
    "    return vol\n"
   ]
  },
  {
   "cell_type": "code",
   "execution_count": 209,
   "id": "6606d6f2",
   "metadata": {},
   "outputs": [],
   "source": [
    "\n",
    "def selectSpread(data,mask = TRIANGLE_CODE,buffer=0):\n",
    "    cords = euclidianCords(data)\n",
    "    selection = dict(data)\n",
    "    while len(cords) > SELECTION_COUNT : \n",
    "        vol = voronoi_volumes(list(cords.values()),mask,buffer)\n",
    "        vol = dict(zip(cords.keys(),vol))\n",
    "        minimal = min(vol,key=vol.get)\n",
    "        del cords[minimal]\n",
    "        del selection[minimal]\n",
    "    return selection"
   ]
  },
  {
   "cell_type": "code",
   "execution_count": 210,
   "id": "950d471b",
   "metadata": {},
   "outputs": [],
   "source": [
    "def showSelection(data, mask = TRIANGLE_CODE, buffer = 0):\n",
    "    selection = selectSpread(data, mask, buffer)\n",
    "    print(f\"Selection of filters using {mask} mask and {buffer} padding\")\n",
    "    showTriplot(selection)\n",
    "    print(\"Labels of selected filters\")\n",
    "    print(selection.keys())\n"
   ]
  },
  {
   "cell_type": "code",
   "execution_count": 211,
   "id": "c5f5d1ab",
   "metadata": {},
   "outputs": [
    {
     "name": "stdout",
     "output_type": "stream",
     "text": [
      "Selection of filters using triangle mask and 0 padding\n"
     ]
    },
    {
     "data": {
      "application/vnd.plotly.v1+json": {
       "config": {
        "plotlyServerURL": "https://plot.ly"
       },
       "data": [
        {
         "a": [
          161.27175195802275
         ],
         "b": [
          59.268496452965174
         ],
         "c": [
          96.98691912104822
         ],
         "hovertemplate": "index=002<br>red=%{a}<br>green=%{b}<br>blue=%{c}<extra></extra>",
         "legendgroup": "002",
         "marker": {
          "color": "rgb(161.27175195802275,59.268496452965174,96.98691912104822)",
          "symbol": "circle"
         },
         "mode": "markers",
         "name": "002",
         "showlegend": true,
         "subplot": "ternary",
         "type": "scatterternary"
        },
        {
         "a": [
          189.26068149081442
         ],
         "b": [
          125.7996689847513
         ],
         "c": [
          64.87544921960624
         ],
         "hovertemplate": "index=009<br>red=%{a}<br>green=%{b}<br>blue=%{c}<extra></extra>",
         "legendgroup": "009",
         "marker": {
          "color": "rgb(189.26068149081442,125.7996689847513,64.87544921960624)",
          "symbol": "circle"
         },
         "mode": "markers",
         "name": "009",
         "showlegend": true,
         "subplot": "ternary",
         "type": "scatterternary"
        },
        {
         "a": [
          165.71596996226162
         ],
         "b": [
          68.53914673438474
         ],
         "c": [
          71.58101780776697
         ],
         "hovertemplate": "index=036<br>red=%{a}<br>green=%{b}<br>blue=%{c}<extra></extra>",
         "legendgroup": "036",
         "marker": {
          "color": "rgb(165.71596996226162,68.53914673438474,71.58101780776697)",
          "symbol": "circle"
         },
         "mode": "markers",
         "name": "036",
         "showlegend": true,
         "subplot": "ternary",
         "type": "scatterternary"
        },
        {
         "a": [
          180.29977484554496
         ],
         "b": [
          75.10755808476728
         ],
         "c": [
          59.04043194079546
         ],
         "hovertemplate": "index=107<br>red=%{a}<br>green=%{b}<br>blue=%{c}<extra></extra>",
         "legendgroup": "107",
         "marker": {
          "color": "rgb(180.29977484554496,75.10755808476728,59.04043194079546)",
          "symbol": "circle"
         },
         "mode": "markers",
         "name": "107",
         "showlegend": true,
         "subplot": "ternary",
         "type": "scatterternary"
        },
        {
         "a": [
          37.864805227223535
         ],
         "b": [
          109.2832114704161
         ],
         "c": [
          167.80102735354353
         ],
         "hovertemplate": "index=117<br>red=%{a}<br>green=%{b}<br>blue=%{c}<extra></extra>",
         "legendgroup": "117",
         "marker": {
          "color": "rgb(37.864805227223535,109.2832114704161,167.80102735354353)",
          "symbol": "circle"
         },
         "mode": "markers",
         "name": "117",
         "showlegend": true,
         "subplot": "ternary",
         "type": "scatterternary"
        },
        {
         "a": [
          85.73638099210865
         ],
         "b": [
          142.95969570339238
         ],
         "c": [
          72.20361792112034
         ],
         "hovertemplate": "index=138<br>red=%{a}<br>green=%{b}<br>blue=%{c}<extra></extra>",
         "legendgroup": "138",
         "marker": {
          "color": "rgb(85.73638099210865,142.95969570339238,72.20361792112034)",
          "symbol": "circle"
         },
         "mode": "markers",
         "name": "138",
         "showlegend": true,
         "subplot": "ternary",
         "type": "scatterternary"
        },
        {
         "a": [
          136.39502479493035
         ],
         "b": [
          107.10122767135348
         ],
         "c": [
          137.9165874779318
         ],
         "hovertemplate": "index=169<br>red=%{a}<br>green=%{b}<br>blue=%{c}<extra></extra>",
         "legendgroup": "169",
         "marker": {
          "color": "rgb(136.39502479493035,107.10122767135348,137.9165874779318)",
          "symbol": "circle"
         },
         "mode": "markers",
         "name": "169",
         "showlegend": true,
         "subplot": "ternary",
         "type": "scatterternary"
        },
        {
         "a": [
          183.12404700603884
         ],
         "b": [
          76.83762765683063
         ],
         "c": [
          45.442671251578105
         ],
         "hovertemplate": "index=176<br>red=%{a}<br>green=%{b}<br>blue=%{c}<extra></extra>",
         "legendgroup": "176",
         "marker": {
          "color": "rgb(183.12404700603884,76.83762765683063,45.442671251578105)",
          "symbol": "circle"
         },
         "mode": "markers",
         "name": "176",
         "showlegend": true,
         "subplot": "ternary",
         "type": "scatterternary"
        },
        {
         "a": [
          109.03233923792595
         ],
         "b": [
          163.93353274491375
         ],
         "c": [
          122.38800368648899
         ],
         "hovertemplate": "index=213<br>red=%{a}<br>green=%{b}<br>blue=%{c}<extra></extra>",
         "legendgroup": "213",
         "marker": {
          "color": "rgb(109.03233923792595,163.93353274491375,122.38800368648899)",
          "symbol": "circle"
         },
         "mode": "markers",
         "name": "213",
         "showlegend": true,
         "subplot": "ternary",
         "type": "scatterternary"
        },
        {
         "a": [
          202.25435337164248
         ],
         "b": [
          194.26748737553115
         ],
         "c": [
          83.73094904533153
         ],
         "hovertemplate": "index=513<br>red=%{a}<br>green=%{b}<br>blue=%{c}<extra></extra>",
         "legendgroup": "513",
         "marker": {
          "color": "rgb(202.25435337164248,194.26748737553115,83.73094904533153)",
          "symbol": "circle"
         },
         "mode": "markers",
         "name": "513",
         "showlegend": true,
         "subplot": "ternary",
         "type": "scatterternary"
        },
        {
         "a": [
          104.95113359070075
         ],
         "b": [
          67.34467546561552
         ],
         "c": [
          129.6296095767414
         ],
         "hovertemplate": "index=704<br>red=%{a}<br>green=%{b}<br>blue=%{c}<extra></extra>",
         "legendgroup": "704",
         "marker": {
          "color": "rgb(104.95113359070075,67.34467546561552,129.6296095767414)",
          "symbol": "circle"
         },
         "mode": "markers",
         "name": "704",
         "showlegend": true,
         "subplot": "ternary",
         "type": "scatterternary"
        },
        {
         "a": [
          70.6644824226071
         ],
         "b": [
          122.21095696498818
         ],
         "c": [
          118.04511683414661
         ],
         "hovertemplate": "index=730<br>red=%{a}<br>green=%{b}<br>blue=%{c}<extra></extra>",
         "legendgroup": "730",
         "marker": {
          "color": "rgb(70.6644824226071,122.21095696498818,118.04511683414661)",
          "symbol": "circle"
         },
         "mode": "markers",
         "name": "730",
         "showlegend": true,
         "subplot": "ternary",
         "type": "scatterternary"
        },
        {
         "a": [
          53.38785006963183
         ],
         "b": [
          120.20130470054826
         ],
         "c": [
          139.99596739053152
         ],
         "hovertemplate": "index=SC30<br>red=%{a}<br>green=%{b}<br>blue=%{c}<extra></extra>",
         "legendgroup": "SC30",
         "marker": {
          "color": "rgb(53.38785006963183,120.20130470054826,139.99596739053152)",
          "symbol": "circle"
         },
         "mode": "markers",
         "name": "SC30",
         "showlegend": true,
         "subplot": "ternary",
         "type": "scatterternary"
        },
        {
         "a": [
          121.48089710744038
         ],
         "b": [
          119.8419705545314
         ],
         "c": [
          87.89676680156018
         ],
         "hovertemplate": "index=809<br>red=%{a}<br>green=%{b}<br>blue=%{c}<extra></extra>",
         "legendgroup": "809",
         "marker": {
          "color": "rgb(121.48089710744038,119.8419705545314,87.89676680156018)",
          "symbol": "circle"
         },
         "mode": "markers",
         "name": "809",
         "showlegend": true,
         "subplot": "ternary",
         "type": "scatterternary"
        },
        {
         "a": [
          69.88669506704137
         ],
         "b": [
          98.33984728981324
         ],
         "c": [
          166.99511926755028
         ],
         "hovertemplate": "index=B71<br>red=%{a}<br>green=%{b}<br>blue=%{c}<extra></extra>",
         "legendgroup": "B71",
         "marker": {
          "color": "rgb(69.88669506704137,98.33984728981324,166.99511926755028)",
          "symbol": "circle"
         },
         "mode": "markers",
         "name": "B71",
         "showlegend": true,
         "subplot": "ternary",
         "type": "scatterternary"
        },
        {
         "a": [
          21.473893423885894
         ],
         "b": [
          145.37880448149284
         ],
         "c": [
          199.00629791370986
         ],
         "hovertemplate": "index=C45<br>red=%{a}<br>green=%{b}<br>blue=%{c}<extra></extra>",
         "legendgroup": "C45",
         "marker": {
          "color": "rgb(21.473893423885894,145.37880448149284,199.00629791370986)",
          "symbol": "circle"
         },
         "mode": "markers",
         "name": "C45",
         "showlegend": true,
         "subplot": "ternary",
         "type": "scatterternary"
        },
        {
         "a": [
          78.48713338360567
         ],
         "b": [
          95.00545295579266
         ],
         "c": [
          146.95623131449835
         ],
         "hovertemplate": "index=LD203<br>red=%{a}<br>green=%{b}<br>blue=%{c}<extra></extra>",
         "legendgroup": "LD203",
         "marker": {
          "color": "rgb(78.48713338360567,95.00545295579266,146.95623131449835)",
          "symbol": "circle"
         },
         "mode": "markers",
         "name": "LD203",
         "showlegend": true,
         "subplot": "ternary",
         "type": "scatterternary"
        },
        {
         "a": [
          157.26852067154758
         ],
         "b": [
          56.932836950975236
         ],
         "c": [
          98.73749729715821
         ],
         "hovertemplate": "index=M63<br>red=%{a}<br>green=%{b}<br>blue=%{c}<extra></extra>",
         "legendgroup": "M63",
         "marker": {
          "color": "rgb(157.26852067154758,56.932836950975236,98.73749729715821)",
          "symbol": "circle"
         },
         "mode": "markers",
         "name": "M63",
         "showlegend": true,
         "subplot": "ternary",
         "type": "scatterternary"
        },
        {
         "a": [
          146.66024749824706
         ],
         "b": [
          87.18400743865732
         ],
         "c": [
          102.45211149097844
         ],
         "hovertemplate": "index=M91<br>red=%{a}<br>green=%{b}<br>blue=%{c}<extra></extra>",
         "legendgroup": "M91",
         "marker": {
          "color": "rgb(146.66024749824706,87.18400743865732,102.45211149097844)",
          "symbol": "circle"
         },
         "mode": "markers",
         "name": "M91",
         "showlegend": true,
         "subplot": "ternary",
         "type": "scatterternary"
        },
        {
         "a": [
          127.21369666077545
         ],
         "b": [
          42.19271187161799
         ],
         "c": [
          132.27407573822592
         ],
         "hovertemplate": "index=V98<br>red=%{a}<br>green=%{b}<br>blue=%{c}<extra></extra>",
         "legendgroup": "V98",
         "marker": {
          "color": "rgb(127.21369666077545,42.19271187161799,132.27407573822592)",
          "symbol": "circle"
         },
         "mode": "markers",
         "name": "V98",
         "showlegend": true,
         "subplot": "ternary",
         "type": "scatterternary"
        }
       ],
       "layout": {
        "legend": {
         "title": {
          "text": "index"
         },
         "tracegroupgap": 0
        },
        "margin": {
         "t": 60
        },
        "template": {
         "data": {
          "bar": [
           {
            "error_x": {
             "color": "#2a3f5f"
            },
            "error_y": {
             "color": "#2a3f5f"
            },
            "marker": {
             "line": {
              "color": "#E5ECF6",
              "width": 0.5
             },
             "pattern": {
              "fillmode": "overlay",
              "size": 10,
              "solidity": 0.2
             }
            },
            "type": "bar"
           }
          ],
          "barpolar": [
           {
            "marker": {
             "line": {
              "color": "#E5ECF6",
              "width": 0.5
             },
             "pattern": {
              "fillmode": "overlay",
              "size": 10,
              "solidity": 0.2
             }
            },
            "type": "barpolar"
           }
          ],
          "carpet": [
           {
            "aaxis": {
             "endlinecolor": "#2a3f5f",
             "gridcolor": "white",
             "linecolor": "white",
             "minorgridcolor": "white",
             "startlinecolor": "#2a3f5f"
            },
            "baxis": {
             "endlinecolor": "#2a3f5f",
             "gridcolor": "white",
             "linecolor": "white",
             "minorgridcolor": "white",
             "startlinecolor": "#2a3f5f"
            },
            "type": "carpet"
           }
          ],
          "choropleth": [
           {
            "colorbar": {
             "outlinewidth": 0,
             "ticks": ""
            },
            "type": "choropleth"
           }
          ],
          "contour": [
           {
            "colorbar": {
             "outlinewidth": 0,
             "ticks": ""
            },
            "colorscale": [
             [
              0,
              "#0d0887"
             ],
             [
              0.1111111111111111,
              "#46039f"
             ],
             [
              0.2222222222222222,
              "#7201a8"
             ],
             [
              0.3333333333333333,
              "#9c179e"
             ],
             [
              0.4444444444444444,
              "#bd3786"
             ],
             [
              0.5555555555555556,
              "#d8576b"
             ],
             [
              0.6666666666666666,
              "#ed7953"
             ],
             [
              0.7777777777777778,
              "#fb9f3a"
             ],
             [
              0.8888888888888888,
              "#fdca26"
             ],
             [
              1,
              "#f0f921"
             ]
            ],
            "type": "contour"
           }
          ],
          "contourcarpet": [
           {
            "colorbar": {
             "outlinewidth": 0,
             "ticks": ""
            },
            "type": "contourcarpet"
           }
          ],
          "heatmap": [
           {
            "colorbar": {
             "outlinewidth": 0,
             "ticks": ""
            },
            "colorscale": [
             [
              0,
              "#0d0887"
             ],
             [
              0.1111111111111111,
              "#46039f"
             ],
             [
              0.2222222222222222,
              "#7201a8"
             ],
             [
              0.3333333333333333,
              "#9c179e"
             ],
             [
              0.4444444444444444,
              "#bd3786"
             ],
             [
              0.5555555555555556,
              "#d8576b"
             ],
             [
              0.6666666666666666,
              "#ed7953"
             ],
             [
              0.7777777777777778,
              "#fb9f3a"
             ],
             [
              0.8888888888888888,
              "#fdca26"
             ],
             [
              1,
              "#f0f921"
             ]
            ],
            "type": "heatmap"
           }
          ],
          "heatmapgl": [
           {
            "colorbar": {
             "outlinewidth": 0,
             "ticks": ""
            },
            "colorscale": [
             [
              0,
              "#0d0887"
             ],
             [
              0.1111111111111111,
              "#46039f"
             ],
             [
              0.2222222222222222,
              "#7201a8"
             ],
             [
              0.3333333333333333,
              "#9c179e"
             ],
             [
              0.4444444444444444,
              "#bd3786"
             ],
             [
              0.5555555555555556,
              "#d8576b"
             ],
             [
              0.6666666666666666,
              "#ed7953"
             ],
             [
              0.7777777777777778,
              "#fb9f3a"
             ],
             [
              0.8888888888888888,
              "#fdca26"
             ],
             [
              1,
              "#f0f921"
             ]
            ],
            "type": "heatmapgl"
           }
          ],
          "histogram": [
           {
            "marker": {
             "pattern": {
              "fillmode": "overlay",
              "size": 10,
              "solidity": 0.2
             }
            },
            "type": "histogram"
           }
          ],
          "histogram2d": [
           {
            "colorbar": {
             "outlinewidth": 0,
             "ticks": ""
            },
            "colorscale": [
             [
              0,
              "#0d0887"
             ],
             [
              0.1111111111111111,
              "#46039f"
             ],
             [
              0.2222222222222222,
              "#7201a8"
             ],
             [
              0.3333333333333333,
              "#9c179e"
             ],
             [
              0.4444444444444444,
              "#bd3786"
             ],
             [
              0.5555555555555556,
              "#d8576b"
             ],
             [
              0.6666666666666666,
              "#ed7953"
             ],
             [
              0.7777777777777778,
              "#fb9f3a"
             ],
             [
              0.8888888888888888,
              "#fdca26"
             ],
             [
              1,
              "#f0f921"
             ]
            ],
            "type": "histogram2d"
           }
          ],
          "histogram2dcontour": [
           {
            "colorbar": {
             "outlinewidth": 0,
             "ticks": ""
            },
            "colorscale": [
             [
              0,
              "#0d0887"
             ],
             [
              0.1111111111111111,
              "#46039f"
             ],
             [
              0.2222222222222222,
              "#7201a8"
             ],
             [
              0.3333333333333333,
              "#9c179e"
             ],
             [
              0.4444444444444444,
              "#bd3786"
             ],
             [
              0.5555555555555556,
              "#d8576b"
             ],
             [
              0.6666666666666666,
              "#ed7953"
             ],
             [
              0.7777777777777778,
              "#fb9f3a"
             ],
             [
              0.8888888888888888,
              "#fdca26"
             ],
             [
              1,
              "#f0f921"
             ]
            ],
            "type": "histogram2dcontour"
           }
          ],
          "mesh3d": [
           {
            "colorbar": {
             "outlinewidth": 0,
             "ticks": ""
            },
            "type": "mesh3d"
           }
          ],
          "parcoords": [
           {
            "line": {
             "colorbar": {
              "outlinewidth": 0,
              "ticks": ""
             }
            },
            "type": "parcoords"
           }
          ],
          "pie": [
           {
            "automargin": true,
            "type": "pie"
           }
          ],
          "scatter": [
           {
            "marker": {
             "colorbar": {
              "outlinewidth": 0,
              "ticks": ""
             }
            },
            "type": "scatter"
           }
          ],
          "scatter3d": [
           {
            "line": {
             "colorbar": {
              "outlinewidth": 0,
              "ticks": ""
             }
            },
            "marker": {
             "colorbar": {
              "outlinewidth": 0,
              "ticks": ""
             }
            },
            "type": "scatter3d"
           }
          ],
          "scattercarpet": [
           {
            "marker": {
             "colorbar": {
              "outlinewidth": 0,
              "ticks": ""
             }
            },
            "type": "scattercarpet"
           }
          ],
          "scattergeo": [
           {
            "marker": {
             "colorbar": {
              "outlinewidth": 0,
              "ticks": ""
             }
            },
            "type": "scattergeo"
           }
          ],
          "scattergl": [
           {
            "marker": {
             "colorbar": {
              "outlinewidth": 0,
              "ticks": ""
             }
            },
            "type": "scattergl"
           }
          ],
          "scattermapbox": [
           {
            "marker": {
             "colorbar": {
              "outlinewidth": 0,
              "ticks": ""
             }
            },
            "type": "scattermapbox"
           }
          ],
          "scatterpolar": [
           {
            "marker": {
             "colorbar": {
              "outlinewidth": 0,
              "ticks": ""
             }
            },
            "type": "scatterpolar"
           }
          ],
          "scatterpolargl": [
           {
            "marker": {
             "colorbar": {
              "outlinewidth": 0,
              "ticks": ""
             }
            },
            "type": "scatterpolargl"
           }
          ],
          "scatterternary": [
           {
            "marker": {
             "colorbar": {
              "outlinewidth": 0,
              "ticks": ""
             }
            },
            "type": "scatterternary"
           }
          ],
          "surface": [
           {
            "colorbar": {
             "outlinewidth": 0,
             "ticks": ""
            },
            "colorscale": [
             [
              0,
              "#0d0887"
             ],
             [
              0.1111111111111111,
              "#46039f"
             ],
             [
              0.2222222222222222,
              "#7201a8"
             ],
             [
              0.3333333333333333,
              "#9c179e"
             ],
             [
              0.4444444444444444,
              "#bd3786"
             ],
             [
              0.5555555555555556,
              "#d8576b"
             ],
             [
              0.6666666666666666,
              "#ed7953"
             ],
             [
              0.7777777777777778,
              "#fb9f3a"
             ],
             [
              0.8888888888888888,
              "#fdca26"
             ],
             [
              1,
              "#f0f921"
             ]
            ],
            "type": "surface"
           }
          ],
          "table": [
           {
            "cells": {
             "fill": {
              "color": "#EBF0F8"
             },
             "line": {
              "color": "white"
             }
            },
            "header": {
             "fill": {
              "color": "#C8D4E3"
             },
             "line": {
              "color": "white"
             }
            },
            "type": "table"
           }
          ]
         },
         "layout": {
          "annotationdefaults": {
           "arrowcolor": "#2a3f5f",
           "arrowhead": 0,
           "arrowwidth": 1
          },
          "autotypenumbers": "strict",
          "coloraxis": {
           "colorbar": {
            "outlinewidth": 0,
            "ticks": ""
           }
          },
          "colorscale": {
           "diverging": [
            [
             0,
             "#8e0152"
            ],
            [
             0.1,
             "#c51b7d"
            ],
            [
             0.2,
             "#de77ae"
            ],
            [
             0.3,
             "#f1b6da"
            ],
            [
             0.4,
             "#fde0ef"
            ],
            [
             0.5,
             "#f7f7f7"
            ],
            [
             0.6,
             "#e6f5d0"
            ],
            [
             0.7,
             "#b8e186"
            ],
            [
             0.8,
             "#7fbc41"
            ],
            [
             0.9,
             "#4d9221"
            ],
            [
             1,
             "#276419"
            ]
           ],
           "sequential": [
            [
             0,
             "#0d0887"
            ],
            [
             0.1111111111111111,
             "#46039f"
            ],
            [
             0.2222222222222222,
             "#7201a8"
            ],
            [
             0.3333333333333333,
             "#9c179e"
            ],
            [
             0.4444444444444444,
             "#bd3786"
            ],
            [
             0.5555555555555556,
             "#d8576b"
            ],
            [
             0.6666666666666666,
             "#ed7953"
            ],
            [
             0.7777777777777778,
             "#fb9f3a"
            ],
            [
             0.8888888888888888,
             "#fdca26"
            ],
            [
             1,
             "#f0f921"
            ]
           ],
           "sequentialminus": [
            [
             0,
             "#0d0887"
            ],
            [
             0.1111111111111111,
             "#46039f"
            ],
            [
             0.2222222222222222,
             "#7201a8"
            ],
            [
             0.3333333333333333,
             "#9c179e"
            ],
            [
             0.4444444444444444,
             "#bd3786"
            ],
            [
             0.5555555555555556,
             "#d8576b"
            ],
            [
             0.6666666666666666,
             "#ed7953"
            ],
            [
             0.7777777777777778,
             "#fb9f3a"
            ],
            [
             0.8888888888888888,
             "#fdca26"
            ],
            [
             1,
             "#f0f921"
            ]
           ]
          },
          "colorway": [
           "#636efa",
           "#EF553B",
           "#00cc96",
           "#ab63fa",
           "#FFA15A",
           "#19d3f3",
           "#FF6692",
           "#B6E880",
           "#FF97FF",
           "#FECB52"
          ],
          "font": {
           "color": "#2a3f5f"
          },
          "geo": {
           "bgcolor": "white",
           "lakecolor": "white",
           "landcolor": "#E5ECF6",
           "showlakes": true,
           "showland": true,
           "subunitcolor": "white"
          },
          "hoverlabel": {
           "align": "left"
          },
          "hovermode": "closest",
          "mapbox": {
           "style": "light"
          },
          "paper_bgcolor": "white",
          "plot_bgcolor": "#E5ECF6",
          "polar": {
           "angularaxis": {
            "gridcolor": "white",
            "linecolor": "white",
            "ticks": ""
           },
           "bgcolor": "#E5ECF6",
           "radialaxis": {
            "gridcolor": "white",
            "linecolor": "white",
            "ticks": ""
           }
          },
          "scene": {
           "xaxis": {
            "backgroundcolor": "#E5ECF6",
            "gridcolor": "white",
            "gridwidth": 2,
            "linecolor": "white",
            "showbackground": true,
            "ticks": "",
            "zerolinecolor": "white"
           },
           "yaxis": {
            "backgroundcolor": "#E5ECF6",
            "gridcolor": "white",
            "gridwidth": 2,
            "linecolor": "white",
            "showbackground": true,
            "ticks": "",
            "zerolinecolor": "white"
           },
           "zaxis": {
            "backgroundcolor": "#E5ECF6",
            "gridcolor": "white",
            "gridwidth": 2,
            "linecolor": "white",
            "showbackground": true,
            "ticks": "",
            "zerolinecolor": "white"
           }
          },
          "shapedefaults": {
           "line": {
            "color": "#2a3f5f"
           }
          },
          "ternary": {
           "aaxis": {
            "gridcolor": "white",
            "linecolor": "white",
            "ticks": ""
           },
           "baxis": {
            "gridcolor": "white",
            "linecolor": "white",
            "ticks": ""
           },
           "bgcolor": "#E5ECF6",
           "caxis": {
            "gridcolor": "white",
            "linecolor": "white",
            "ticks": ""
           }
          },
          "title": {
           "x": 0.05
          },
          "xaxis": {
           "automargin": true,
           "gridcolor": "white",
           "linecolor": "white",
           "ticks": "",
           "title": {
            "standoff": 15
           },
           "zerolinecolor": "white",
           "zerolinewidth": 2
          },
          "yaxis": {
           "automargin": true,
           "gridcolor": "white",
           "linecolor": "white",
           "ticks": "",
           "title": {
            "standoff": 15
           },
           "zerolinecolor": "white",
           "zerolinewidth": 2
          }
         }
        },
        "ternary": {
         "aaxis": {
          "title": {
           "text": "red"
          }
         },
         "baxis": {
          "title": {
           "text": "green"
          }
         },
         "caxis": {
          "title": {
           "text": "blue"
          }
         },
         "domain": {
          "x": [
           0,
           1
          ],
          "y": [
           0,
           1
          ]
         }
        }
       }
      }
     },
     "metadata": {},
     "output_type": "display_data"
    },
    {
     "name": "stdout",
     "output_type": "stream",
     "text": [
      "Labels of selected filters\n",
      "dict_keys(['002', '009', '036', '107', '117', '138', '169', '176', '213', '513', '704', '730', 'SC30', '809', 'B71', 'C45', 'LD203', 'M63', 'M91', 'V98'])\n",
      "\n",
      "\n",
      "Selection of filters using buffer mask and 0 padding\n"
     ]
    },
    {
     "data": {
      "application/vnd.plotly.v1+json": {
       "config": {
        "plotlyServerURL": "https://plot.ly"
       },
       "data": [
        {
         "a": [
          199.58520808545936
         ],
         "b": [
          182.7164755865565
         ],
         "c": [
          113.78259465961591
         ],
         "hovertemplate": "index=007<br>red=%{a}<br>green=%{b}<br>blue=%{c}<extra></extra>",
         "legendgroup": "007",
         "marker": {
          "color": "rgb(199.58520808545936,182.7164755865565,113.78259465961591)",
          "symbol": "circle"
         },
         "mode": "markers",
         "name": "007",
         "showlegend": true,
         "subplot": "ternary",
         "type": "scatterternary"
        },
        {
         "a": [
          37.864805227223535
         ],
         "b": [
          109.2832114704161
         ],
         "c": [
          167.80102735354353
         ],
         "hovertemplate": "index=117<br>red=%{a}<br>green=%{b}<br>blue=%{c}<extra></extra>",
         "legendgroup": "117",
         "marker": {
          "color": "rgb(37.864805227223535,109.2832114704161,167.80102735354353)",
          "symbol": "circle"
         },
         "mode": "markers",
         "name": "117",
         "showlegend": true,
         "subplot": "ternary",
         "type": "scatterternary"
        },
        {
         "a": [
          197.47199999999998
         ],
         "b": [
          197.47199999999998
         ],
         "c": [
          197.47199999999998
         ],
         "hovertemplate": "index=130<br>red=%{a}<br>green=%{b}<br>blue=%{c}<extra></extra>",
         "legendgroup": "130",
         "marker": {
          "color": "rgb(197.47199999999998,197.47199999999998,197.47199999999998)",
          "symbol": "circle"
         },
         "mode": "markers",
         "name": "130",
         "showlegend": true,
         "subplot": "ternary",
         "type": "scatterternary"
        },
        {
         "a": [
          85.73638099210865
         ],
         "b": [
          142.95969570339238
         ],
         "c": [
          72.20361792112034
         ],
         "hovertemplate": "index=138<br>red=%{a}<br>green=%{b}<br>blue=%{c}<extra></extra>",
         "legendgroup": "138",
         "marker": {
          "color": "rgb(85.73638099210865,142.95969570339238,72.20361792112034)",
          "symbol": "circle"
         },
         "mode": "markers",
         "name": "138",
         "showlegend": true,
         "subplot": "ternary",
         "type": "scatterternary"
        },
        {
         "a": [
          178.91367981867663
         ],
         "b": [
          131.91674932517293
         ],
         "c": [
          98.23006928896258
         ],
         "hovertemplate": "index=162<br>red=%{a}<br>green=%{b}<br>blue=%{c}<extra></extra>",
         "legendgroup": "162",
         "marker": {
          "color": "rgb(178.91367981867663,131.91674932517293,98.23006928896258)",
          "symbol": "circle"
         },
         "mode": "markers",
         "name": "162",
         "showlegend": true,
         "subplot": "ternary",
         "type": "scatterternary"
        },
        {
         "a": [
          136.39502479493035
         ],
         "b": [
          107.10122767135348
         ],
         "c": [
          137.9165874779318
         ],
         "hovertemplate": "index=169<br>red=%{a}<br>green=%{b}<br>blue=%{c}<extra></extra>",
         "legendgroup": "169",
         "marker": {
          "color": "rgb(136.39502479493035,107.10122767135348,137.9165874779318)",
          "symbol": "circle"
         },
         "mode": "markers",
         "name": "169",
         "showlegend": true,
         "subplot": "ternary",
         "type": "scatterternary"
        },
        {
         "a": [
          104.00291945257156
         ],
         "b": [
          137.67197696460963
         ],
         "c": [
          173.74753192699987
         ],
         "hovertemplate": "index=203<br>red=%{a}<br>green=%{b}<br>blue=%{c}<extra></extra>",
         "legendgroup": "203",
         "marker": {
          "color": "rgb(104.00291945257156,137.67197696460963,173.74753192699987)",
          "symbol": "circle"
         },
         "mode": "markers",
         "name": "203",
         "showlegend": true,
         "subplot": "ternary",
         "type": "scatterternary"
        },
        {
         "a": [
          109.03233923792595
         ],
         "b": [
          163.93353274491375
         ],
         "c": [
          122.38800368648899
         ],
         "hovertemplate": "index=213<br>red=%{a}<br>green=%{b}<br>blue=%{c}<extra></extra>",
         "legendgroup": "213",
         "marker": {
          "color": "rgb(109.03233923792595,163.93353274491375,122.38800368648899)",
          "symbol": "circle"
         },
         "mode": "markers",
         "name": "213",
         "showlegend": true,
         "subplot": "ternary",
         "type": "scatterternary"
        },
        {
         "a": [
          133.88617754018338
         ],
         "b": [
          165.21169859696172
         ],
         "c": [
          118.36764686526223
         ],
         "hovertemplate": "index=245<br>red=%{a}<br>green=%{b}<br>blue=%{c}<extra></extra>",
         "legendgroup": "245",
         "marker": {
          "color": "rgb(133.88617754018338,165.21169859696172,118.36764686526223)",
          "symbol": "circle"
         },
         "mode": "markers",
         "name": "245",
         "showlegend": true,
         "subplot": "ternary",
         "type": "scatterternary"
        },
        {
         "a": [
          114.69959048656635
         ],
         "b": [
          96.4398629221236
         ],
         "c": [
          140.44352807010097
         ],
         "hovertemplate": "index=702<br>red=%{a}<br>green=%{b}<br>blue=%{c}<extra></extra>",
         "legendgroup": "702",
         "marker": {
          "color": "rgb(114.69959048656635,96.4398629221236,140.44352807010097)",
          "symbol": "circle"
         },
         "mode": "markers",
         "name": "702",
         "showlegend": true,
         "subplot": "ternary",
         "type": "scatterternary"
        },
        {
         "a": [
          104.95113359070075
         ],
         "b": [
          67.34467546561552
         ],
         "c": [
          129.6296095767414
         ],
         "hovertemplate": "index=704<br>red=%{a}<br>green=%{b}<br>blue=%{c}<extra></extra>",
         "legendgroup": "704",
         "marker": {
          "color": "rgb(104.95113359070075,67.34467546561552,129.6296095767414)",
          "symbol": "circle"
         },
         "mode": "markers",
         "name": "704",
         "showlegend": true,
         "subplot": "ternary",
         "type": "scatterternary"
        },
        {
         "a": [
          70.6644824226071
         ],
         "b": [
          122.21095696498818
         ],
         "c": [
          118.04511683414661
         ],
         "hovertemplate": "index=730<br>red=%{a}<br>green=%{b}<br>blue=%{c}<extra></extra>",
         "legendgroup": "730",
         "marker": {
          "color": "rgb(70.6644824226071,122.21095696498818,118.04511683414661)",
          "symbol": "circle"
         },
         "mode": "markers",
         "name": "730",
         "showlegend": true,
         "subplot": "ternary",
         "type": "scatterternary"
        },
        {
         "a": [
          53.38785006963183
         ],
         "b": [
          120.20130470054826
         ],
         "c": [
          139.99596739053152
         ],
         "hovertemplate": "index=SC30<br>red=%{a}<br>green=%{b}<br>blue=%{c}<extra></extra>",
         "legendgroup": "SC30",
         "marker": {
          "color": "rgb(53.38785006963183,120.20130470054826,139.99596739053152)",
          "symbol": "circle"
         },
         "mode": "markers",
         "name": "SC30",
         "showlegend": true,
         "subplot": "ternary",
         "type": "scatterternary"
        },
        {
         "a": [
          69.88669506704137
         ],
         "b": [
          98.33984728981324
         ],
         "c": [
          166.99511926755028
         ],
         "hovertemplate": "index=B71<br>red=%{a}<br>green=%{b}<br>blue=%{c}<extra></extra>",
         "legendgroup": "B71",
         "marker": {
          "color": "rgb(69.88669506704137,98.33984728981324,166.99511926755028)",
          "symbol": "circle"
         },
         "mode": "markers",
         "name": "B71",
         "showlegend": true,
         "subplot": "ternary",
         "type": "scatterternary"
        },
        {
         "a": [
          21.473893423885894
         ],
         "b": [
          145.37880448149284
         ],
         "c": [
          199.00629791370986
         ],
         "hovertemplate": "index=C45<br>red=%{a}<br>green=%{b}<br>blue=%{c}<extra></extra>",
         "legendgroup": "C45",
         "marker": {
          "color": "rgb(21.473893423885894,145.37880448149284,199.00629791370986)",
          "symbol": "circle"
         },
         "mode": "markers",
         "name": "C45",
         "showlegend": true,
         "subplot": "ternary",
         "type": "scatterternary"
        },
        {
         "a": [
          78.48713338360567
         ],
         "b": [
          95.00545295579266
         ],
         "c": [
          146.95623131449835
         ],
         "hovertemplate": "index=LD203<br>red=%{a}<br>green=%{b}<br>blue=%{c}<extra></extra>",
         "legendgroup": "LD203",
         "marker": {
          "color": "rgb(78.48713338360567,95.00545295579266,146.95623131449835)",
          "symbol": "circle"
         },
         "mode": "markers",
         "name": "LD203",
         "showlegend": true,
         "subplot": "ternary",
         "type": "scatterternary"
        },
        {
         "a": [
          157.26852067154758
         ],
         "b": [
          56.932836950975236
         ],
         "c": [
          98.73749729715821
         ],
         "hovertemplate": "index=M63<br>red=%{a}<br>green=%{b}<br>blue=%{c}<extra></extra>",
         "legendgroup": "M63",
         "marker": {
          "color": "rgb(157.26852067154758,56.932836950975236,98.73749729715821)",
          "symbol": "circle"
         },
         "mode": "markers",
         "name": "M63",
         "showlegend": true,
         "subplot": "ternary",
         "type": "scatterternary"
        },
        {
         "a": [
          146.66024749824706
         ],
         "b": [
          87.18400743865732
         ],
         "c": [
          102.45211149097844
         ],
         "hovertemplate": "index=M91<br>red=%{a}<br>green=%{b}<br>blue=%{c}<extra></extra>",
         "legendgroup": "M91",
         "marker": {
          "color": "rgb(146.66024749824706,87.18400743865732,102.45211149097844)",
          "symbol": "circle"
         },
         "mode": "markers",
         "name": "M91",
         "showlegend": true,
         "subplot": "ternary",
         "type": "scatterternary"
        },
        {
         "a": [
          127.21369666077545
         ],
         "b": [
          42.19271187161799
         ],
         "c": [
          132.27407573822592
         ],
         "hovertemplate": "index=V98<br>red=%{a}<br>green=%{b}<br>blue=%{c}<extra></extra>",
         "legendgroup": "V98",
         "marker": {
          "color": "rgb(127.21369666077545,42.19271187161799,132.27407573822592)",
          "symbol": "circle"
         },
         "mode": "markers",
         "name": "V98",
         "showlegend": true,
         "subplot": "ternary",
         "type": "scatterternary"
        },
        {
         "a": [
          165.18122746026523
         ],
         "b": [
          128.5612223759718
         ],
         "c": [
          66.09916180538087
         ],
         "hovertemplate": "index=Y02<br>red=%{a}<br>green=%{b}<br>blue=%{c}<extra></extra>",
         "legendgroup": "Y02",
         "marker": {
          "color": "rgb(165.18122746026523,128.5612223759718,66.09916180538087)",
          "symbol": "circle"
         },
         "mode": "markers",
         "name": "Y02",
         "showlegend": true,
         "subplot": "ternary",
         "type": "scatterternary"
        }
       ],
       "layout": {
        "legend": {
         "title": {
          "text": "index"
         },
         "tracegroupgap": 0
        },
        "margin": {
         "t": 60
        },
        "template": {
         "data": {
          "bar": [
           {
            "error_x": {
             "color": "#2a3f5f"
            },
            "error_y": {
             "color": "#2a3f5f"
            },
            "marker": {
             "line": {
              "color": "#E5ECF6",
              "width": 0.5
             },
             "pattern": {
              "fillmode": "overlay",
              "size": 10,
              "solidity": 0.2
             }
            },
            "type": "bar"
           }
          ],
          "barpolar": [
           {
            "marker": {
             "line": {
              "color": "#E5ECF6",
              "width": 0.5
             },
             "pattern": {
              "fillmode": "overlay",
              "size": 10,
              "solidity": 0.2
             }
            },
            "type": "barpolar"
           }
          ],
          "carpet": [
           {
            "aaxis": {
             "endlinecolor": "#2a3f5f",
             "gridcolor": "white",
             "linecolor": "white",
             "minorgridcolor": "white",
             "startlinecolor": "#2a3f5f"
            },
            "baxis": {
             "endlinecolor": "#2a3f5f",
             "gridcolor": "white",
             "linecolor": "white",
             "minorgridcolor": "white",
             "startlinecolor": "#2a3f5f"
            },
            "type": "carpet"
           }
          ],
          "choropleth": [
           {
            "colorbar": {
             "outlinewidth": 0,
             "ticks": ""
            },
            "type": "choropleth"
           }
          ],
          "contour": [
           {
            "colorbar": {
             "outlinewidth": 0,
             "ticks": ""
            },
            "colorscale": [
             [
              0,
              "#0d0887"
             ],
             [
              0.1111111111111111,
              "#46039f"
             ],
             [
              0.2222222222222222,
              "#7201a8"
             ],
             [
              0.3333333333333333,
              "#9c179e"
             ],
             [
              0.4444444444444444,
              "#bd3786"
             ],
             [
              0.5555555555555556,
              "#d8576b"
             ],
             [
              0.6666666666666666,
              "#ed7953"
             ],
             [
              0.7777777777777778,
              "#fb9f3a"
             ],
             [
              0.8888888888888888,
              "#fdca26"
             ],
             [
              1,
              "#f0f921"
             ]
            ],
            "type": "contour"
           }
          ],
          "contourcarpet": [
           {
            "colorbar": {
             "outlinewidth": 0,
             "ticks": ""
            },
            "type": "contourcarpet"
           }
          ],
          "heatmap": [
           {
            "colorbar": {
             "outlinewidth": 0,
             "ticks": ""
            },
            "colorscale": [
             [
              0,
              "#0d0887"
             ],
             [
              0.1111111111111111,
              "#46039f"
             ],
             [
              0.2222222222222222,
              "#7201a8"
             ],
             [
              0.3333333333333333,
              "#9c179e"
             ],
             [
              0.4444444444444444,
              "#bd3786"
             ],
             [
              0.5555555555555556,
              "#d8576b"
             ],
             [
              0.6666666666666666,
              "#ed7953"
             ],
             [
              0.7777777777777778,
              "#fb9f3a"
             ],
             [
              0.8888888888888888,
              "#fdca26"
             ],
             [
              1,
              "#f0f921"
             ]
            ],
            "type": "heatmap"
           }
          ],
          "heatmapgl": [
           {
            "colorbar": {
             "outlinewidth": 0,
             "ticks": ""
            },
            "colorscale": [
             [
              0,
              "#0d0887"
             ],
             [
              0.1111111111111111,
              "#46039f"
             ],
             [
              0.2222222222222222,
              "#7201a8"
             ],
             [
              0.3333333333333333,
              "#9c179e"
             ],
             [
              0.4444444444444444,
              "#bd3786"
             ],
             [
              0.5555555555555556,
              "#d8576b"
             ],
             [
              0.6666666666666666,
              "#ed7953"
             ],
             [
              0.7777777777777778,
              "#fb9f3a"
             ],
             [
              0.8888888888888888,
              "#fdca26"
             ],
             [
              1,
              "#f0f921"
             ]
            ],
            "type": "heatmapgl"
           }
          ],
          "histogram": [
           {
            "marker": {
             "pattern": {
              "fillmode": "overlay",
              "size": 10,
              "solidity": 0.2
             }
            },
            "type": "histogram"
           }
          ],
          "histogram2d": [
           {
            "colorbar": {
             "outlinewidth": 0,
             "ticks": ""
            },
            "colorscale": [
             [
              0,
              "#0d0887"
             ],
             [
              0.1111111111111111,
              "#46039f"
             ],
             [
              0.2222222222222222,
              "#7201a8"
             ],
             [
              0.3333333333333333,
              "#9c179e"
             ],
             [
              0.4444444444444444,
              "#bd3786"
             ],
             [
              0.5555555555555556,
              "#d8576b"
             ],
             [
              0.6666666666666666,
              "#ed7953"
             ],
             [
              0.7777777777777778,
              "#fb9f3a"
             ],
             [
              0.8888888888888888,
              "#fdca26"
             ],
             [
              1,
              "#f0f921"
             ]
            ],
            "type": "histogram2d"
           }
          ],
          "histogram2dcontour": [
           {
            "colorbar": {
             "outlinewidth": 0,
             "ticks": ""
            },
            "colorscale": [
             [
              0,
              "#0d0887"
             ],
             [
              0.1111111111111111,
              "#46039f"
             ],
             [
              0.2222222222222222,
              "#7201a8"
             ],
             [
              0.3333333333333333,
              "#9c179e"
             ],
             [
              0.4444444444444444,
              "#bd3786"
             ],
             [
              0.5555555555555556,
              "#d8576b"
             ],
             [
              0.6666666666666666,
              "#ed7953"
             ],
             [
              0.7777777777777778,
              "#fb9f3a"
             ],
             [
              0.8888888888888888,
              "#fdca26"
             ],
             [
              1,
              "#f0f921"
             ]
            ],
            "type": "histogram2dcontour"
           }
          ],
          "mesh3d": [
           {
            "colorbar": {
             "outlinewidth": 0,
             "ticks": ""
            },
            "type": "mesh3d"
           }
          ],
          "parcoords": [
           {
            "line": {
             "colorbar": {
              "outlinewidth": 0,
              "ticks": ""
             }
            },
            "type": "parcoords"
           }
          ],
          "pie": [
           {
            "automargin": true,
            "type": "pie"
           }
          ],
          "scatter": [
           {
            "marker": {
             "colorbar": {
              "outlinewidth": 0,
              "ticks": ""
             }
            },
            "type": "scatter"
           }
          ],
          "scatter3d": [
           {
            "line": {
             "colorbar": {
              "outlinewidth": 0,
              "ticks": ""
             }
            },
            "marker": {
             "colorbar": {
              "outlinewidth": 0,
              "ticks": ""
             }
            },
            "type": "scatter3d"
           }
          ],
          "scattercarpet": [
           {
            "marker": {
             "colorbar": {
              "outlinewidth": 0,
              "ticks": ""
             }
            },
            "type": "scattercarpet"
           }
          ],
          "scattergeo": [
           {
            "marker": {
             "colorbar": {
              "outlinewidth": 0,
              "ticks": ""
             }
            },
            "type": "scattergeo"
           }
          ],
          "scattergl": [
           {
            "marker": {
             "colorbar": {
              "outlinewidth": 0,
              "ticks": ""
             }
            },
            "type": "scattergl"
           }
          ],
          "scattermapbox": [
           {
            "marker": {
             "colorbar": {
              "outlinewidth": 0,
              "ticks": ""
             }
            },
            "type": "scattermapbox"
           }
          ],
          "scatterpolar": [
           {
            "marker": {
             "colorbar": {
              "outlinewidth": 0,
              "ticks": ""
             }
            },
            "type": "scatterpolar"
           }
          ],
          "scatterpolargl": [
           {
            "marker": {
             "colorbar": {
              "outlinewidth": 0,
              "ticks": ""
             }
            },
            "type": "scatterpolargl"
           }
          ],
          "scatterternary": [
           {
            "marker": {
             "colorbar": {
              "outlinewidth": 0,
              "ticks": ""
             }
            },
            "type": "scatterternary"
           }
          ],
          "surface": [
           {
            "colorbar": {
             "outlinewidth": 0,
             "ticks": ""
            },
            "colorscale": [
             [
              0,
              "#0d0887"
             ],
             [
              0.1111111111111111,
              "#46039f"
             ],
             [
              0.2222222222222222,
              "#7201a8"
             ],
             [
              0.3333333333333333,
              "#9c179e"
             ],
             [
              0.4444444444444444,
              "#bd3786"
             ],
             [
              0.5555555555555556,
              "#d8576b"
             ],
             [
              0.6666666666666666,
              "#ed7953"
             ],
             [
              0.7777777777777778,
              "#fb9f3a"
             ],
             [
              0.8888888888888888,
              "#fdca26"
             ],
             [
              1,
              "#f0f921"
             ]
            ],
            "type": "surface"
           }
          ],
          "table": [
           {
            "cells": {
             "fill": {
              "color": "#EBF0F8"
             },
             "line": {
              "color": "white"
             }
            },
            "header": {
             "fill": {
              "color": "#C8D4E3"
             },
             "line": {
              "color": "white"
             }
            },
            "type": "table"
           }
          ]
         },
         "layout": {
          "annotationdefaults": {
           "arrowcolor": "#2a3f5f",
           "arrowhead": 0,
           "arrowwidth": 1
          },
          "autotypenumbers": "strict",
          "coloraxis": {
           "colorbar": {
            "outlinewidth": 0,
            "ticks": ""
           }
          },
          "colorscale": {
           "diverging": [
            [
             0,
             "#8e0152"
            ],
            [
             0.1,
             "#c51b7d"
            ],
            [
             0.2,
             "#de77ae"
            ],
            [
             0.3,
             "#f1b6da"
            ],
            [
             0.4,
             "#fde0ef"
            ],
            [
             0.5,
             "#f7f7f7"
            ],
            [
             0.6,
             "#e6f5d0"
            ],
            [
             0.7,
             "#b8e186"
            ],
            [
             0.8,
             "#7fbc41"
            ],
            [
             0.9,
             "#4d9221"
            ],
            [
             1,
             "#276419"
            ]
           ],
           "sequential": [
            [
             0,
             "#0d0887"
            ],
            [
             0.1111111111111111,
             "#46039f"
            ],
            [
             0.2222222222222222,
             "#7201a8"
            ],
            [
             0.3333333333333333,
             "#9c179e"
            ],
            [
             0.4444444444444444,
             "#bd3786"
            ],
            [
             0.5555555555555556,
             "#d8576b"
            ],
            [
             0.6666666666666666,
             "#ed7953"
            ],
            [
             0.7777777777777778,
             "#fb9f3a"
            ],
            [
             0.8888888888888888,
             "#fdca26"
            ],
            [
             1,
             "#f0f921"
            ]
           ],
           "sequentialminus": [
            [
             0,
             "#0d0887"
            ],
            [
             0.1111111111111111,
             "#46039f"
            ],
            [
             0.2222222222222222,
             "#7201a8"
            ],
            [
             0.3333333333333333,
             "#9c179e"
            ],
            [
             0.4444444444444444,
             "#bd3786"
            ],
            [
             0.5555555555555556,
             "#d8576b"
            ],
            [
             0.6666666666666666,
             "#ed7953"
            ],
            [
             0.7777777777777778,
             "#fb9f3a"
            ],
            [
             0.8888888888888888,
             "#fdca26"
            ],
            [
             1,
             "#f0f921"
            ]
           ]
          },
          "colorway": [
           "#636efa",
           "#EF553B",
           "#00cc96",
           "#ab63fa",
           "#FFA15A",
           "#19d3f3",
           "#FF6692",
           "#B6E880",
           "#FF97FF",
           "#FECB52"
          ],
          "font": {
           "color": "#2a3f5f"
          },
          "geo": {
           "bgcolor": "white",
           "lakecolor": "white",
           "landcolor": "#E5ECF6",
           "showlakes": true,
           "showland": true,
           "subunitcolor": "white"
          },
          "hoverlabel": {
           "align": "left"
          },
          "hovermode": "closest",
          "mapbox": {
           "style": "light"
          },
          "paper_bgcolor": "white",
          "plot_bgcolor": "#E5ECF6",
          "polar": {
           "angularaxis": {
            "gridcolor": "white",
            "linecolor": "white",
            "ticks": ""
           },
           "bgcolor": "#E5ECF6",
           "radialaxis": {
            "gridcolor": "white",
            "linecolor": "white",
            "ticks": ""
           }
          },
          "scene": {
           "xaxis": {
            "backgroundcolor": "#E5ECF6",
            "gridcolor": "white",
            "gridwidth": 2,
            "linecolor": "white",
            "showbackground": true,
            "ticks": "",
            "zerolinecolor": "white"
           },
           "yaxis": {
            "backgroundcolor": "#E5ECF6",
            "gridcolor": "white",
            "gridwidth": 2,
            "linecolor": "white",
            "showbackground": true,
            "ticks": "",
            "zerolinecolor": "white"
           },
           "zaxis": {
            "backgroundcolor": "#E5ECF6",
            "gridcolor": "white",
            "gridwidth": 2,
            "linecolor": "white",
            "showbackground": true,
            "ticks": "",
            "zerolinecolor": "white"
           }
          },
          "shapedefaults": {
           "line": {
            "color": "#2a3f5f"
           }
          },
          "ternary": {
           "aaxis": {
            "gridcolor": "white",
            "linecolor": "white",
            "ticks": ""
           },
           "baxis": {
            "gridcolor": "white",
            "linecolor": "white",
            "ticks": ""
           },
           "bgcolor": "#E5ECF6",
           "caxis": {
            "gridcolor": "white",
            "linecolor": "white",
            "ticks": ""
           }
          },
          "title": {
           "x": 0.05
          },
          "xaxis": {
           "automargin": true,
           "gridcolor": "white",
           "linecolor": "white",
           "ticks": "",
           "title": {
            "standoff": 15
           },
           "zerolinecolor": "white",
           "zerolinewidth": 2
          },
          "yaxis": {
           "automargin": true,
           "gridcolor": "white",
           "linecolor": "white",
           "ticks": "",
           "title": {
            "standoff": 15
           },
           "zerolinecolor": "white",
           "zerolinewidth": 2
          }
         }
        },
        "ternary": {
         "aaxis": {
          "title": {
           "text": "red"
          }
         },
         "baxis": {
          "title": {
           "text": "green"
          }
         },
         "caxis": {
          "title": {
           "text": "blue"
          }
         },
         "domain": {
          "x": [
           0,
           1
          ],
          "y": [
           0,
           1
          ]
         }
        }
       }
      }
     },
     "metadata": {},
     "output_type": "display_data"
    },
    {
     "name": "stdout",
     "output_type": "stream",
     "text": [
      "Labels of selected filters\n",
      "dict_keys(['007', '117', '130', '138', '162', '169', '203', '213', '245', '702', '704', '730', 'SC30', 'B71', 'C45', 'LD203', 'M63', 'M91', 'V98', 'Y02'])\n",
      "\n",
      "\n",
      "Selection of filters using buffer mask and 0.01 padding\n"
     ]
    },
    {
     "data": {
      "application/vnd.plotly.v1+json": {
       "config": {
        "plotlyServerURL": "https://plot.ly"
       },
       "data": [
        {
         "a": [
          189.35683448013052
         ],
         "b": [
          103.93804145886098
         ],
         "c": [
          67.92304439213963
         ],
         "hovertemplate": "index=004<br>red=%{a}<br>green=%{b}<br>blue=%{c}<extra></extra>",
         "legendgroup": "004",
         "marker": {
          "color": "rgb(189.35683448013052,103.93804145886098,67.92304439213963)",
          "symbol": "circle"
         },
         "mode": "markers",
         "name": "004",
         "showlegend": true,
         "subplot": "ternary",
         "type": "scatterternary"
        },
        {
         "a": [
          199.58520808545936
         ],
         "b": [
          182.7164755865565
         ],
         "c": [
          113.78259465961591
         ],
         "hovertemplate": "index=007<br>red=%{a}<br>green=%{b}<br>blue=%{c}<extra></extra>",
         "legendgroup": "007",
         "marker": {
          "color": "rgb(199.58520808545936,182.7164755865565,113.78259465961591)",
          "symbol": "circle"
         },
         "mode": "markers",
         "name": "007",
         "showlegend": true,
         "subplot": "ternary",
         "type": "scatterternary"
        },
        {
         "a": [
          37.864805227223535
         ],
         "b": [
          109.2832114704161
         ],
         "c": [
          167.80102735354353
         ],
         "hovertemplate": "index=117<br>red=%{a}<br>green=%{b}<br>blue=%{c}<extra></extra>",
         "legendgroup": "117",
         "marker": {
          "color": "rgb(37.864805227223535,109.2832114704161,167.80102735354353)",
          "symbol": "circle"
         },
         "mode": "markers",
         "name": "117",
         "showlegend": true,
         "subplot": "ternary",
         "type": "scatterternary"
        },
        {
         "a": [
          85.73638099210865
         ],
         "b": [
          142.95969570339238
         ],
         "c": [
          72.20361792112034
         ],
         "hovertemplate": "index=138<br>red=%{a}<br>green=%{b}<br>blue=%{c}<extra></extra>",
         "legendgroup": "138",
         "marker": {
          "color": "rgb(85.73638099210865,142.95969570339238,72.20361792112034)",
          "symbol": "circle"
         },
         "mode": "markers",
         "name": "138",
         "showlegend": true,
         "subplot": "ternary",
         "type": "scatterternary"
        },
        {
         "a": [
          136.39502479493035
         ],
         "b": [
          107.10122767135348
         ],
         "c": [
          137.9165874779318
         ],
         "hovertemplate": "index=169<br>red=%{a}<br>green=%{b}<br>blue=%{c}<extra></extra>",
         "legendgroup": "169",
         "marker": {
          "color": "rgb(136.39502479493035,107.10122767135348,137.9165874779318)",
          "symbol": "circle"
         },
         "mode": "markers",
         "name": "169",
         "showlegend": true,
         "subplot": "ternary",
         "type": "scatterternary"
        },
        {
         "a": [
          109.03233923792595
         ],
         "b": [
          163.93353274491375
         ],
         "c": [
          122.38800368648899
         ],
         "hovertemplate": "index=213<br>red=%{a}<br>green=%{b}<br>blue=%{c}<extra></extra>",
         "legendgroup": "213",
         "marker": {
          "color": "rgb(109.03233923792595,163.93353274491375,122.38800368648899)",
          "symbol": "circle"
         },
         "mode": "markers",
         "name": "213",
         "showlegend": true,
         "subplot": "ternary",
         "type": "scatterternary"
        },
        {
         "a": [
          104.95113359070075
         ],
         "b": [
          67.34467546561552
         ],
         "c": [
          129.6296095767414
         ],
         "hovertemplate": "index=704<br>red=%{a}<br>green=%{b}<br>blue=%{c}<extra></extra>",
         "legendgroup": "704",
         "marker": {
          "color": "rgb(104.95113359070075,67.34467546561552,129.6296095767414)",
          "symbol": "circle"
         },
         "mode": "markers",
         "name": "704",
         "showlegend": true,
         "subplot": "ternary",
         "type": "scatterternary"
        },
        {
         "a": [
          70.6644824226071
         ],
         "b": [
          122.21095696498818
         ],
         "c": [
          118.04511683414661
         ],
         "hovertemplate": "index=730<br>red=%{a}<br>green=%{b}<br>blue=%{c}<extra></extra>",
         "legendgroup": "730",
         "marker": {
          "color": "rgb(70.6644824226071,122.21095696498818,118.04511683414661)",
          "symbol": "circle"
         },
         "mode": "markers",
         "name": "730",
         "showlegend": true,
         "subplot": "ternary",
         "type": "scatterternary"
        },
        {
         "a": [
          179.98001334645463
         ],
         "b": [
          82.2314327797089
         ],
         "c": [
          105.57809328076293
         ],
         "hovertemplate": "index=794<br>red=%{a}<br>green=%{b}<br>blue=%{c}<extra></extra>",
         "legendgroup": "794",
         "marker": {
          "color": "rgb(179.98001334645463,82.2314327797089,105.57809328076293)",
          "symbol": "circle"
         },
         "mode": "markers",
         "name": "794",
         "showlegend": true,
         "subplot": "ternary",
         "type": "scatterternary"
        },
        {
         "a": [
          53.38785006963183
         ],
         "b": [
          120.20130470054826
         ],
         "c": [
          139.99596739053152
         ],
         "hovertemplate": "index=SC30<br>red=%{a}<br>green=%{b}<br>blue=%{c}<extra></extra>",
         "legendgroup": "SC30",
         "marker": {
          "color": "rgb(53.38785006963183,120.20130470054826,139.99596739053152)",
          "symbol": "circle"
         },
         "mode": "markers",
         "name": "SC30",
         "showlegend": true,
         "subplot": "ternary",
         "type": "scatterternary"
        },
        {
         "a": [
          121.48089710744038
         ],
         "b": [
          119.8419705545314
         ],
         "c": [
          87.89676680156018
         ],
         "hovertemplate": "index=809<br>red=%{a}<br>green=%{b}<br>blue=%{c}<extra></extra>",
         "legendgroup": "809",
         "marker": {
          "color": "rgb(121.48089710744038,119.8419705545314,87.89676680156018)",
          "symbol": "circle"
         },
         "mode": "markers",
         "name": "809",
         "showlegend": true,
         "subplot": "ternary",
         "type": "scatterternary"
        },
        {
         "a": [
          86.0342586010437
         ],
         "b": [
          106.93436982576873
         ],
         "c": [
          108.27188875536963
         ],
         "hovertemplate": "index=810<br>red=%{a}<br>green=%{b}<br>blue=%{c}<extra></extra>",
         "legendgroup": "810",
         "marker": {
          "color": "rgb(86.0342586010437,106.93436982576873,108.27188875536963)",
          "symbol": "circle"
         },
         "mode": "markers",
         "name": "810",
         "showlegend": true,
         "subplot": "ternary",
         "type": "scatterternary"
        },
        {
         "a": [
          196.20434036222974
         ],
         "b": [
          128.3327205378738
         ],
         "c": [
          107.56930953433277
         ],
         "hovertemplate": "index=749<br>red=%{a}<br>green=%{b}<br>blue=%{c}<extra></extra>",
         "legendgroup": "749",
         "marker": {
          "color": "rgb(196.20434036222974,128.3327205378738,107.56930953433277)",
          "symbol": "circle"
         },
         "mode": "markers",
         "name": "749",
         "showlegend": true,
         "subplot": "ternary",
         "type": "scatterternary"
        },
        {
         "a": [
          69.88669506704137
         ],
         "b": [
          98.33984728981324
         ],
         "c": [
          166.99511926755028
         ],
         "hovertemplate": "index=B71<br>red=%{a}<br>green=%{b}<br>blue=%{c}<extra></extra>",
         "legendgroup": "B71",
         "marker": {
          "color": "rgb(69.88669506704137,98.33984728981324,166.99511926755028)",
          "symbol": "circle"
         },
         "mode": "markers",
         "name": "B71",
         "showlegend": true,
         "subplot": "ternary",
         "type": "scatterternary"
        },
        {
         "a": [
          21.473893423885894
         ],
         "b": [
          145.37880448149284
         ],
         "c": [
          199.00629791370986
         ],
         "hovertemplate": "index=C45<br>red=%{a}<br>green=%{b}<br>blue=%{c}<extra></extra>",
         "legendgroup": "C45",
         "marker": {
          "color": "rgb(21.473893423885894,145.37880448149284,199.00629791370986)",
          "symbol": "circle"
         },
         "mode": "markers",
         "name": "C45",
         "showlegend": true,
         "subplot": "ternary",
         "type": "scatterternary"
        },
        {
         "a": [
          78.48713338360567
         ],
         "b": [
          95.00545295579266
         ],
         "c": [
          146.95623131449835
         ],
         "hovertemplate": "index=LD203<br>red=%{a}<br>green=%{b}<br>blue=%{c}<extra></extra>",
         "legendgroup": "LD203",
         "marker": {
          "color": "rgb(78.48713338360567,95.00545295579266,146.95623131449835)",
          "symbol": "circle"
         },
         "mode": "markers",
         "name": "LD203",
         "showlegend": true,
         "subplot": "ternary",
         "type": "scatterternary"
        },
        {
         "a": [
          157.26852067154758
         ],
         "b": [
          56.932836950975236
         ],
         "c": [
          98.73749729715821
         ],
         "hovertemplate": "index=M63<br>red=%{a}<br>green=%{b}<br>blue=%{c}<extra></extra>",
         "legendgroup": "M63",
         "marker": {
          "color": "rgb(157.26852067154758,56.932836950975236,98.73749729715821)",
          "symbol": "circle"
         },
         "mode": "markers",
         "name": "M63",
         "showlegend": true,
         "subplot": "ternary",
         "type": "scatterternary"
        },
        {
         "a": [
          146.66024749824706
         ],
         "b": [
          87.18400743865732
         ],
         "c": [
          102.45211149097844
         ],
         "hovertemplate": "index=M91<br>red=%{a}<br>green=%{b}<br>blue=%{c}<extra></extra>",
         "legendgroup": "M91",
         "marker": {
          "color": "rgb(146.66024749824706,87.18400743865732,102.45211149097844)",
          "symbol": "circle"
         },
         "mode": "markers",
         "name": "M91",
         "showlegend": true,
         "subplot": "ternary",
         "type": "scatterternary"
        },
        {
         "a": [
          127.21369666077545
         ],
         "b": [
          42.19271187161799
         ],
         "c": [
          132.27407573822592
         ],
         "hovertemplate": "index=V98<br>red=%{a}<br>green=%{b}<br>blue=%{c}<extra></extra>",
         "legendgroup": "V98",
         "marker": {
          "color": "rgb(127.21369666077545,42.19271187161799,132.27407573822592)",
          "symbol": "circle"
         },
         "mode": "markers",
         "name": "V98",
         "showlegend": true,
         "subplot": "ternary",
         "type": "scatterternary"
        },
        {
         "a": [
          165.18122746026523
         ],
         "b": [
          128.5612223759718
         ],
         "c": [
          66.09916180538087
         ],
         "hovertemplate": "index=Y02<br>red=%{a}<br>green=%{b}<br>blue=%{c}<extra></extra>",
         "legendgroup": "Y02",
         "marker": {
          "color": "rgb(165.18122746026523,128.5612223759718,66.09916180538087)",
          "symbol": "circle"
         },
         "mode": "markers",
         "name": "Y02",
         "showlegend": true,
         "subplot": "ternary",
         "type": "scatterternary"
        }
       ],
       "layout": {
        "legend": {
         "title": {
          "text": "index"
         },
         "tracegroupgap": 0
        },
        "margin": {
         "t": 60
        },
        "template": {
         "data": {
          "bar": [
           {
            "error_x": {
             "color": "#2a3f5f"
            },
            "error_y": {
             "color": "#2a3f5f"
            },
            "marker": {
             "line": {
              "color": "#E5ECF6",
              "width": 0.5
             },
             "pattern": {
              "fillmode": "overlay",
              "size": 10,
              "solidity": 0.2
             }
            },
            "type": "bar"
           }
          ],
          "barpolar": [
           {
            "marker": {
             "line": {
              "color": "#E5ECF6",
              "width": 0.5
             },
             "pattern": {
              "fillmode": "overlay",
              "size": 10,
              "solidity": 0.2
             }
            },
            "type": "barpolar"
           }
          ],
          "carpet": [
           {
            "aaxis": {
             "endlinecolor": "#2a3f5f",
             "gridcolor": "white",
             "linecolor": "white",
             "minorgridcolor": "white",
             "startlinecolor": "#2a3f5f"
            },
            "baxis": {
             "endlinecolor": "#2a3f5f",
             "gridcolor": "white",
             "linecolor": "white",
             "minorgridcolor": "white",
             "startlinecolor": "#2a3f5f"
            },
            "type": "carpet"
           }
          ],
          "choropleth": [
           {
            "colorbar": {
             "outlinewidth": 0,
             "ticks": ""
            },
            "type": "choropleth"
           }
          ],
          "contour": [
           {
            "colorbar": {
             "outlinewidth": 0,
             "ticks": ""
            },
            "colorscale": [
             [
              0,
              "#0d0887"
             ],
             [
              0.1111111111111111,
              "#46039f"
             ],
             [
              0.2222222222222222,
              "#7201a8"
             ],
             [
              0.3333333333333333,
              "#9c179e"
             ],
             [
              0.4444444444444444,
              "#bd3786"
             ],
             [
              0.5555555555555556,
              "#d8576b"
             ],
             [
              0.6666666666666666,
              "#ed7953"
             ],
             [
              0.7777777777777778,
              "#fb9f3a"
             ],
             [
              0.8888888888888888,
              "#fdca26"
             ],
             [
              1,
              "#f0f921"
             ]
            ],
            "type": "contour"
           }
          ],
          "contourcarpet": [
           {
            "colorbar": {
             "outlinewidth": 0,
             "ticks": ""
            },
            "type": "contourcarpet"
           }
          ],
          "heatmap": [
           {
            "colorbar": {
             "outlinewidth": 0,
             "ticks": ""
            },
            "colorscale": [
             [
              0,
              "#0d0887"
             ],
             [
              0.1111111111111111,
              "#46039f"
             ],
             [
              0.2222222222222222,
              "#7201a8"
             ],
             [
              0.3333333333333333,
              "#9c179e"
             ],
             [
              0.4444444444444444,
              "#bd3786"
             ],
             [
              0.5555555555555556,
              "#d8576b"
             ],
             [
              0.6666666666666666,
              "#ed7953"
             ],
             [
              0.7777777777777778,
              "#fb9f3a"
             ],
             [
              0.8888888888888888,
              "#fdca26"
             ],
             [
              1,
              "#f0f921"
             ]
            ],
            "type": "heatmap"
           }
          ],
          "heatmapgl": [
           {
            "colorbar": {
             "outlinewidth": 0,
             "ticks": ""
            },
            "colorscale": [
             [
              0,
              "#0d0887"
             ],
             [
              0.1111111111111111,
              "#46039f"
             ],
             [
              0.2222222222222222,
              "#7201a8"
             ],
             [
              0.3333333333333333,
              "#9c179e"
             ],
             [
              0.4444444444444444,
              "#bd3786"
             ],
             [
              0.5555555555555556,
              "#d8576b"
             ],
             [
              0.6666666666666666,
              "#ed7953"
             ],
             [
              0.7777777777777778,
              "#fb9f3a"
             ],
             [
              0.8888888888888888,
              "#fdca26"
             ],
             [
              1,
              "#f0f921"
             ]
            ],
            "type": "heatmapgl"
           }
          ],
          "histogram": [
           {
            "marker": {
             "pattern": {
              "fillmode": "overlay",
              "size": 10,
              "solidity": 0.2
             }
            },
            "type": "histogram"
           }
          ],
          "histogram2d": [
           {
            "colorbar": {
             "outlinewidth": 0,
             "ticks": ""
            },
            "colorscale": [
             [
              0,
              "#0d0887"
             ],
             [
              0.1111111111111111,
              "#46039f"
             ],
             [
              0.2222222222222222,
              "#7201a8"
             ],
             [
              0.3333333333333333,
              "#9c179e"
             ],
             [
              0.4444444444444444,
              "#bd3786"
             ],
             [
              0.5555555555555556,
              "#d8576b"
             ],
             [
              0.6666666666666666,
              "#ed7953"
             ],
             [
              0.7777777777777778,
              "#fb9f3a"
             ],
             [
              0.8888888888888888,
              "#fdca26"
             ],
             [
              1,
              "#f0f921"
             ]
            ],
            "type": "histogram2d"
           }
          ],
          "histogram2dcontour": [
           {
            "colorbar": {
             "outlinewidth": 0,
             "ticks": ""
            },
            "colorscale": [
             [
              0,
              "#0d0887"
             ],
             [
              0.1111111111111111,
              "#46039f"
             ],
             [
              0.2222222222222222,
              "#7201a8"
             ],
             [
              0.3333333333333333,
              "#9c179e"
             ],
             [
              0.4444444444444444,
              "#bd3786"
             ],
             [
              0.5555555555555556,
              "#d8576b"
             ],
             [
              0.6666666666666666,
              "#ed7953"
             ],
             [
              0.7777777777777778,
              "#fb9f3a"
             ],
             [
              0.8888888888888888,
              "#fdca26"
             ],
             [
              1,
              "#f0f921"
             ]
            ],
            "type": "histogram2dcontour"
           }
          ],
          "mesh3d": [
           {
            "colorbar": {
             "outlinewidth": 0,
             "ticks": ""
            },
            "type": "mesh3d"
           }
          ],
          "parcoords": [
           {
            "line": {
             "colorbar": {
              "outlinewidth": 0,
              "ticks": ""
             }
            },
            "type": "parcoords"
           }
          ],
          "pie": [
           {
            "automargin": true,
            "type": "pie"
           }
          ],
          "scatter": [
           {
            "marker": {
             "colorbar": {
              "outlinewidth": 0,
              "ticks": ""
             }
            },
            "type": "scatter"
           }
          ],
          "scatter3d": [
           {
            "line": {
             "colorbar": {
              "outlinewidth": 0,
              "ticks": ""
             }
            },
            "marker": {
             "colorbar": {
              "outlinewidth": 0,
              "ticks": ""
             }
            },
            "type": "scatter3d"
           }
          ],
          "scattercarpet": [
           {
            "marker": {
             "colorbar": {
              "outlinewidth": 0,
              "ticks": ""
             }
            },
            "type": "scattercarpet"
           }
          ],
          "scattergeo": [
           {
            "marker": {
             "colorbar": {
              "outlinewidth": 0,
              "ticks": ""
             }
            },
            "type": "scattergeo"
           }
          ],
          "scattergl": [
           {
            "marker": {
             "colorbar": {
              "outlinewidth": 0,
              "ticks": ""
             }
            },
            "type": "scattergl"
           }
          ],
          "scattermapbox": [
           {
            "marker": {
             "colorbar": {
              "outlinewidth": 0,
              "ticks": ""
             }
            },
            "type": "scattermapbox"
           }
          ],
          "scatterpolar": [
           {
            "marker": {
             "colorbar": {
              "outlinewidth": 0,
              "ticks": ""
             }
            },
            "type": "scatterpolar"
           }
          ],
          "scatterpolargl": [
           {
            "marker": {
             "colorbar": {
              "outlinewidth": 0,
              "ticks": ""
             }
            },
            "type": "scatterpolargl"
           }
          ],
          "scatterternary": [
           {
            "marker": {
             "colorbar": {
              "outlinewidth": 0,
              "ticks": ""
             }
            },
            "type": "scatterternary"
           }
          ],
          "surface": [
           {
            "colorbar": {
             "outlinewidth": 0,
             "ticks": ""
            },
            "colorscale": [
             [
              0,
              "#0d0887"
             ],
             [
              0.1111111111111111,
              "#46039f"
             ],
             [
              0.2222222222222222,
              "#7201a8"
             ],
             [
              0.3333333333333333,
              "#9c179e"
             ],
             [
              0.4444444444444444,
              "#bd3786"
             ],
             [
              0.5555555555555556,
              "#d8576b"
             ],
             [
              0.6666666666666666,
              "#ed7953"
             ],
             [
              0.7777777777777778,
              "#fb9f3a"
             ],
             [
              0.8888888888888888,
              "#fdca26"
             ],
             [
              1,
              "#f0f921"
             ]
            ],
            "type": "surface"
           }
          ],
          "table": [
           {
            "cells": {
             "fill": {
              "color": "#EBF0F8"
             },
             "line": {
              "color": "white"
             }
            },
            "header": {
             "fill": {
              "color": "#C8D4E3"
             },
             "line": {
              "color": "white"
             }
            },
            "type": "table"
           }
          ]
         },
         "layout": {
          "annotationdefaults": {
           "arrowcolor": "#2a3f5f",
           "arrowhead": 0,
           "arrowwidth": 1
          },
          "autotypenumbers": "strict",
          "coloraxis": {
           "colorbar": {
            "outlinewidth": 0,
            "ticks": ""
           }
          },
          "colorscale": {
           "diverging": [
            [
             0,
             "#8e0152"
            ],
            [
             0.1,
             "#c51b7d"
            ],
            [
             0.2,
             "#de77ae"
            ],
            [
             0.3,
             "#f1b6da"
            ],
            [
             0.4,
             "#fde0ef"
            ],
            [
             0.5,
             "#f7f7f7"
            ],
            [
             0.6,
             "#e6f5d0"
            ],
            [
             0.7,
             "#b8e186"
            ],
            [
             0.8,
             "#7fbc41"
            ],
            [
             0.9,
             "#4d9221"
            ],
            [
             1,
             "#276419"
            ]
           ],
           "sequential": [
            [
             0,
             "#0d0887"
            ],
            [
             0.1111111111111111,
             "#46039f"
            ],
            [
             0.2222222222222222,
             "#7201a8"
            ],
            [
             0.3333333333333333,
             "#9c179e"
            ],
            [
             0.4444444444444444,
             "#bd3786"
            ],
            [
             0.5555555555555556,
             "#d8576b"
            ],
            [
             0.6666666666666666,
             "#ed7953"
            ],
            [
             0.7777777777777778,
             "#fb9f3a"
            ],
            [
             0.8888888888888888,
             "#fdca26"
            ],
            [
             1,
             "#f0f921"
            ]
           ],
           "sequentialminus": [
            [
             0,
             "#0d0887"
            ],
            [
             0.1111111111111111,
             "#46039f"
            ],
            [
             0.2222222222222222,
             "#7201a8"
            ],
            [
             0.3333333333333333,
             "#9c179e"
            ],
            [
             0.4444444444444444,
             "#bd3786"
            ],
            [
             0.5555555555555556,
             "#d8576b"
            ],
            [
             0.6666666666666666,
             "#ed7953"
            ],
            [
             0.7777777777777778,
             "#fb9f3a"
            ],
            [
             0.8888888888888888,
             "#fdca26"
            ],
            [
             1,
             "#f0f921"
            ]
           ]
          },
          "colorway": [
           "#636efa",
           "#EF553B",
           "#00cc96",
           "#ab63fa",
           "#FFA15A",
           "#19d3f3",
           "#FF6692",
           "#B6E880",
           "#FF97FF",
           "#FECB52"
          ],
          "font": {
           "color": "#2a3f5f"
          },
          "geo": {
           "bgcolor": "white",
           "lakecolor": "white",
           "landcolor": "#E5ECF6",
           "showlakes": true,
           "showland": true,
           "subunitcolor": "white"
          },
          "hoverlabel": {
           "align": "left"
          },
          "hovermode": "closest",
          "mapbox": {
           "style": "light"
          },
          "paper_bgcolor": "white",
          "plot_bgcolor": "#E5ECF6",
          "polar": {
           "angularaxis": {
            "gridcolor": "white",
            "linecolor": "white",
            "ticks": ""
           },
           "bgcolor": "#E5ECF6",
           "radialaxis": {
            "gridcolor": "white",
            "linecolor": "white",
            "ticks": ""
           }
          },
          "scene": {
           "xaxis": {
            "backgroundcolor": "#E5ECF6",
            "gridcolor": "white",
            "gridwidth": 2,
            "linecolor": "white",
            "showbackground": true,
            "ticks": "",
            "zerolinecolor": "white"
           },
           "yaxis": {
            "backgroundcolor": "#E5ECF6",
            "gridcolor": "white",
            "gridwidth": 2,
            "linecolor": "white",
            "showbackground": true,
            "ticks": "",
            "zerolinecolor": "white"
           },
           "zaxis": {
            "backgroundcolor": "#E5ECF6",
            "gridcolor": "white",
            "gridwidth": 2,
            "linecolor": "white",
            "showbackground": true,
            "ticks": "",
            "zerolinecolor": "white"
           }
          },
          "shapedefaults": {
           "line": {
            "color": "#2a3f5f"
           }
          },
          "ternary": {
           "aaxis": {
            "gridcolor": "white",
            "linecolor": "white",
            "ticks": ""
           },
           "baxis": {
            "gridcolor": "white",
            "linecolor": "white",
            "ticks": ""
           },
           "bgcolor": "#E5ECF6",
           "caxis": {
            "gridcolor": "white",
            "linecolor": "white",
            "ticks": ""
           }
          },
          "title": {
           "x": 0.05
          },
          "xaxis": {
           "automargin": true,
           "gridcolor": "white",
           "linecolor": "white",
           "ticks": "",
           "title": {
            "standoff": 15
           },
           "zerolinecolor": "white",
           "zerolinewidth": 2
          },
          "yaxis": {
           "automargin": true,
           "gridcolor": "white",
           "linecolor": "white",
           "ticks": "",
           "title": {
            "standoff": 15
           },
           "zerolinecolor": "white",
           "zerolinewidth": 2
          }
         }
        },
        "ternary": {
         "aaxis": {
          "title": {
           "text": "red"
          }
         },
         "baxis": {
          "title": {
           "text": "green"
          }
         },
         "caxis": {
          "title": {
           "text": "blue"
          }
         },
         "domain": {
          "x": [
           0,
           1
          ],
          "y": [
           0,
           1
          ]
         }
        }
       }
      }
     },
     "metadata": {},
     "output_type": "display_data"
    },
    {
     "name": "stdout",
     "output_type": "stream",
     "text": [
      "Labels of selected filters\n",
      "dict_keys(['004', '007', '117', '138', '169', '213', '704', '730', '794', 'SC30', '809', '810', '749', 'B71', 'C45', 'LD203', 'M63', 'M91', 'V98', 'Y02'])\n",
      "\n",
      "\n",
      "Selection of filters using buffer mask and 0.02 padding\n"
     ]
    },
    {
     "data": {
      "application/vnd.plotly.v1+json": {
       "config": {
        "plotlyServerURL": "https://plot.ly"
       },
       "data": [
        {
         "a": [
          161.27175195802275
         ],
         "b": [
          59.268496452965174
         ],
         "c": [
          96.98691912104822
         ],
         "hovertemplate": "index=002<br>red=%{a}<br>green=%{b}<br>blue=%{c}<extra></extra>",
         "legendgroup": "002",
         "marker": {
          "color": "rgb(161.27175195802275,59.268496452965174,96.98691912104822)",
          "symbol": "circle"
         },
         "mode": "markers",
         "name": "002",
         "showlegend": true,
         "subplot": "ternary",
         "type": "scatterternary"
        },
        {
         "a": [
          188.83928454512298
         ],
         "b": [
          123.97812924321639
         ],
         "c": [
          50.924068242534126
         ],
         "hovertemplate": "index=013<br>red=%{a}<br>green=%{b}<br>blue=%{c}<extra></extra>",
         "legendgroup": "013",
         "marker": {
          "color": "rgb(188.83928454512298,123.97812924321639,50.924068242534126)",
          "symbol": "circle"
         },
         "mode": "markers",
         "name": "013",
         "showlegend": true,
         "subplot": "ternary",
         "type": "scatterternary"
        },
        {
         "a": [
          165.71596996226162
         ],
         "b": [
          68.53914673438474
         ],
         "c": [
          71.58101780776697
         ],
         "hovertemplate": "index=036<br>red=%{a}<br>green=%{b}<br>blue=%{c}<extra></extra>",
         "legendgroup": "036",
         "marker": {
          "color": "rgb(165.71596996226162,68.53914673438474,71.58101780776697)",
          "symbol": "circle"
         },
         "mode": "markers",
         "name": "036",
         "showlegend": true,
         "subplot": "ternary",
         "type": "scatterternary"
        },
        {
         "a": [
          37.864805227223535
         ],
         "b": [
          109.2832114704161
         ],
         "c": [
          167.80102735354353
         ],
         "hovertemplate": "index=117<br>red=%{a}<br>green=%{b}<br>blue=%{c}<extra></extra>",
         "legendgroup": "117",
         "marker": {
          "color": "rgb(37.864805227223535,109.2832114704161,167.80102735354353)",
          "symbol": "circle"
         },
         "mode": "markers",
         "name": "117",
         "showlegend": true,
         "subplot": "ternary",
         "type": "scatterternary"
        },
        {
         "a": [
          85.73638099210865
         ],
         "b": [
          142.95969570339238
         ],
         "c": [
          72.20361792112034
         ],
         "hovertemplate": "index=138<br>red=%{a}<br>green=%{b}<br>blue=%{c}<extra></extra>",
         "legendgroup": "138",
         "marker": {
          "color": "rgb(85.73638099210865,142.95969570339238,72.20361792112034)",
          "symbol": "circle"
         },
         "mode": "markers",
         "name": "138",
         "showlegend": true,
         "subplot": "ternary",
         "type": "scatterternary"
        },
        {
         "a": [
          136.39502479493035
         ],
         "b": [
          107.10122767135348
         ],
         "c": [
          137.9165874779318
         ],
         "hovertemplate": "index=169<br>red=%{a}<br>green=%{b}<br>blue=%{c}<extra></extra>",
         "legendgroup": "169",
         "marker": {
          "color": "rgb(136.39502479493035,107.10122767135348,137.9165874779318)",
          "symbol": "circle"
         },
         "mode": "markers",
         "name": "169",
         "showlegend": true,
         "subplot": "ternary",
         "type": "scatterternary"
        },
        {
         "a": [
          183.12404700603884
         ],
         "b": [
          76.83762765683063
         ],
         "c": [
          45.442671251578105
         ],
         "hovertemplate": "index=176<br>red=%{a}<br>green=%{b}<br>blue=%{c}<extra></extra>",
         "legendgroup": "176",
         "marker": {
          "color": "rgb(183.12404700603884,76.83762765683063,45.442671251578105)",
          "symbol": "circle"
         },
         "mode": "markers",
         "name": "176",
         "showlegend": true,
         "subplot": "ternary",
         "type": "scatterternary"
        },
        {
         "a": [
          109.03233923792595
         ],
         "b": [
          163.93353274491375
         ],
         "c": [
          122.38800368648899
         ],
         "hovertemplate": "index=213<br>red=%{a}<br>green=%{b}<br>blue=%{c}<extra></extra>",
         "legendgroup": "213",
         "marker": {
          "color": "rgb(109.03233923792595,163.93353274491375,122.38800368648899)",
          "symbol": "circle"
         },
         "mode": "markers",
         "name": "213",
         "showlegend": true,
         "subplot": "ternary",
         "type": "scatterternary"
        },
        {
         "a": [
          202.25435337164248
         ],
         "b": [
          194.26748737553115
         ],
         "c": [
          83.73094904533153
         ],
         "hovertemplate": "index=513<br>red=%{a}<br>green=%{b}<br>blue=%{c}<extra></extra>",
         "legendgroup": "513",
         "marker": {
          "color": "rgb(202.25435337164248,194.26748737553115,83.73094904533153)",
          "symbol": "circle"
         },
         "mode": "markers",
         "name": "513",
         "showlegend": true,
         "subplot": "ternary",
         "type": "scatterternary"
        },
        {
         "a": [
          104.95113359070075
         ],
         "b": [
          67.34467546561552
         ],
         "c": [
          129.6296095767414
         ],
         "hovertemplate": "index=704<br>red=%{a}<br>green=%{b}<br>blue=%{c}<extra></extra>",
         "legendgroup": "704",
         "marker": {
          "color": "rgb(104.95113359070075,67.34467546561552,129.6296095767414)",
          "symbol": "circle"
         },
         "mode": "markers",
         "name": "704",
         "showlegend": true,
         "subplot": "ternary",
         "type": "scatterternary"
        },
        {
         "a": [
          70.6644824226071
         ],
         "b": [
          122.21095696498818
         ],
         "c": [
          118.04511683414661
         ],
         "hovertemplate": "index=730<br>red=%{a}<br>green=%{b}<br>blue=%{c}<extra></extra>",
         "legendgroup": "730",
         "marker": {
          "color": "rgb(70.6644824226071,122.21095696498818,118.04511683414661)",
          "symbol": "circle"
         },
         "mode": "markers",
         "name": "730",
         "showlegend": true,
         "subplot": "ternary",
         "type": "scatterternary"
        },
        {
         "a": [
          53.38785006963183
         ],
         "b": [
          120.20130470054826
         ],
         "c": [
          139.99596739053152
         ],
         "hovertemplate": "index=SC30<br>red=%{a}<br>green=%{b}<br>blue=%{c}<extra></extra>",
         "legendgroup": "SC30",
         "marker": {
          "color": "rgb(53.38785006963183,120.20130470054826,139.99596739053152)",
          "symbol": "circle"
         },
         "mode": "markers",
         "name": "SC30",
         "showlegend": true,
         "subplot": "ternary",
         "type": "scatterternary"
        },
        {
         "a": [
          121.48089710744038
         ],
         "b": [
          119.8419705545314
         ],
         "c": [
          87.89676680156018
         ],
         "hovertemplate": "index=809<br>red=%{a}<br>green=%{b}<br>blue=%{c}<extra></extra>",
         "legendgroup": "809",
         "marker": {
          "color": "rgb(121.48089710744038,119.8419705545314,87.89676680156018)",
          "symbol": "circle"
         },
         "mode": "markers",
         "name": "809",
         "showlegend": true,
         "subplot": "ternary",
         "type": "scatterternary"
        },
        {
         "a": [
          196.20434036222974
         ],
         "b": [
          128.3327205378738
         ],
         "c": [
          107.56930953433277
         ],
         "hovertemplate": "index=749<br>red=%{a}<br>green=%{b}<br>blue=%{c}<extra></extra>",
         "legendgroup": "749",
         "marker": {
          "color": "rgb(196.20434036222974,128.3327205378738,107.56930953433277)",
          "symbol": "circle"
         },
         "mode": "markers",
         "name": "749",
         "showlegend": true,
         "subplot": "ternary",
         "type": "scatterternary"
        },
        {
         "a": [
          69.88669506704137
         ],
         "b": [
          98.33984728981324
         ],
         "c": [
          166.99511926755028
         ],
         "hovertemplate": "index=B71<br>red=%{a}<br>green=%{b}<br>blue=%{c}<extra></extra>",
         "legendgroup": "B71",
         "marker": {
          "color": "rgb(69.88669506704137,98.33984728981324,166.99511926755028)",
          "symbol": "circle"
         },
         "mode": "markers",
         "name": "B71",
         "showlegend": true,
         "subplot": "ternary",
         "type": "scatterternary"
        },
        {
         "a": [
          21.473893423885894
         ],
         "b": [
          145.37880448149284
         ],
         "c": [
          199.00629791370986
         ],
         "hovertemplate": "index=C45<br>red=%{a}<br>green=%{b}<br>blue=%{c}<extra></extra>",
         "legendgroup": "C45",
         "marker": {
          "color": "rgb(21.473893423885894,145.37880448149284,199.00629791370986)",
          "symbol": "circle"
         },
         "mode": "markers",
         "name": "C45",
         "showlegend": true,
         "subplot": "ternary",
         "type": "scatterternary"
        },
        {
         "a": [
          78.48713338360567
         ],
         "b": [
          95.00545295579266
         ],
         "c": [
          146.95623131449835
         ],
         "hovertemplate": "index=LD203<br>red=%{a}<br>green=%{b}<br>blue=%{c}<extra></extra>",
         "legendgroup": "LD203",
         "marker": {
          "color": "rgb(78.48713338360567,95.00545295579266,146.95623131449835)",
          "symbol": "circle"
         },
         "mode": "markers",
         "name": "LD203",
         "showlegend": true,
         "subplot": "ternary",
         "type": "scatterternary"
        },
        {
         "a": [
          157.26852067154758
         ],
         "b": [
          56.932836950975236
         ],
         "c": [
          98.73749729715821
         ],
         "hovertemplate": "index=M63<br>red=%{a}<br>green=%{b}<br>blue=%{c}<extra></extra>",
         "legendgroup": "M63",
         "marker": {
          "color": "rgb(157.26852067154758,56.932836950975236,98.73749729715821)",
          "symbol": "circle"
         },
         "mode": "markers",
         "name": "M63",
         "showlegend": true,
         "subplot": "ternary",
         "type": "scatterternary"
        },
        {
         "a": [
          146.66024749824706
         ],
         "b": [
          87.18400743865732
         ],
         "c": [
          102.45211149097844
         ],
         "hovertemplate": "index=M91<br>red=%{a}<br>green=%{b}<br>blue=%{c}<extra></extra>",
         "legendgroup": "M91",
         "marker": {
          "color": "rgb(146.66024749824706,87.18400743865732,102.45211149097844)",
          "symbol": "circle"
         },
         "mode": "markers",
         "name": "M91",
         "showlegend": true,
         "subplot": "ternary",
         "type": "scatterternary"
        },
        {
         "a": [
          127.21369666077545
         ],
         "b": [
          42.19271187161799
         ],
         "c": [
          132.27407573822592
         ],
         "hovertemplate": "index=V98<br>red=%{a}<br>green=%{b}<br>blue=%{c}<extra></extra>",
         "legendgroup": "V98",
         "marker": {
          "color": "rgb(127.21369666077545,42.19271187161799,132.27407573822592)",
          "symbol": "circle"
         },
         "mode": "markers",
         "name": "V98",
         "showlegend": true,
         "subplot": "ternary",
         "type": "scatterternary"
        }
       ],
       "layout": {
        "legend": {
         "title": {
          "text": "index"
         },
         "tracegroupgap": 0
        },
        "margin": {
         "t": 60
        },
        "template": {
         "data": {
          "bar": [
           {
            "error_x": {
             "color": "#2a3f5f"
            },
            "error_y": {
             "color": "#2a3f5f"
            },
            "marker": {
             "line": {
              "color": "#E5ECF6",
              "width": 0.5
             },
             "pattern": {
              "fillmode": "overlay",
              "size": 10,
              "solidity": 0.2
             }
            },
            "type": "bar"
           }
          ],
          "barpolar": [
           {
            "marker": {
             "line": {
              "color": "#E5ECF6",
              "width": 0.5
             },
             "pattern": {
              "fillmode": "overlay",
              "size": 10,
              "solidity": 0.2
             }
            },
            "type": "barpolar"
           }
          ],
          "carpet": [
           {
            "aaxis": {
             "endlinecolor": "#2a3f5f",
             "gridcolor": "white",
             "linecolor": "white",
             "minorgridcolor": "white",
             "startlinecolor": "#2a3f5f"
            },
            "baxis": {
             "endlinecolor": "#2a3f5f",
             "gridcolor": "white",
             "linecolor": "white",
             "minorgridcolor": "white",
             "startlinecolor": "#2a3f5f"
            },
            "type": "carpet"
           }
          ],
          "choropleth": [
           {
            "colorbar": {
             "outlinewidth": 0,
             "ticks": ""
            },
            "type": "choropleth"
           }
          ],
          "contour": [
           {
            "colorbar": {
             "outlinewidth": 0,
             "ticks": ""
            },
            "colorscale": [
             [
              0,
              "#0d0887"
             ],
             [
              0.1111111111111111,
              "#46039f"
             ],
             [
              0.2222222222222222,
              "#7201a8"
             ],
             [
              0.3333333333333333,
              "#9c179e"
             ],
             [
              0.4444444444444444,
              "#bd3786"
             ],
             [
              0.5555555555555556,
              "#d8576b"
             ],
             [
              0.6666666666666666,
              "#ed7953"
             ],
             [
              0.7777777777777778,
              "#fb9f3a"
             ],
             [
              0.8888888888888888,
              "#fdca26"
             ],
             [
              1,
              "#f0f921"
             ]
            ],
            "type": "contour"
           }
          ],
          "contourcarpet": [
           {
            "colorbar": {
             "outlinewidth": 0,
             "ticks": ""
            },
            "type": "contourcarpet"
           }
          ],
          "heatmap": [
           {
            "colorbar": {
             "outlinewidth": 0,
             "ticks": ""
            },
            "colorscale": [
             [
              0,
              "#0d0887"
             ],
             [
              0.1111111111111111,
              "#46039f"
             ],
             [
              0.2222222222222222,
              "#7201a8"
             ],
             [
              0.3333333333333333,
              "#9c179e"
             ],
             [
              0.4444444444444444,
              "#bd3786"
             ],
             [
              0.5555555555555556,
              "#d8576b"
             ],
             [
              0.6666666666666666,
              "#ed7953"
             ],
             [
              0.7777777777777778,
              "#fb9f3a"
             ],
             [
              0.8888888888888888,
              "#fdca26"
             ],
             [
              1,
              "#f0f921"
             ]
            ],
            "type": "heatmap"
           }
          ],
          "heatmapgl": [
           {
            "colorbar": {
             "outlinewidth": 0,
             "ticks": ""
            },
            "colorscale": [
             [
              0,
              "#0d0887"
             ],
             [
              0.1111111111111111,
              "#46039f"
             ],
             [
              0.2222222222222222,
              "#7201a8"
             ],
             [
              0.3333333333333333,
              "#9c179e"
             ],
             [
              0.4444444444444444,
              "#bd3786"
             ],
             [
              0.5555555555555556,
              "#d8576b"
             ],
             [
              0.6666666666666666,
              "#ed7953"
             ],
             [
              0.7777777777777778,
              "#fb9f3a"
             ],
             [
              0.8888888888888888,
              "#fdca26"
             ],
             [
              1,
              "#f0f921"
             ]
            ],
            "type": "heatmapgl"
           }
          ],
          "histogram": [
           {
            "marker": {
             "pattern": {
              "fillmode": "overlay",
              "size": 10,
              "solidity": 0.2
             }
            },
            "type": "histogram"
           }
          ],
          "histogram2d": [
           {
            "colorbar": {
             "outlinewidth": 0,
             "ticks": ""
            },
            "colorscale": [
             [
              0,
              "#0d0887"
             ],
             [
              0.1111111111111111,
              "#46039f"
             ],
             [
              0.2222222222222222,
              "#7201a8"
             ],
             [
              0.3333333333333333,
              "#9c179e"
             ],
             [
              0.4444444444444444,
              "#bd3786"
             ],
             [
              0.5555555555555556,
              "#d8576b"
             ],
             [
              0.6666666666666666,
              "#ed7953"
             ],
             [
              0.7777777777777778,
              "#fb9f3a"
             ],
             [
              0.8888888888888888,
              "#fdca26"
             ],
             [
              1,
              "#f0f921"
             ]
            ],
            "type": "histogram2d"
           }
          ],
          "histogram2dcontour": [
           {
            "colorbar": {
             "outlinewidth": 0,
             "ticks": ""
            },
            "colorscale": [
             [
              0,
              "#0d0887"
             ],
             [
              0.1111111111111111,
              "#46039f"
             ],
             [
              0.2222222222222222,
              "#7201a8"
             ],
             [
              0.3333333333333333,
              "#9c179e"
             ],
             [
              0.4444444444444444,
              "#bd3786"
             ],
             [
              0.5555555555555556,
              "#d8576b"
             ],
             [
              0.6666666666666666,
              "#ed7953"
             ],
             [
              0.7777777777777778,
              "#fb9f3a"
             ],
             [
              0.8888888888888888,
              "#fdca26"
             ],
             [
              1,
              "#f0f921"
             ]
            ],
            "type": "histogram2dcontour"
           }
          ],
          "mesh3d": [
           {
            "colorbar": {
             "outlinewidth": 0,
             "ticks": ""
            },
            "type": "mesh3d"
           }
          ],
          "parcoords": [
           {
            "line": {
             "colorbar": {
              "outlinewidth": 0,
              "ticks": ""
             }
            },
            "type": "parcoords"
           }
          ],
          "pie": [
           {
            "automargin": true,
            "type": "pie"
           }
          ],
          "scatter": [
           {
            "marker": {
             "colorbar": {
              "outlinewidth": 0,
              "ticks": ""
             }
            },
            "type": "scatter"
           }
          ],
          "scatter3d": [
           {
            "line": {
             "colorbar": {
              "outlinewidth": 0,
              "ticks": ""
             }
            },
            "marker": {
             "colorbar": {
              "outlinewidth": 0,
              "ticks": ""
             }
            },
            "type": "scatter3d"
           }
          ],
          "scattercarpet": [
           {
            "marker": {
             "colorbar": {
              "outlinewidth": 0,
              "ticks": ""
             }
            },
            "type": "scattercarpet"
           }
          ],
          "scattergeo": [
           {
            "marker": {
             "colorbar": {
              "outlinewidth": 0,
              "ticks": ""
             }
            },
            "type": "scattergeo"
           }
          ],
          "scattergl": [
           {
            "marker": {
             "colorbar": {
              "outlinewidth": 0,
              "ticks": ""
             }
            },
            "type": "scattergl"
           }
          ],
          "scattermapbox": [
           {
            "marker": {
             "colorbar": {
              "outlinewidth": 0,
              "ticks": ""
             }
            },
            "type": "scattermapbox"
           }
          ],
          "scatterpolar": [
           {
            "marker": {
             "colorbar": {
              "outlinewidth": 0,
              "ticks": ""
             }
            },
            "type": "scatterpolar"
           }
          ],
          "scatterpolargl": [
           {
            "marker": {
             "colorbar": {
              "outlinewidth": 0,
              "ticks": ""
             }
            },
            "type": "scatterpolargl"
           }
          ],
          "scatterternary": [
           {
            "marker": {
             "colorbar": {
              "outlinewidth": 0,
              "ticks": ""
             }
            },
            "type": "scatterternary"
           }
          ],
          "surface": [
           {
            "colorbar": {
             "outlinewidth": 0,
             "ticks": ""
            },
            "colorscale": [
             [
              0,
              "#0d0887"
             ],
             [
              0.1111111111111111,
              "#46039f"
             ],
             [
              0.2222222222222222,
              "#7201a8"
             ],
             [
              0.3333333333333333,
              "#9c179e"
             ],
             [
              0.4444444444444444,
              "#bd3786"
             ],
             [
              0.5555555555555556,
              "#d8576b"
             ],
             [
              0.6666666666666666,
              "#ed7953"
             ],
             [
              0.7777777777777778,
              "#fb9f3a"
             ],
             [
              0.8888888888888888,
              "#fdca26"
             ],
             [
              1,
              "#f0f921"
             ]
            ],
            "type": "surface"
           }
          ],
          "table": [
           {
            "cells": {
             "fill": {
              "color": "#EBF0F8"
             },
             "line": {
              "color": "white"
             }
            },
            "header": {
             "fill": {
              "color": "#C8D4E3"
             },
             "line": {
              "color": "white"
             }
            },
            "type": "table"
           }
          ]
         },
         "layout": {
          "annotationdefaults": {
           "arrowcolor": "#2a3f5f",
           "arrowhead": 0,
           "arrowwidth": 1
          },
          "autotypenumbers": "strict",
          "coloraxis": {
           "colorbar": {
            "outlinewidth": 0,
            "ticks": ""
           }
          },
          "colorscale": {
           "diverging": [
            [
             0,
             "#8e0152"
            ],
            [
             0.1,
             "#c51b7d"
            ],
            [
             0.2,
             "#de77ae"
            ],
            [
             0.3,
             "#f1b6da"
            ],
            [
             0.4,
             "#fde0ef"
            ],
            [
             0.5,
             "#f7f7f7"
            ],
            [
             0.6,
             "#e6f5d0"
            ],
            [
             0.7,
             "#b8e186"
            ],
            [
             0.8,
             "#7fbc41"
            ],
            [
             0.9,
             "#4d9221"
            ],
            [
             1,
             "#276419"
            ]
           ],
           "sequential": [
            [
             0,
             "#0d0887"
            ],
            [
             0.1111111111111111,
             "#46039f"
            ],
            [
             0.2222222222222222,
             "#7201a8"
            ],
            [
             0.3333333333333333,
             "#9c179e"
            ],
            [
             0.4444444444444444,
             "#bd3786"
            ],
            [
             0.5555555555555556,
             "#d8576b"
            ],
            [
             0.6666666666666666,
             "#ed7953"
            ],
            [
             0.7777777777777778,
             "#fb9f3a"
            ],
            [
             0.8888888888888888,
             "#fdca26"
            ],
            [
             1,
             "#f0f921"
            ]
           ],
           "sequentialminus": [
            [
             0,
             "#0d0887"
            ],
            [
             0.1111111111111111,
             "#46039f"
            ],
            [
             0.2222222222222222,
             "#7201a8"
            ],
            [
             0.3333333333333333,
             "#9c179e"
            ],
            [
             0.4444444444444444,
             "#bd3786"
            ],
            [
             0.5555555555555556,
             "#d8576b"
            ],
            [
             0.6666666666666666,
             "#ed7953"
            ],
            [
             0.7777777777777778,
             "#fb9f3a"
            ],
            [
             0.8888888888888888,
             "#fdca26"
            ],
            [
             1,
             "#f0f921"
            ]
           ]
          },
          "colorway": [
           "#636efa",
           "#EF553B",
           "#00cc96",
           "#ab63fa",
           "#FFA15A",
           "#19d3f3",
           "#FF6692",
           "#B6E880",
           "#FF97FF",
           "#FECB52"
          ],
          "font": {
           "color": "#2a3f5f"
          },
          "geo": {
           "bgcolor": "white",
           "lakecolor": "white",
           "landcolor": "#E5ECF6",
           "showlakes": true,
           "showland": true,
           "subunitcolor": "white"
          },
          "hoverlabel": {
           "align": "left"
          },
          "hovermode": "closest",
          "mapbox": {
           "style": "light"
          },
          "paper_bgcolor": "white",
          "plot_bgcolor": "#E5ECF6",
          "polar": {
           "angularaxis": {
            "gridcolor": "white",
            "linecolor": "white",
            "ticks": ""
           },
           "bgcolor": "#E5ECF6",
           "radialaxis": {
            "gridcolor": "white",
            "linecolor": "white",
            "ticks": ""
           }
          },
          "scene": {
           "xaxis": {
            "backgroundcolor": "#E5ECF6",
            "gridcolor": "white",
            "gridwidth": 2,
            "linecolor": "white",
            "showbackground": true,
            "ticks": "",
            "zerolinecolor": "white"
           },
           "yaxis": {
            "backgroundcolor": "#E5ECF6",
            "gridcolor": "white",
            "gridwidth": 2,
            "linecolor": "white",
            "showbackground": true,
            "ticks": "",
            "zerolinecolor": "white"
           },
           "zaxis": {
            "backgroundcolor": "#E5ECF6",
            "gridcolor": "white",
            "gridwidth": 2,
            "linecolor": "white",
            "showbackground": true,
            "ticks": "",
            "zerolinecolor": "white"
           }
          },
          "shapedefaults": {
           "line": {
            "color": "#2a3f5f"
           }
          },
          "ternary": {
           "aaxis": {
            "gridcolor": "white",
            "linecolor": "white",
            "ticks": ""
           },
           "baxis": {
            "gridcolor": "white",
            "linecolor": "white",
            "ticks": ""
           },
           "bgcolor": "#E5ECF6",
           "caxis": {
            "gridcolor": "white",
            "linecolor": "white",
            "ticks": ""
           }
          },
          "title": {
           "x": 0.05
          },
          "xaxis": {
           "automargin": true,
           "gridcolor": "white",
           "linecolor": "white",
           "ticks": "",
           "title": {
            "standoff": 15
           },
           "zerolinecolor": "white",
           "zerolinewidth": 2
          },
          "yaxis": {
           "automargin": true,
           "gridcolor": "white",
           "linecolor": "white",
           "ticks": "",
           "title": {
            "standoff": 15
           },
           "zerolinecolor": "white",
           "zerolinewidth": 2
          }
         }
        },
        "ternary": {
         "aaxis": {
          "title": {
           "text": "red"
          }
         },
         "baxis": {
          "title": {
           "text": "green"
          }
         },
         "caxis": {
          "title": {
           "text": "blue"
          }
         },
         "domain": {
          "x": [
           0,
           1
          ],
          "y": [
           0,
           1
          ]
         }
        }
       }
      }
     },
     "metadata": {},
     "output_type": "display_data"
    },
    {
     "name": "stdout",
     "output_type": "stream",
     "text": [
      "Labels of selected filters\n",
      "dict_keys(['002', '013', '036', '117', '138', '169', '176', '213', '513', '704', '730', 'SC30', '809', '749', 'B71', 'C45', 'LD203', 'M63', 'M91', 'V98'])\n"
     ]
    }
   ],
   "source": [
    "showSelection(bright_theory)\n",
    "print(\"\\n\")\n",
    "showSelection(bright_theory, mask=BUFFER_CODE)\n",
    "print(\"\\n\")\n",
    "showSelection(bright_theory, mask=BUFFER_CODE,buffer = 0.01)\n",
    "print(\"\\n\")\n",
    "showSelection(bright_theory, mask=BUFFER_CODE,buffer = 0.02)\n"
   ]
  }
 ],
 "metadata": {
  "interpreter": {
   "hash": "fe44fef87f92f48a3a32707d0df204585f471652bc0ce87358a3ce712bc24db0"
  },
  "kernelspec": {
   "display_name": "Python 3.9.7 64-bit",
   "name": "python3"
  },
  "language_info": {
   "codemirror_mode": {
    "name": "ipython",
    "version": 3
   },
   "file_extension": ".py",
   "mimetype": "text/x-python",
   "name": "python",
   "nbconvert_exporter": "python",
   "pygments_lexer": "ipython3",
   "version": "3.9.8"
  }
 },
 "nbformat": 4,
 "nbformat_minor": 5
}
