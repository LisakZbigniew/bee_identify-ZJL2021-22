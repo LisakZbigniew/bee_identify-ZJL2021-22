{
 "cells": [
  {
   "cell_type": "code",
   "execution_count": 162,
   "metadata": {},
   "outputs": [],
   "source": [
    "import numpy as np\n",
    "import math\n",
    "import matplotlib.pyplot as plt\n",
    "import plotly.express as px\n",
    "import pandas as pd\n",
    "import csv\n",
    "from shapely.ops import MultiPoint, Polygon, Point, voronoi_diagram\n",
    "from pprint import pprint\n",
    "from diversipy import subset as ss\n",
    "import cv2\n",
    "from scipy.optimize import curve_fit\n",
    "\n",
    "\n"
   ]
  },
  {
   "cell_type": "code",
   "execution_count": 163,
   "metadata": {},
   "outputs": [],
   "source": [
    "def psf(coord,amp,x0,y0,spreadX,spreadY,noise):\n",
    "    x = coord[0]\n",
    "    y= coord[1]\n",
    "    #print(coord)\n",
    "    result = amp * np.exp(-((x-x0)**2/2*spreadX**2+(y-y0)**2/2*spreadY**2)) + noise\n",
    "    #print(result)\n",
    "    return result"
   ]
  },
  {
   "cell_type": "code",
   "execution_count": 164,
   "metadata": {},
   "outputs": [],
   "source": [
    "photo_data = np.load(\"samples/photo_object_02D53783700_20220312_11%47%32.080878__0030_b.np\",allow_pickle=True)\n",
    "\n",
    "test = np.zeros((8,8),dtype = np.uint8)\n",
    "img = photo_data['img']\n",
    "bluephoto = np.array([[img[x][y] if y%2 != x%2 else 0 for y in range(img.shape[1])] for x in range(img.shape[0])],dtype = np.uint8)\n",
    "testColor = cv2.cvtColor(bluephoto, cv2.COLOR_BAYER_RG2BGR)"
   ]
  },
  {
   "cell_type": "code",
   "execution_count": 165,
   "metadata": {},
   "outputs": [
    {
     "data": {
      "image/png": "[encoded data removed]",
      "text/plain": [
       "<Figure size 432x288 with 1 Axes>"
      ]
     },
     "metadata": {
      "needs_background": "light"
     },
     "output_type": "display_data"
    },
    {
     "name": "stdout",
     "output_type": "stream",
     "text": [
      "[ 6.65180214e+00 -5.31954385e+00 -3.14505206e-03  1.03747974e-02\n",
      "  3.26610154e-05 -5.04560459e+00]\n"
     ]
    },
    {
     "data": {
      "image/png": "[encoded data removed]",
      "text/plain": [
       "<Figure size 432x288 with 1 Axes>"
      ]
     },
     "metadata": {
      "needs_background": "light"
     },
     "output_type": "display_data"
    }
   ],
   "source": [
    "photo_data = np.load(\"samples\\photo_object_02D53783700_20220312_11%47%32.080878__0030_b.np\",allow_pickle=True)\n",
    "\n",
    "img = photo_data['img']\n",
    "start = photo_data['start']\n",
    "\n",
    "green_vals = []\n",
    "green_coords = []\n",
    "plt.imshow(cv2.cvtColor(np.uint8(img*10), cv2.COLOR_BAYER_RG2BGR))\n",
    "plt.show()\n",
    "for y,row in enumerate(img):\n",
    "    for x,value in enumerate(row):\n",
    "        if(x%2 != y%2):\n",
    "            green_vals.append(value)\n",
    "            green_coords.append((x,y))\n",
    "        else:\n",
    "            img[y][x] = 0\n",
    "#print(np.array(green_coords))\n",
    "plt.imshow(img,cmap=\"Greys\")\n",
    "green_coords = np.array(green_coords)\n",
    "green_vals = np.array(green_vals)\n",
    "params, cov = curve_fit(psf,green_coords.T,green_vals,[0,0,0,0,0,0],maxfev = 10000)\n",
    "print(params)\n"
   ]
  },
  {
   "cell_type": "code",
   "execution_count": 166,
   "metadata": {},
   "outputs": [
    {
     "name": "stdout",
     "output_type": "stream",
     "text": [
      "[[1.59607507 1.59191606 1.5870457  1.58146556 1.57517744 1.56818337\n",
      "  1.56048559 1.55208657 1.54298903 1.53319587 1.52271024 1.5115355\n",
      "  1.49967522 1.4871332  1.47391343 1.46002014 1.44545774]\n",
      " [1.59607507 1.59191606 1.5870457  1.58146556 1.57517744 1.56818336\n",
      "  1.56048558 1.55208657 1.54298903 1.53319587 1.52271024 1.5115355\n",
      "  1.49967522 1.4871332  1.47391343 1.46002014 1.44545774]\n",
      " [1.59607506 1.59191605 1.58704569 1.58146555 1.57517743 1.56818335\n",
      "  1.56048557 1.55208656 1.54298901 1.53319586 1.52271023 1.51153549\n",
      "  1.49967521 1.48713319 1.47391342 1.46002013 1.44545773]\n",
      " [1.59607504 1.59191603 1.58704567 1.58146553 1.57517741 1.56818334\n",
      "  1.56048555 1.55208654 1.542989   1.53319584 1.52271021 1.51153547\n",
      "  1.49967519 1.48713317 1.4739134  1.46002011 1.44545771]\n",
      " [1.59607502 1.59191601 1.58704565 1.58146551 1.57517739 1.56818331\n",
      "  1.56048553 1.55208652 1.54298897 1.53319582 1.52271019 1.51153545\n",
      "  1.49967517 1.48713315 1.47391338 1.46002008 1.44545769]\n",
      " [1.59607499 1.59191597 1.58704561 1.58146548 1.57517736 1.56818328\n",
      "  1.5604855  1.55208649 1.54298894 1.53319578 1.52271016 1.51153541\n",
      "  1.49967514 1.48713311 1.47391335 1.46002005 1.44545765]\n",
      " [1.59607495 1.59191594 1.58704558 1.58146544 1.57517732 1.56818324\n",
      "  1.56048546 1.55208645 1.5429889  1.53319575 1.52271012 1.51153538\n",
      "  1.4996751  1.48713308 1.47391331 1.46002002 1.44545762]\n",
      " [1.5960749  1.59191589 1.58704553 1.58146539 1.57517727 1.5681832\n",
      "  1.56048541 1.5520864  1.54298886 1.5331957  1.52271007 1.51153533\n",
      "  1.49967505 1.48713303 1.47391326 1.46001997 1.44545757]\n",
      " [1.59607485 1.59191584 1.58704548 1.58146534 1.57517722 1.56818314\n",
      "  1.56048536 1.55208635 1.5429888  1.53319565 1.52271002 1.51153528\n",
      "  1.499675   1.48713298 1.47391321 1.46001992 1.44545752]\n",
      " [1.59607479 1.59191578 1.58704542 1.58146528 1.57517716 1.56818308\n",
      "  1.5604853  1.55208629 1.54298874 1.53319559 1.52270996 1.51153522\n",
      "  1.49967494 1.48713292 1.47391315 1.46001986 1.44545746]\n",
      " [1.59607472 1.59191571 1.58704535 1.58146521 1.57517709 1.56818302\n",
      "  1.56048523 1.55208622 1.54298868 1.53319552 1.52270989 1.51153515\n",
      "  1.49967488 1.48713285 1.47391309 1.46001979 1.44545739]\n",
      " [1.59607465 1.59191563 1.58704528 1.58146514 1.57517702 1.56818294\n",
      "  1.56048516 1.55208615 1.5429886  1.53319545 1.52270982 1.51153508\n",
      "  1.4996748  1.48713278 1.47391301 1.46001972 1.44545732]\n",
      " [1.59607456 1.59191555 1.58704519 1.58146506 1.57517694 1.56818286\n",
      "  1.56048508 1.55208607 1.54298852 1.53319537 1.52270974 1.511535\n",
      "  1.49967472 1.4871327  1.47391293 1.46001964 1.44545724]\n",
      " [1.59607448 1.59191547 1.58704511 1.58146497 1.57517685 1.56818277\n",
      "  1.56048499 1.55208598 1.54298843 1.53319528 1.52270965 1.51153491\n",
      "  1.49967463 1.48713261 1.47391285 1.46001955 1.44545716]\n",
      " [1.59607438 1.59191537 1.58704501 1.58146487 1.57517675 1.56818268\n",
      "  1.5604849  1.55208588 1.54298834 1.53319518 1.52270956 1.51153482\n",
      "  1.49967454 1.48713252 1.47391275 1.46001946 1.44545706]\n",
      " [1.59607428 1.59191527 1.58704491 1.58146477 1.57517665 1.56818257\n",
      "  1.56048479 1.55208578 1.54298824 1.53319508 1.52270945 1.51153472\n",
      "  1.49967444 1.48713242 1.47391265 1.46001936 1.44545696]\n",
      " [1.59607417 1.59191516 1.5870448  1.58146466 1.57517654 1.56818246\n",
      "  1.56048468 1.55208567 1.54298813 1.53319497 1.52270935 1.51153461\n",
      "  1.49967433 1.48713231 1.47391254 1.46001925 1.44545685]]\n"
     ]
    },
    {
     "data": {
      "image/png": "[encoded data removed]",
      "text/plain": [
       "<Figure size 432x288 with 1 Axes>"
      ]
     },
     "metadata": {
      "needs_background": "light"
     },
     "output_type": "display_data"
    },
    {
     "data": {
      "text/plain": [
       "<matplotlib.image.AxesImage at 0x248415c48b0>"
      ]
     },
     "execution_count": 166,
     "metadata": {},
     "output_type": "execute_result"
    },
    {
     "data": {
      "image/png": "[encoded data removed]",
      "text/plain": [
       "<Figure size 432x288 with 1 Axes>"
      ]
     },
     "metadata": {
      "needs_background": "light"
     },
     "output_type": "display_data"
    }
   ],
   "source": [
    "vals = np.zeros((17,17))\n",
    "for i in range(17):\n",
    "    for j in range(17):\n",
    "        vals[j,i] = psf((i,j),params[0],params[1],params[2],params[3],params[4],params[5])\n",
    "\n",
    "print(vals)\n",
    "plt.imshow(vals,cmap=\"Greys\")\n",
    "plt.show()\n",
    "plt.imshow(img,cmap=\"Greys\")"
   ]
  }
 ],
 "metadata": {
  "interpreter": {
   "hash": "f8b093c992d67cd5c70feebd9dee6c397d7585a5d645cfb663e391e2d503fa8d"
  },
  "kernelspec": {
   "display_name": "Python 3.9.12 64-bit (windows store)",
   "language": "python",
   "name": "python3"
  },
  "language_info": {
   "codemirror_mode": {
    "name": "ipython",
    "version": 3
   },
   "file_extension": ".py",
   "mimetype": "text/x-python",
   "name": "python",
   "nbconvert_exporter": "python",
   "pygments_lexer": "ipython3",
   "version": "3.9.12"
  },
  "orig_nbformat": 4
 },
 "nbformat": 4,
 "nbformat_minor": 2
}
